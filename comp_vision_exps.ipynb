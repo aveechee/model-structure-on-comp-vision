{
  "nbformat": 4,
  "nbformat_minor": 0,
  "metadata": {
    "colab": {
      "name": "msds458_hw02.ipynb",
      "provenance": [],
      "collapsed_sections": [
        "IpECOy2SF1Xs",
        "C9vARTj0GJrw",
        "f6bc5qZRGRNr"
      ]
    },
    "kernelspec": {
      "display_name": "Python 3",
      "name": "python3"
    },
    "language_info": {
      "name": "python"
    }
  },
  "cells": [
    {
      "cell_type": "code",
      "metadata": {
        "id": "eHmjw7WoBQS2"
      },
      "source": [
        "# Helper libraries\n",
        "import datetime\n",
        "import time\n",
        "from packaging import version\n",
        "import matplotlib.pyplot as plt\n",
        "import seaborn as sns\n",
        "\n",
        "import sklearn\n",
        "from sklearn.metrics import confusion_matrix\n",
        "from collections import Counter\n",
        "import numpy as np\n",
        "import pandas as pd\n",
        "\n",
        "# TensorFlow and tf.keras\n",
        "import tensorflow as tf\n",
        "from tensorflow import keras\n",
        "from tensorflow.keras.preprocessing import image\n",
        "from tensorflow.keras.preprocessing.image import ImageDataGenerator, array_to_img, img_to_array, load_img\n",
        "from tensorflow.keras.utils import to_categorical\n",
        "from tensorflow.keras import models, layers\n",
        "from tensorflow.keras.models import Sequential\n",
        "from tensorflow.keras.layers import Conv2D, MaxPooling2D\n",
        "from tensorflow.keras.layers import Dropout, Flatten, Input, Dense"
      ],
      "execution_count": null,
      "outputs": []
    },
    {
      "cell_type": "markdown",
      "metadata": {
        "id": "_AvnRGGk76Ub"
      },
      "source": [
        "##1. LOAD IN DATA, EDA, PRE-PROCESS"
      ]
    },
    {
      "cell_type": "code",
      "metadata": {
        "id": "gDtUZdZao3NB"
      },
      "source": [
        "#Cifar Dataset Load in\n",
        "\n",
        "(train_images, train_labels),(test_images, test_labels)= tf.keras.datasets.cifar10.load_data()\n"
      ],
      "execution_count": null,
      "outputs": []
    },
    {
      "cell_type": "code",
      "metadata": {
        "colab": {
          "base_uri": "https://localhost:8080/"
        },
        "id": "IGdU7ROwo3AS",
        "outputId": "0aa59025-ca0c-4376-cf17-febfac7e564e"
      },
      "source": [
        "#Check shape\n",
        "\n",
        "print(train_images.shape)\n",
        "print(train_labels.shape)\n",
        "print(test_images.shape)\n",
        "print(test_labels.shape)\n",
        "\n",
        "#Images are 32x32 with 3 color channels i.e. they are color images. \n",
        "#There are 50k test and 10k train "
      ],
      "execution_count": null,
      "outputs": [
        {
          "output_type": "stream",
          "text": [
            "(50000, 32, 32, 3)\n",
            "(50000, 1)\n",
            "(10000, 32, 32, 3)\n",
            "(10000, 1)\n"
          ],
          "name": "stdout"
        }
      ]
    },
    {
      "cell_type": "code",
      "metadata": {
        "colab": {
          "base_uri": "https://localhost:8080/"
        },
        "id": "58TupZiC75WC",
        "outputId": "318cd09a-f9f0-48b1-a949-968b70c9eab7"
      },
      "source": [
        "#Look at the training labels\n",
        "print(train_labels[0:10])\n",
        "\n",
        "#There are numeric but should be keywords for ease of use"
      ],
      "execution_count": null,
      "outputs": [
        {
          "output_type": "stream",
          "text": [
            "[[6]\n",
            " [9]\n",
            " [9]\n",
            " [4]\n",
            " [1]\n",
            " [1]\n",
            " [2]\n",
            " [7]\n",
            " [8]\n",
            " [3]]\n"
          ],
          "name": "stdout"
        }
      ]
    },
    {
      "cell_type": "code",
      "metadata": {
        "id": "e1u2RK3b75TC"
      },
      "source": [
        "#Take a look at the images\n",
        "\n",
        "def get_three_classes(x, y):\n",
        "    def indices_of(class_id):\n",
        "        indices, _ = np.where(y == float(class_id))\n",
        "        return indices\n",
        "\n",
        "    indices = np.concatenate([indices_of(0), indices_of(1), indices_of(2)], axis=0)\n",
        "    \n",
        "    x = x[indices]\n",
        "    y = y[indices]\n",
        "    \n",
        "    count = x.shape[0]\n",
        "    indices = np.random.choice(range(count), count, replace=False)\n",
        "    \n",
        "    x = x[indices]\n",
        "    y = y[indices]\n",
        "    \n",
        "    y = tf.keras.utils.to_categorical(y)\n",
        "    \n",
        "    return x, y"
      ],
      "execution_count": null,
      "outputs": []
    },
    {
      "cell_type": "code",
      "metadata": {
        "id": "ZbP0-zNTDRIR"
      },
      "source": [
        "(x_train, y_train), (x_test, y_test) = tf.keras.datasets.cifar10.load_data()\n",
        "\n",
        "x_preview, y_preview = get_three_classes(x_train, y_train)\n",
        "x_pre, y_pre = get_three_classes(x_test, y_test)"
      ],
      "execution_count": null,
      "outputs": []
    },
    {
      "cell_type": "code",
      "metadata": {
        "colab": {
          "base_uri": "https://localhost:8080/",
          "height": 289
        },
        "id": "Sd0TDjEADn79",
        "outputId": "f0327805-5598-4664-da27-5db55868cd98"
      },
      "source": [
        "class_names_preview = ['aeroplane', 'car', 'bird']\n",
        "\n",
        "def show_random_examples(x, y, p):\n",
        "    indices = np.random.choice(range(x.shape[0]), 10, replace=False)\n",
        "    \n",
        "    x = x[indices]\n",
        "    y = y[indices]\n",
        "    p = p[indices]\n",
        "    \n",
        "    plt.figure(figsize=(10, 5))\n",
        "    for i in range(10):\n",
        "        plt.subplot(2, 5, i + 1)\n",
        "        plt.imshow(x[i])\n",
        "        plt.xticks([])\n",
        "        plt.yticks([])\n",
        "        col = 'green' if np.argmax(y[i]) == np.argmax(p[i]) else 'red'\n",
        "        plt.xlabel(class_names_preview[np.argmax(p[i])], color=col)\n",
        "    plt.show()\n",
        "\n",
        "show_random_examples(x_preview, y_preview, y_preview)"
      ],
      "execution_count": null,
      "outputs": [
        {
          "output_type": "display_data",
          "data": {
            "image/png": "[encoded data removed]",
            "text/plain": [
              "<Figure size 720x360 with 10 Axes>"
            ]
          },
          "metadata": {
            "tags": []
          }
        }
      ]
    },
    {
      "cell_type": "code",
      "metadata": {
        "id": "QVwLTHS1Dy1S"
      },
      "source": [
        "#Preprocessing Data for Model\n",
        "\n",
        "class_names = ['airplane'\n",
        ",'automobile'\n",
        ",'bird'\n",
        ",'cat'\n",
        ",'deer'\n",
        ",'dog'\n",
        ",'frog' \n",
        ",'horse'\n",
        ",'ship'\n",
        ",'truck']"
      ],
      "execution_count": null,
      "outputs": []
    },
    {
      "cell_type": "code",
      "metadata": {
        "colab": {
          "base_uri": "https://localhost:8080/"
        },
        "id": "Vfuk7QucEJDF",
        "outputId": "7a991776-088e-476d-86d2-d460af7d27c1"
      },
      "source": [
        "train_images_norm=train_images.astype('float32')/255\n",
        "test_images_norm=test_images.astype('float32')/255\n",
        "\n",
        "print(train_images_norm.shape)\n",
        "print(test_images_norm.shape)"
      ],
      "execution_count": null,
      "outputs": [
        {
          "output_type": "stream",
          "text": [
            "(50000, 32, 32, 3)\n",
            "(10000, 32, 32, 3)\n"
          ],
          "name": "stdout"
        }
      ]
    },
    {
      "cell_type": "code",
      "metadata": {
        "colab": {
          "base_uri": "https://localhost:8080/"
        },
        "id": "29yVNSjSFAmC",
        "outputId": "e5ee89ad-cb10-4a70-d464-93b4734a2b0f"
      },
      "source": [
        "#Create a Validation Set\n",
        "\n",
        "val_images_norm, train_images_norm=train_images_norm[:3000],train_images_norm[3000:]\n",
        "val_labels,train_labels=train_labels[:3000],train_labels[3000:]\n",
        "\n",
        "print(val_images_norm.shape,val_labels.shape)\n",
        "print(train_images_norm.shape, train_labels.shape)"
      ],
      "execution_count": null,
      "outputs": [
        {
          "output_type": "stream",
          "text": [
            "(3000, 32, 32, 3) (3000, 1)\n",
            "(47000, 32, 32, 3) (47000, 1)\n"
          ],
          "name": "stdout"
        }
      ]
    },
    {
      "cell_type": "code",
      "metadata": {
        "id": "eqgYdw4EFpic"
      },
      "source": [
        ""
      ],
      "execution_count": null,
      "outputs": []
    },
    {
      "cell_type": "markdown",
      "metadata": {
        "id": "V2hcskqHFutS"
      },
      "source": [
        "#Experiments\n",
        "###Constants (1-4): \n",
        "*   epochs=50\n",
        "*   batch_size=100\n",
        "*   optimizer=adam\n",
        "*   loss function=sparse_categorical_crossentropy\n",
        "*   Dropout=0.3 (CNNs only)\n",
        "\n"
      ]
    },
    {
      "cell_type": "markdown",
      "metadata": {
        "id": "0VOiUu35hzIp"
      },
      "source": [
        "#Experiments 1-4"
      ]
    },
    {
      "cell_type": "markdown",
      "metadata": {
        "id": "IpECOy2SF1Xs"
      },
      "source": [
        "##Experiment 1\n",
        "### DNN with 2 layers (no regularization)"
      ]
    },
    {
      "cell_type": "code",
      "metadata": {
        "id": "TCO4rpDRF4li"
      },
      "source": [
        "theEpochs=50\n",
        "\n",
        "theActivation=tf.keras.activations.relu\n",
        "\n",
        "DENSE_LAYER_01=tf.keras.layers.Dense(units=128, activation=theActivation)\n",
        "DENSE_LAYER_02=tf.keras.layers.Dense(units=256, activation=theActivation)\n",
        "DENSE_LAYER_XX=tf.keras.layers.Dense(10, activation=tf.nn.softmax)\n",
        "\n",
        "\n",
        "theOptimizer=tf.keras.optimizers.Adam()\n",
        "theLossMetric=tf.keras.losses.SparseCategoricalCrossentropy()\n",
        "\n",
        "theBatchSize=100\n",
        "verboseFlag=True\n"
      ],
      "execution_count": null,
      "outputs": []
    },
    {
      "cell_type": "code",
      "metadata": {
        "id": "umE82LFUs07I"
      },
      "source": [
        "model=tf.keras.models.Sequential()\n",
        "model.add(tf.keras.layers.Flatten(input_shape=(32,32,3)))\n",
        "model.add(DENSE_LAYER_01)\n",
        "model.add(DENSE_LAYER_02)\n",
        "model.add(DENSE_LAYER_XX)\n"
      ],
      "execution_count": null,
      "outputs": []
    },
    {
      "cell_type": "code",
      "metadata": {
        "colab": {
          "base_uri": "https://localhost:8080/"
        },
        "id": "KkiKUd3-sfJh",
        "outputId": "fff5277a-b2be-42d9-d806-7da5e1bd52f4"
      },
      "source": [
        "model.summary()"
      ],
      "execution_count": null,
      "outputs": [
        {
          "output_type": "stream",
          "text": [
            "Model: \"sequential\"\n",
            "_________________________________________________________________\n",
            "Layer (type)                 Output Shape              Param #   \n",
            "=================================================================\n",
            "flatten (Flatten)            (None, 3072)              0         \n",
            "_________________________________________________________________\n",
            "dense (Dense)                (None, 128)               393344    \n",
            "_________________________________________________________________\n",
            "dense_1 (Dense)              (None, 256)               33024     \n",
            "_________________________________________________________________\n",
            "dense_2 (Dense)              (None, 10)                2570      \n",
            "=================================================================\n",
            "Total params: 428,938\n",
            "Trainable params: 428,938\n",
            "Non-trainable params: 0\n",
            "_________________________________________________________________\n"
          ],
          "name": "stdout"
        }
      ]
    },
    {
      "cell_type": "code",
      "metadata": {
        "id": "0WKBGi9Kt5XW"
      },
      "source": [
        "model.compile(optimizer=theOptimizer, loss=theLossMetric, metrics=['accuracy'])"
      ],
      "execution_count": null,
      "outputs": []
    },
    {
      "cell_type": "code",
      "metadata": {
        "colab": {
          "base_uri": "https://localhost:8080/"
        },
        "id": "scALDkqEG3Mv",
        "outputId": "f25a872c-5b99-49be-c46e-0a07b3078a07"
      },
      "source": [
        "# Build the Model\n",
        "\n",
        "start_time=time.time()\n",
        "\n",
        "\n",
        "history=model.fit(train_images_norm, train_labels, epochs=theEpochs, validation_data=(val_images_norm,val_labels), batch_size=theBatchSize, verbose=verboseFlag)\n",
        "\n",
        "\n",
        "print(\"Execution Time = \", (time.time()-start_time))\n"
      ],
      "execution_count": null,
      "outputs": [
        {
          "output_type": "stream",
          "text": [
            "Epoch 1/50\n",
            "470/470 [==============================] - 5s 3ms/step - loss: 1.8880 - accuracy: 0.3158 - val_loss: 1.7192 - val_accuracy: 0.3710\n",
            "Epoch 2/50\n",
            "470/470 [==============================] - 1s 3ms/step - loss: 1.6968 - accuracy: 0.3919 - val_loss: 1.6202 - val_accuracy: 0.4163\n",
            "Epoch 3/50\n",
            "470/470 [==============================] - 1s 3ms/step - loss: 1.6068 - accuracy: 0.4245 - val_loss: 1.5404 - val_accuracy: 0.4437\n",
            "Epoch 4/50\n",
            "470/470 [==============================] - 1s 3ms/step - loss: 1.5595 - accuracy: 0.4418 - val_loss: 1.5461 - val_accuracy: 0.4367\n",
            "Epoch 5/50\n",
            "470/470 [==============================] - 1s 3ms/step - loss: 1.5170 - accuracy: 0.4585 - val_loss: 1.5215 - val_accuracy: 0.4467\n",
            "Epoch 6/50\n",
            "470/470 [==============================] - 1s 3ms/step - loss: 1.4827 - accuracy: 0.4703 - val_loss: 1.5274 - val_accuracy: 0.4540\n",
            "Epoch 7/50\n",
            "470/470 [==============================] - 1s 3ms/step - loss: 1.4606 - accuracy: 0.4800 - val_loss: 1.4684 - val_accuracy: 0.4743\n",
            "Epoch 8/50\n",
            "470/470 [==============================] - 1s 3ms/step - loss: 1.4362 - accuracy: 0.4907 - val_loss: 1.4661 - val_accuracy: 0.4797\n",
            "Epoch 9/50\n",
            "470/470 [==============================] - 1s 3ms/step - loss: 1.4221 - accuracy: 0.4931 - val_loss: 1.4600 - val_accuracy: 0.4763\n",
            "Epoch 10/50\n",
            "470/470 [==============================] - 1s 3ms/step - loss: 1.4082 - accuracy: 0.4982 - val_loss: 1.4683 - val_accuracy: 0.4767\n",
            "Epoch 11/50\n",
            "470/470 [==============================] - 1s 3ms/step - loss: 1.3924 - accuracy: 0.5050 - val_loss: 1.4808 - val_accuracy: 0.4610\n",
            "Epoch 12/50\n",
            "470/470 [==============================] - 1s 3ms/step - loss: 1.3804 - accuracy: 0.5071 - val_loss: 1.4429 - val_accuracy: 0.4837\n",
            "Epoch 13/50\n",
            "470/470 [==============================] - 1s 3ms/step - loss: 1.3683 - accuracy: 0.5142 - val_loss: 1.4552 - val_accuracy: 0.4790\n",
            "Epoch 14/50\n",
            "470/470 [==============================] - 1s 3ms/step - loss: 1.3517 - accuracy: 0.5183 - val_loss: 1.4786 - val_accuracy: 0.4713\n",
            "Epoch 15/50\n",
            "470/470 [==============================] - 1s 3ms/step - loss: 1.3354 - accuracy: 0.5237 - val_loss: 1.4540 - val_accuracy: 0.4857\n",
            "Epoch 16/50\n",
            "470/470 [==============================] - 1s 3ms/step - loss: 1.3360 - accuracy: 0.5233 - val_loss: 1.4582 - val_accuracy: 0.4783\n",
            "Epoch 17/50\n",
            "470/470 [==============================] - 1s 3ms/step - loss: 1.3280 - accuracy: 0.5260 - val_loss: 1.4105 - val_accuracy: 0.4993\n",
            "Epoch 18/50\n",
            "470/470 [==============================] - 1s 3ms/step - loss: 1.3101 - accuracy: 0.5358 - val_loss: 1.4386 - val_accuracy: 0.4810\n",
            "Epoch 19/50\n",
            "470/470 [==============================] - 1s 3ms/step - loss: 1.3036 - accuracy: 0.5347 - val_loss: 1.4290 - val_accuracy: 0.4937\n",
            "Epoch 20/50\n",
            "470/470 [==============================] - 1s 3ms/step - loss: 1.2943 - accuracy: 0.5399 - val_loss: 1.3944 - val_accuracy: 0.5053\n",
            "Epoch 21/50\n",
            "470/470 [==============================] - 1s 3ms/step - loss: 1.2843 - accuracy: 0.5423 - val_loss: 1.3924 - val_accuracy: 0.4973\n",
            "Epoch 22/50\n",
            "470/470 [==============================] - 1s 3ms/step - loss: 1.2780 - accuracy: 0.5460 - val_loss: 1.4412 - val_accuracy: 0.4883\n",
            "Epoch 23/50\n",
            "470/470 [==============================] - 1s 3ms/step - loss: 1.2723 - accuracy: 0.5448 - val_loss: 1.3867 - val_accuracy: 0.5030\n",
            "Epoch 24/50\n",
            "470/470 [==============================] - 1s 3ms/step - loss: 1.2672 - accuracy: 0.5486 - val_loss: 1.3906 - val_accuracy: 0.5030\n",
            "Epoch 25/50\n",
            "470/470 [==============================] - 1s 3ms/step - loss: 1.2581 - accuracy: 0.5523 - val_loss: 1.3957 - val_accuracy: 0.5020\n",
            "Epoch 26/50\n",
            "470/470 [==============================] - 1s 3ms/step - loss: 1.2526 - accuracy: 0.5540 - val_loss: 1.4249 - val_accuracy: 0.5067\n",
            "Epoch 27/50\n",
            "470/470 [==============================] - 1s 3ms/step - loss: 1.2413 - accuracy: 0.5577 - val_loss: 1.4012 - val_accuracy: 0.5107\n",
            "Epoch 28/50\n",
            "470/470 [==============================] - 1s 3ms/step - loss: 1.2385 - accuracy: 0.5590 - val_loss: 1.3943 - val_accuracy: 0.5070\n",
            "Epoch 29/50\n",
            "470/470 [==============================] - 1s 3ms/step - loss: 1.2332 - accuracy: 0.5603 - val_loss: 1.3957 - val_accuracy: 0.5043\n",
            "Epoch 30/50\n",
            "470/470 [==============================] - 1s 3ms/step - loss: 1.2274 - accuracy: 0.5594 - val_loss: 1.3778 - val_accuracy: 0.5160\n",
            "Epoch 31/50\n",
            "470/470 [==============================] - 1s 3ms/step - loss: 1.2224 - accuracy: 0.5616 - val_loss: 1.3820 - val_accuracy: 0.5063\n",
            "Epoch 32/50\n",
            "470/470 [==============================] - 1s 3ms/step - loss: 1.2176 - accuracy: 0.5643 - val_loss: 1.4442 - val_accuracy: 0.5007\n",
            "Epoch 33/50\n",
            "470/470 [==============================] - 1s 3ms/step - loss: 1.2090 - accuracy: 0.5666 - val_loss: 1.4246 - val_accuracy: 0.5000\n",
            "Epoch 34/50\n",
            "470/470 [==============================] - 1s 3ms/step - loss: 1.2066 - accuracy: 0.5701 - val_loss: 1.4276 - val_accuracy: 0.4987\n",
            "Epoch 35/50\n",
            "470/470 [==============================] - 1s 3ms/step - loss: 1.2040 - accuracy: 0.5690 - val_loss: 1.4391 - val_accuracy: 0.4890\n",
            "Epoch 36/50\n",
            "470/470 [==============================] - 1s 3ms/step - loss: 1.1978 - accuracy: 0.5719 - val_loss: 1.3708 - val_accuracy: 0.5207\n",
            "Epoch 37/50\n",
            "470/470 [==============================] - 1s 3ms/step - loss: 1.1863 - accuracy: 0.5751 - val_loss: 1.4434 - val_accuracy: 0.4957\n",
            "Epoch 38/50\n",
            "470/470 [==============================] - 1s 3ms/step - loss: 1.1919 - accuracy: 0.5710 - val_loss: 1.4293 - val_accuracy: 0.5077\n",
            "Epoch 39/50\n",
            "470/470 [==============================] - 1s 3ms/step - loss: 1.1834 - accuracy: 0.5764 - val_loss: 1.4184 - val_accuracy: 0.5067\n",
            "Epoch 40/50\n",
            "470/470 [==============================] - 1s 3ms/step - loss: 1.1797 - accuracy: 0.5776 - val_loss: 1.4000 - val_accuracy: 0.5143\n",
            "Epoch 41/50\n",
            "470/470 [==============================] - 1s 3ms/step - loss: 1.1689 - accuracy: 0.5801 - val_loss: 1.4267 - val_accuracy: 0.5180\n",
            "Epoch 42/50\n",
            "470/470 [==============================] - 1s 3ms/step - loss: 1.1681 - accuracy: 0.5826 - val_loss: 1.4096 - val_accuracy: 0.5140\n",
            "Epoch 43/50\n",
            "470/470 [==============================] - 1s 3ms/step - loss: 1.1752 - accuracy: 0.5796 - val_loss: 1.4279 - val_accuracy: 0.4970\n",
            "Epoch 44/50\n",
            "470/470 [==============================] - 1s 3ms/step - loss: 1.1628 - accuracy: 0.5813 - val_loss: 1.4148 - val_accuracy: 0.5087\n",
            "Epoch 45/50\n",
            "470/470 [==============================] - 1s 3ms/step - loss: 1.1622 - accuracy: 0.5830 - val_loss: 1.4521 - val_accuracy: 0.4953\n",
            "Epoch 46/50\n",
            "470/470 [==============================] - 1s 3ms/step - loss: 1.1641 - accuracy: 0.5827 - val_loss: 1.4206 - val_accuracy: 0.5047\n",
            "Epoch 47/50\n",
            "470/470 [==============================] - 1s 2ms/step - loss: 1.1513 - accuracy: 0.5867 - val_loss: 1.4119 - val_accuracy: 0.5153\n",
            "Epoch 48/50\n",
            "470/470 [==============================] - 1s 3ms/step - loss: 1.1447 - accuracy: 0.5894 - val_loss: 1.4387 - val_accuracy: 0.5137\n",
            "Epoch 49/50\n",
            "470/470 [==============================] - 1s 3ms/step - loss: 1.1480 - accuracy: 0.5896 - val_loss: 1.4388 - val_accuracy: 0.5003\n",
            "Epoch 50/50\n",
            "470/470 [==============================] - 1s 3ms/step - loss: 1.1422 - accuracy: 0.5899 - val_loss: 1.4207 - val_accuracy: 0.5120\n",
            "Execution Time =  82.9204614162445\n"
          ],
          "name": "stdout"
        }
      ]
    },
    {
      "cell_type": "code",
      "metadata": {
        "colab": {
          "base_uri": "https://localhost:8080/"
        },
        "id": "sS9bKFWMhv60",
        "outputId": "f8a83ab1-30f1-48c5-ed53-fbb927272602"
      },
      "source": [
        "#Check Accuracy\n",
        "preds=model.predict(test_images_norm)\n",
        "\n",
        "#Evaluate the Model-Accuracy\n",
        "loss,accuracy=model.evaluate(test_images_norm,test_labels)\n",
        "print('Test Set Accuracy: ', accuracy*100,'%', 'Test Set Loss: ', loss)\n",
        "\n"
      ],
      "execution_count": null,
      "outputs": [
        {
          "output_type": "stream",
          "text": [
            "313/313 [==============================] - 1s 3ms/step - loss: 1.4539 - accuracy: 0.4979\n",
            "Test Set Accuracy:  49.790000915527344 % Test Set Loss:  1.4538507461547852\n"
          ],
          "name": "stdout"
        }
      ]
    },
    {
      "cell_type": "code",
      "metadata": {
        "colab": {
          "base_uri": "https://localhost:8080/",
          "height": 508
        },
        "id": "hY__2XBlk_D6",
        "outputId": "7071f70a-440d-4b24-cc5e-80f3fae78983"
      },
      "source": [
        "#Confusion Matrix\n",
        "pred_classes=np.argmax(model.predict(test_images_norm),axis=-1)\n",
        "conf_mx=tf.math.confusion_matrix(test_labels,pred_classes)\n",
        "\n",
        "plt.figure(figsize=(16,8))\n",
        "plt.matshow(conf_mx,cmap=plt.cm.Blues,fignum=1)\n",
        "plt.xlabel('Predicted Classes')\n",
        "plt.ylabel('Actual Classes')\n",
        "plt.show()"
      ],
      "execution_count": null,
      "outputs": [
        {
          "output_type": "display_data",
          "data": {
            "image/png": "[encoded data removed]",
            "text/plain": [
              "<Figure size 1152x576 with 1 Axes>"
            ]
          },
          "metadata": {
            "tags": [],
            "needs_background": "light"
          }
        }
      ]
    },
    {
      "cell_type": "code",
      "metadata": {
        "id": "iciRqoC5EGik"
      },
      "source": [
        "#Plotting Performance Metrics\n",
        "\n",
        "hist_dict=history.history\n",
        "hist_dict.keys()"
      ],
      "execution_count": null,
      "outputs": []
    },
    {
      "cell_type": "code",
      "metadata": {
        "id": "JuiemtlBEJ0A"
      },
      "source": [
        "losses=history.history['loss']\n",
        "accs=history.history['accuracy']\n",
        "val_losses=history.history['val_loss']\n",
        "val_accs=history.history['val_accuracy']\n",
        "epochs=len(losses)"
      ],
      "execution_count": null,
      "outputs": []
    },
    {
      "cell_type": "code",
      "metadata": {
        "id": "u7xOuMY4Jp4T"
      },
      "source": [
        "plt.figure(figsize=(16, 4))\n",
        "for i, metrics in enumerate(zip([losses, accs], [val_losses, val_accs], ['Loss', 'Accuracy'])):\n",
        "    plt.subplot(1, 2, i + 1)\n",
        "    plt.plot(range(epochs), metrics[0], label='Training {}'.format(metrics[2]))\n",
        "    plt.plot(range(epochs), metrics[1], label='Validation {}'.format(metrics[2]))\n",
        "    plt.legend()\n",
        "plt.show()"
      ],
      "execution_count": null,
      "outputs": []
    },
    {
      "cell_type": "markdown",
      "metadata": {
        "id": "C9vARTj0GJrw"
      },
      "source": [
        "##Experiment 2\n",
        "###DNN with 3 layers (no regularization)"
      ]
    },
    {
      "cell_type": "code",
      "metadata": {
        "id": "EqwpOvEgNAHR"
      },
      "source": [
        "theEpochs=50\n",
        "\n",
        "theActivation=tf.keras.activations.relu\n",
        "\n",
        "DENSE_LAYER_01=tf.keras.layers.Dense(units=128, activation=theActivation)\n",
        "DENSE_LAYER_02=tf.keras.layers.Dense(units=256, activation=theActivation)\n",
        "DENSE_LAYER_03=tf.keras.layers.Dense(units=512, activation=theActivation)\n",
        "DENSE_LAYER_XX=tf.keras.layers.Dense(10, activation=tf.nn.softmax)\n",
        "\n",
        "\n",
        "theOptimizer=tf.keras.optimizers.Adam()\n",
        "theLossMetric=tf.keras.losses.SparseCategoricalCrossentropy()\n",
        "\n",
        "theBatchSize=100\n",
        "verboseFlag=True\n"
      ],
      "execution_count": null,
      "outputs": []
    },
    {
      "cell_type": "code",
      "metadata": {
        "id": "Hkx0mtIUvTmC"
      },
      "source": [
        "model=tf.keras.models.Sequential()\n",
        "model.add(tf.keras.layers.Flatten(input_shape=(32,32,3)))\n",
        "model.add(DENSE_LAYER_01)\n",
        "model.add(DENSE_LAYER_02)\n",
        "model.add(DENSE_LAYER_03)\n",
        "model.add(DENSE_LAYER_XX)"
      ],
      "execution_count": null,
      "outputs": []
    },
    {
      "cell_type": "code",
      "metadata": {
        "colab": {
          "base_uri": "https://localhost:8080/"
        },
        "id": "JpgY6YcFvPxn",
        "outputId": "ca6f3850-637d-40f8-905a-155a2a60c2ab"
      },
      "source": [
        "model.summary()"
      ],
      "execution_count": null,
      "outputs": [
        {
          "output_type": "stream",
          "text": [
            "Model: \"sequential_2\"\n",
            "_________________________________________________________________\n",
            "Layer (type)                 Output Shape              Param #   \n",
            "=================================================================\n",
            "flatten_2 (Flatten)          (None, 3072)              0         \n",
            "_________________________________________________________________\n",
            "dense_7 (Dense)              (None, 128)               393344    \n",
            "_________________________________________________________________\n",
            "dense_8 (Dense)              (None, 256)               33024     \n",
            "_________________________________________________________________\n",
            "dense_9 (Dense)              (None, 512)               131584    \n",
            "_________________________________________________________________\n",
            "dense_10 (Dense)             (None, 10)                5130      \n",
            "=================================================================\n",
            "Total params: 563,082\n",
            "Trainable params: 563,082\n",
            "Non-trainable params: 0\n",
            "_________________________________________________________________\n"
          ],
          "name": "stdout"
        }
      ]
    },
    {
      "cell_type": "code",
      "metadata": {
        "id": "ElDqjaEmvUy4"
      },
      "source": [
        "model.compile(optimizer=theOptimizer, loss=theLossMetric, metrics=['accuracy'])"
      ],
      "execution_count": null,
      "outputs": []
    },
    {
      "cell_type": "code",
      "metadata": {
        "colab": {
          "base_uri": "https://localhost:8080/"
        },
        "id": "yNcXvi-wNAHS",
        "outputId": "b5a1062d-9d5f-422a-cfc8-4004b8508a27"
      },
      "source": [
        "# Build the Model\n",
        "\n",
        "start_time=time.time()\n",
        "\n",
        "\n",
        "\n",
        "history=model.fit(train_images_norm, train_labels, epochs=theEpochs, validation_data=(val_images_norm,val_labels), batch_size=theBatchSize, verbose=verboseFlag)\n",
        "\n",
        "\n",
        "print(\"Execution Time = \", (time.time()-start_time))\n",
        "\n"
      ],
      "execution_count": null,
      "outputs": [
        {
          "output_type": "stream",
          "text": [
            "Epoch 1/50\n",
            "470/470 [==============================] - 4s 8ms/step - loss: 0.8696 - accuracy: 0.6850 - val_loss: 1.6436 - val_accuracy: 0.4860\n",
            "Epoch 2/50\n",
            "470/470 [==============================] - 4s 8ms/step - loss: 0.8484 - accuracy: 0.6923 - val_loss: 1.6385 - val_accuracy: 0.4870\n",
            "Epoch 3/50\n",
            "470/470 [==============================] - 4s 8ms/step - loss: 0.8136 - accuracy: 0.7031 - val_loss: 1.6962 - val_accuracy: 0.4753\n",
            "Epoch 4/50\n",
            "470/470 [==============================] - 4s 8ms/step - loss: 0.7723 - accuracy: 0.7189 - val_loss: 1.8148 - val_accuracy: 0.4753\n",
            "Epoch 5/50\n",
            "470/470 [==============================] - 4s 8ms/step - loss: 0.7410 - accuracy: 0.7313 - val_loss: 1.8011 - val_accuracy: 0.4833\n",
            "Epoch 6/50\n",
            "470/470 [==============================] - 4s 8ms/step - loss: 0.7265 - accuracy: 0.7375 - val_loss: 1.8626 - val_accuracy: 0.4813\n",
            "Epoch 7/50\n",
            "470/470 [==============================] - 4s 8ms/step - loss: 0.6938 - accuracy: 0.7460 - val_loss: 1.9316 - val_accuracy: 0.4823\n",
            "Epoch 8/50\n",
            "470/470 [==============================] - 4s 8ms/step - loss: 0.6574 - accuracy: 0.7607 - val_loss: 1.9493 - val_accuracy: 0.4850\n",
            "Epoch 9/50\n",
            "470/470 [==============================] - 4s 8ms/step - loss: 0.6307 - accuracy: 0.7719 - val_loss: 2.0407 - val_accuracy: 0.4717\n",
            "Epoch 10/50\n",
            "470/470 [==============================] - 4s 8ms/step - loss: 0.6239 - accuracy: 0.7738 - val_loss: 2.1008 - val_accuracy: 0.4767\n",
            "Epoch 11/50\n",
            "470/470 [==============================] - 4s 8ms/step - loss: 0.5930 - accuracy: 0.7867 - val_loss: 2.1094 - val_accuracy: 0.4690\n",
            "Epoch 12/50\n",
            "470/470 [==============================] - 4s 8ms/step - loss: 0.5684 - accuracy: 0.7931 - val_loss: 2.2116 - val_accuracy: 0.4667\n",
            "Epoch 13/50\n",
            "470/470 [==============================] - 4s 8ms/step - loss: 0.5506 - accuracy: 0.7994 - val_loss: 2.2512 - val_accuracy: 0.4703\n",
            "Epoch 14/50\n",
            "470/470 [==============================] - 4s 8ms/step - loss: 0.5230 - accuracy: 0.8100 - val_loss: 2.2779 - val_accuracy: 0.4697\n",
            "Epoch 15/50\n",
            "470/470 [==============================] - 4s 8ms/step - loss: 0.5015 - accuracy: 0.8179 - val_loss: 2.4276 - val_accuracy: 0.4780\n",
            "Epoch 16/50\n",
            "470/470 [==============================] - 4s 8ms/step - loss: 0.4746 - accuracy: 0.8279 - val_loss: 2.5450 - val_accuracy: 0.4587\n",
            "Epoch 17/50\n",
            "470/470 [==============================] - 4s 8ms/step - loss: 0.4626 - accuracy: 0.8319 - val_loss: 2.5335 - val_accuracy: 0.4710\n",
            "Epoch 18/50\n",
            "470/470 [==============================] - 4s 8ms/step - loss: 0.4495 - accuracy: 0.8390 - val_loss: 2.6220 - val_accuracy: 0.4783\n",
            "Epoch 19/50\n",
            "470/470 [==============================] - 4s 8ms/step - loss: 0.4427 - accuracy: 0.8390 - val_loss: 2.6629 - val_accuracy: 0.4497\n",
            "Epoch 20/50\n",
            "470/470 [==============================] - 4s 8ms/step - loss: 0.4280 - accuracy: 0.8436 - val_loss: 2.7104 - val_accuracy: 0.4637\n",
            "Epoch 21/50\n",
            "470/470 [==============================] - 4s 8ms/step - loss: 0.4143 - accuracy: 0.8492 - val_loss: 2.8652 - val_accuracy: 0.4507\n",
            "Epoch 22/50\n",
            "470/470 [==============================] - 4s 8ms/step - loss: 0.3923 - accuracy: 0.8582 - val_loss: 2.8820 - val_accuracy: 0.4467\n",
            "Epoch 23/50\n",
            "470/470 [==============================] - 4s 8ms/step - loss: 0.3850 - accuracy: 0.8608 - val_loss: 3.0610 - val_accuracy: 0.4600\n",
            "Epoch 24/50\n",
            "470/470 [==============================] - 4s 8ms/step - loss: 0.3612 - accuracy: 0.8691 - val_loss: 3.0298 - val_accuracy: 0.4477\n",
            "Epoch 25/50\n",
            "470/470 [==============================] - 4s 8ms/step - loss: 0.3768 - accuracy: 0.8631 - val_loss: 3.1193 - val_accuracy: 0.4550\n",
            "Epoch 26/50\n",
            "470/470 [==============================] - 4s 8ms/step - loss: 0.3566 - accuracy: 0.8701 - val_loss: 3.1462 - val_accuracy: 0.4647\n",
            "Epoch 27/50\n",
            "470/470 [==============================] - 4s 8ms/step - loss: 0.3439 - accuracy: 0.8760 - val_loss: 3.1877 - val_accuracy: 0.4657\n",
            "Epoch 28/50\n",
            "470/470 [==============================] - 4s 8ms/step - loss: 0.3277 - accuracy: 0.8814 - val_loss: 3.2519 - val_accuracy: 0.4480\n",
            "Epoch 29/50\n",
            "470/470 [==============================] - 4s 8ms/step - loss: 0.3406 - accuracy: 0.8778 - val_loss: 3.4440 - val_accuracy: 0.4473\n",
            "Epoch 30/50\n",
            "470/470 [==============================] - 4s 8ms/step - loss: 0.3187 - accuracy: 0.8846 - val_loss: 3.4071 - val_accuracy: 0.4443\n",
            "Epoch 31/50\n",
            "470/470 [==============================] - 4s 8ms/step - loss: 0.3233 - accuracy: 0.8829 - val_loss: 3.5139 - val_accuracy: 0.4490\n",
            "Epoch 32/50\n",
            "470/470 [==============================] - 4s 8ms/step - loss: 0.3054 - accuracy: 0.8874 - val_loss: 3.5994 - val_accuracy: 0.4420\n",
            "Epoch 33/50\n",
            "470/470 [==============================] - 4s 8ms/step - loss: 0.2870 - accuracy: 0.8972 - val_loss: 3.6690 - val_accuracy: 0.4510\n",
            "Epoch 34/50\n",
            "470/470 [==============================] - 4s 8ms/step - loss: 0.2763 - accuracy: 0.9015 - val_loss: 3.6459 - val_accuracy: 0.4490\n",
            "Epoch 35/50\n",
            "470/470 [==============================] - 4s 8ms/step - loss: 0.2858 - accuracy: 0.8971 - val_loss: 3.7056 - val_accuracy: 0.4633\n",
            "Epoch 36/50\n",
            "470/470 [==============================] - 4s 8ms/step - loss: 0.2982 - accuracy: 0.8933 - val_loss: 3.7872 - val_accuracy: 0.4507\n",
            "Epoch 37/50\n",
            "470/470 [==============================] - 4s 8ms/step - loss: 0.2395 - accuracy: 0.9148 - val_loss: 3.8944 - val_accuracy: 0.4400\n",
            "Epoch 38/50\n",
            "470/470 [==============================] - 4s 8ms/step - loss: 0.2527 - accuracy: 0.9092 - val_loss: 4.0390 - val_accuracy: 0.4497\n",
            "Epoch 39/50\n",
            "470/470 [==============================] - 4s 8ms/step - loss: 0.2605 - accuracy: 0.9066 - val_loss: 4.0382 - val_accuracy: 0.4557\n",
            "Epoch 40/50\n",
            "470/470 [==============================] - 4s 8ms/step - loss: 0.3093 - accuracy: 0.8918 - val_loss: 4.0692 - val_accuracy: 0.4407\n",
            "Epoch 41/50\n",
            "470/470 [==============================] - 4s 8ms/step - loss: 0.2826 - accuracy: 0.9002 - val_loss: 4.1720 - val_accuracy: 0.4400\n",
            "Epoch 42/50\n",
            "470/470 [==============================] - 4s 8ms/step - loss: 0.2529 - accuracy: 0.9096 - val_loss: 4.0861 - val_accuracy: 0.4460\n",
            "Epoch 43/50\n",
            "470/470 [==============================] - 4s 8ms/step - loss: 0.2154 - accuracy: 0.9231 - val_loss: 4.2495 - val_accuracy: 0.4487\n",
            "Epoch 44/50\n",
            "470/470 [==============================] - 4s 8ms/step - loss: 0.2606 - accuracy: 0.9070 - val_loss: 4.4160 - val_accuracy: 0.4477\n",
            "Epoch 45/50\n",
            "470/470 [==============================] - 4s 8ms/step - loss: 0.2680 - accuracy: 0.9050 - val_loss: 4.3870 - val_accuracy: 0.4450\n",
            "Epoch 46/50\n",
            "470/470 [==============================] - 4s 8ms/step - loss: 0.2301 - accuracy: 0.9179 - val_loss: 4.3750 - val_accuracy: 0.4450\n",
            "Epoch 47/50\n",
            "470/470 [==============================] - 4s 8ms/step - loss: 0.2201 - accuracy: 0.9211 - val_loss: 4.4766 - val_accuracy: 0.4497\n",
            "Epoch 48/50\n",
            "470/470 [==============================] - 4s 8ms/step - loss: 0.2406 - accuracy: 0.9146 - val_loss: 4.4643 - val_accuracy: 0.4527\n",
            "Epoch 49/50\n",
            "470/470 [==============================] - 4s 8ms/step - loss: 0.2085 - accuracy: 0.9259 - val_loss: 4.6378 - val_accuracy: 0.4520\n",
            "Epoch 50/50\n",
            "470/470 [==============================] - 4s 8ms/step - loss: 0.2615 - accuracy: 0.9079 - val_loss: 4.4332 - val_accuracy: 0.4607\n",
            "Execution Time =  188.13093328475952\n"
          ],
          "name": "stdout"
        }
      ]
    },
    {
      "cell_type": "code",
      "metadata": {
        "colab": {
          "base_uri": "https://localhost:8080/"
        },
        "id": "tyVFvXWXo5UH",
        "outputId": "fdfbb6a1-45b4-4da1-fee5-8210a32c792c"
      },
      "source": [
        "#Check Accuracy\n",
        "preds=model.predict(test_images_norm)\n",
        "\n",
        "#Evaluate the Model-Accuracy\n",
        "loss,accuracy=model.evaluate(test_images_norm,test_labels)\n",
        "print('Test Set Accuracy: ', accuracy*100,'%', 'Test Set Loss: ', loss)\n",
        "\n"
      ],
      "execution_count": null,
      "outputs": [
        {
          "output_type": "stream",
          "text": [
            "313/313 [==============================] - 1s 2ms/step - loss: 4.5419 - accuracy: 0.4563\n",
            "Test Set Accuracy:  45.62999904155731 % Test Set Loss:  4.541862487792969\n"
          ],
          "name": "stdout"
        }
      ]
    },
    {
      "cell_type": "code",
      "metadata": {
        "id": "QTWOMPBxo5UI",
        "colab": {
          "base_uri": "https://localhost:8080/",
          "height": 508
        },
        "outputId": "d21736b9-ac92-4930-f400-86e39ab1d7c9"
      },
      "source": [
        "#Confusion Matrix\n",
        "pred_classes=np.argmax(model.predict(test_images_norm),axis=-1)\n",
        "conf_mx=tf.math.confusion_matrix(test_labels,pred_classes)\n",
        "\n",
        "plt.figure(figsize=(16,8))\n",
        "plt.matshow(conf_mx,cmap=plt.cm.Blues,fignum=1)\n",
        "plt.xlabel('Predicted Classes')\n",
        "plt.ylabel('Actual Classes')\n",
        "plt.show()"
      ],
      "execution_count": null,
      "outputs": [
        {
          "output_type": "display_data",
          "data": {
            "image/png": "[encoded data removed]",
            "text/plain": [
              "<Figure size 1152x576 with 1 Axes>"
            ]
          },
          "metadata": {
            "tags": [],
            "needs_background": "light"
          }
        }
      ]
    },
    {
      "cell_type": "code",
      "metadata": {
        "id": "GXdNwErao5UI",
        "colab": {
          "base_uri": "https://localhost:8080/"
        },
        "outputId": "94563e75-5420-4458-a060-3b9164080488"
      },
      "source": [
        "#Plotting Performance Metrics\n",
        "\n",
        "hist_dict=history.history\n",
        "hist_dict.keys()"
      ],
      "execution_count": null,
      "outputs": [
        {
          "output_type": "execute_result",
          "data": {
            "text/plain": [
              "dict_keys(['loss', 'accuracy', 'val_loss', 'val_accuracy'])"
            ]
          },
          "metadata": {
            "tags": []
          },
          "execution_count": 40
        }
      ]
    },
    {
      "cell_type": "code",
      "metadata": {
        "id": "_0PsIDw9o5UJ"
      },
      "source": [
        "losses=history.history['loss']\n",
        "accs=history.history['accuracy']\n",
        "val_losses=history.history['val_loss']\n",
        "val_accs=history.history['val_accuracy']\n",
        "epochs=len(losses)"
      ],
      "execution_count": null,
      "outputs": []
    },
    {
      "cell_type": "code",
      "metadata": {
        "id": "JfqG3sYro5UK",
        "colab": {
          "base_uri": "https://localhost:8080/",
          "height": 265
        },
        "outputId": "429ff490-54c4-43e1-e112-7d5db799d221"
      },
      "source": [
        "plt.figure(figsize=(16, 4))\n",
        "for i, metrics in enumerate(zip([losses, accs], [val_losses, val_accs], ['Loss', 'Accuracy'])):\n",
        "    plt.subplot(1, 2, i + 1)\n",
        "    plt.plot(range(epochs), metrics[0], label='Training {}'.format(metrics[2]))\n",
        "    plt.plot(range(epochs), metrics[1], label='Validation {}'.format(metrics[2]))\n",
        "    plt.legend()\n",
        "plt.show()"
      ],
      "execution_count": null,
      "outputs": [
        {
          "output_type": "display_data",
          "data": {
            "image/png": "[encoded data removed]",
            "text/plain": [
              "<Figure size 1152x288 with 2 Axes>"
            ]
          },
          "metadata": {
            "tags": [],
            "needs_background": "light"
          }
        }
      ]
    },
    {
      "cell_type": "markdown",
      "metadata": {
        "id": "jChGk4h5GJ7Q"
      },
      "source": [
        "##Experiment 3\n",
        "###CNN with 2 convolution/max pooling layers (no regularization)"
      ]
    },
    {
      "cell_type": "code",
      "metadata": {
        "id": "7LFyXXVwKVW1"
      },
      "source": [
        "model = models.Sequential()\n",
        "model.add(layers.Conv2D(filters=128, kernel_size=(3, 3), strides=(1, 1), activation=tf.nn.relu,input_shape=(32, 32, 3)))\n",
        "model.add(layers.MaxPool2D((2, 2),strides=2))\n",
        "model.add(layers.Dropout(0.3))\n",
        "model.add(layers.Conv2D(filters=256, kernel_size=(3, 3), strides=(1, 1), activation=tf.nn.relu))\n",
        "model.add(layers.MaxPool2D(pool_size=(2, 2),strides=2))\n",
        "model.add(layers.Dropout(0.3))\n",
        "model.add(layers.Flatten())\n",
        "model.add(layers.Dense(units=384, activation=tf.nn.relu))\n",
        "model.add(layers.Dense(units=10, activation=tf.nn.softmax))\n"
      ],
      "execution_count": null,
      "outputs": []
    },
    {
      "cell_type": "code",
      "metadata": {
        "id": "ch4xAItxKVW6",
        "colab": {
          "base_uri": "https://localhost:8080/"
        },
        "outputId": "71b623ed-cecf-412b-b9a3-6a0208919f23"
      },
      "source": [
        "model.summary()"
      ],
      "execution_count": null,
      "outputs": [
        {
          "output_type": "stream",
          "text": [
            "Model: \"sequential_3\"\n",
            "_________________________________________________________________\n",
            "Layer (type)                 Output Shape              Param #   \n",
            "=================================================================\n",
            "conv2d (Conv2D)              (None, 30, 30, 128)       3584      \n",
            "_________________________________________________________________\n",
            "max_pooling2d (MaxPooling2D) (None, 15, 15, 128)       0         \n",
            "_________________________________________________________________\n",
            "dropout (Dropout)            (None, 15, 15, 128)       0         \n",
            "_________________________________________________________________\n",
            "conv2d_1 (Conv2D)            (None, 13, 13, 256)       295168    \n",
            "_________________________________________________________________\n",
            "max_pooling2d_1 (MaxPooling2 (None, 6, 6, 256)         0         \n",
            "_________________________________________________________________\n",
            "dropout_1 (Dropout)          (None, 6, 6, 256)         0         \n",
            "_________________________________________________________________\n",
            "flatten_3 (Flatten)          (None, 9216)              0         \n",
            "_________________________________________________________________\n",
            "dense_11 (Dense)             (None, 384)               3539328   \n",
            "_________________________________________________________________\n",
            "dense_12 (Dense)             (None, 10)                3850      \n",
            "=================================================================\n",
            "Total params: 3,841,930\n",
            "Trainable params: 3,841,930\n",
            "Non-trainable params: 0\n",
            "_________________________________________________________________\n"
          ],
          "name": "stdout"
        }
      ]
    },
    {
      "cell_type": "code",
      "metadata": {
        "id": "xSVLQYuIKVW7"
      },
      "source": [
        "#keras.utils.plot_model(model, \"CIFAR10.png\", show_shapes=True) "
      ],
      "execution_count": null,
      "outputs": []
    },
    {
      "cell_type": "code",
      "metadata": {
        "id": "0Gj2bGqlKVW-"
      },
      "source": [
        "model.compile(optimizer='adam',\n",
        "              loss=tf.keras.losses.SparseCategoricalCrossentropy(from_logits=False),\n",
        "              metrics=['accuracy'])"
      ],
      "execution_count": null,
      "outputs": []
    },
    {
      "cell_type": "code",
      "metadata": {
        "id": "6vPOO42cKVW_",
        "colab": {
          "base_uri": "https://localhost:8080/"
        },
        "outputId": "727f90f4-075e-47a1-c396-c50193eadfbd"
      },
      "source": [
        "start_time=time.time()\n",
        "\n",
        "history = model.fit(train_images_norm\n",
        "                    ,train_labels\n",
        "                    ,epochs=50\n",
        "                    ,batch_size=100\n",
        "                    ,validation_data=(val_images_norm,val_labels)\n",
        "                    #,callbacks=[\n",
        "                    #tf.keras.callbacks.EarlyStopping(monitor='val_accuracy', patience=3),\n",
        "                    #tf.keras.callbacks.ModelCheckpoint('./models/model_{val_accuracy:.4f}.h5', save_best_only=True,\n",
        "                                       # save_weights_only=False, monitor='val_accuracy')]                                                                                                           \n",
        "                   )\n",
        "\n",
        "print(\"Execution Time = \", (time.time()-start_time))"
      ],
      "execution_count": null,
      "outputs": [
        {
          "output_type": "stream",
          "text": [
            "Epoch 1/50\n",
            "470/470 [==============================] - 38s 14ms/step - loss: 1.5031 - accuracy: 0.4604 - val_loss: 1.1678 - val_accuracy: 0.5930\n",
            "Epoch 2/50\n",
            "470/470 [==============================] - 7s 14ms/step - loss: 1.1420 - accuracy: 0.5957 - val_loss: 0.9869 - val_accuracy: 0.6570\n",
            "Epoch 3/50\n",
            "470/470 [==============================] - 7s 14ms/step - loss: 0.9994 - accuracy: 0.6511 - val_loss: 0.8998 - val_accuracy: 0.6903\n",
            "Epoch 4/50\n",
            "470/470 [==============================] - 6s 14ms/step - loss: 0.8873 - accuracy: 0.6880 - val_loss: 0.8746 - val_accuracy: 0.6927\n",
            "Epoch 5/50\n",
            "470/470 [==============================] - 7s 14ms/step - loss: 0.8011 - accuracy: 0.7204 - val_loss: 0.7808 - val_accuracy: 0.7317\n",
            "Epoch 6/50\n",
            "470/470 [==============================] - 7s 14ms/step - loss: 0.7194 - accuracy: 0.7466 - val_loss: 0.7647 - val_accuracy: 0.7423\n",
            "Epoch 7/50\n",
            "470/470 [==============================] - 7s 14ms/step - loss: 0.6502 - accuracy: 0.7728 - val_loss: 0.7445 - val_accuracy: 0.7477\n",
            "Epoch 8/50\n",
            "470/470 [==============================] - 7s 14ms/step - loss: 0.5901 - accuracy: 0.7925 - val_loss: 0.7653 - val_accuracy: 0.7363\n",
            "Epoch 9/50\n",
            "470/470 [==============================] - 7s 14ms/step - loss: 0.5236 - accuracy: 0.8176 - val_loss: 0.7504 - val_accuracy: 0.7420\n",
            "Epoch 10/50\n",
            "470/470 [==============================] - 7s 14ms/step - loss: 0.4741 - accuracy: 0.8324 - val_loss: 0.7740 - val_accuracy: 0.7527\n",
            "Epoch 11/50\n",
            "470/470 [==============================] - 7s 14ms/step - loss: 0.4263 - accuracy: 0.8478 - val_loss: 0.8080 - val_accuracy: 0.7427\n",
            "Epoch 12/50\n",
            "470/470 [==============================] - 7s 14ms/step - loss: 0.3851 - accuracy: 0.8651 - val_loss: 0.8442 - val_accuracy: 0.7447\n",
            "Epoch 13/50\n",
            "470/470 [==============================] - 7s 14ms/step - loss: 0.3448 - accuracy: 0.8760 - val_loss: 0.8637 - val_accuracy: 0.7417\n",
            "Epoch 14/50\n",
            "470/470 [==============================] - 7s 14ms/step - loss: 0.3072 - accuracy: 0.8907 - val_loss: 0.9023 - val_accuracy: 0.7430\n",
            "Epoch 15/50\n",
            "470/470 [==============================] - 7s 14ms/step - loss: 0.2902 - accuracy: 0.8959 - val_loss: 0.8905 - val_accuracy: 0.7527\n",
            "Epoch 16/50\n",
            "470/470 [==============================] - 7s 15ms/step - loss: 0.2579 - accuracy: 0.9086 - val_loss: 0.9414 - val_accuracy: 0.7430\n",
            "Epoch 17/50\n",
            "470/470 [==============================] - 7s 14ms/step - loss: 0.2457 - accuracy: 0.9135 - val_loss: 0.9901 - val_accuracy: 0.7410\n",
            "Epoch 18/50\n",
            "470/470 [==============================] - 7s 14ms/step - loss: 0.2243 - accuracy: 0.9209 - val_loss: 1.0074 - val_accuracy: 0.7453\n",
            "Epoch 19/50\n",
            "470/470 [==============================] - 7s 14ms/step - loss: 0.2103 - accuracy: 0.9246 - val_loss: 0.9877 - val_accuracy: 0.7473\n",
            "Epoch 20/50\n",
            "470/470 [==============================] - 7s 14ms/step - loss: 0.2074 - accuracy: 0.9279 - val_loss: 1.0421 - val_accuracy: 0.7403\n",
            "Epoch 21/50\n",
            "470/470 [==============================] - 7s 14ms/step - loss: 0.1905 - accuracy: 0.9320 - val_loss: 1.0642 - val_accuracy: 0.7410\n",
            "Epoch 22/50\n",
            "470/470 [==============================] - 7s 14ms/step - loss: 0.1835 - accuracy: 0.9359 - val_loss: 1.0798 - val_accuracy: 0.7310\n",
            "Epoch 23/50\n",
            "470/470 [==============================] - 7s 14ms/step - loss: 0.1677 - accuracy: 0.9411 - val_loss: 1.1562 - val_accuracy: 0.7353\n",
            "Epoch 24/50\n",
            "470/470 [==============================] - 7s 14ms/step - loss: 0.1683 - accuracy: 0.9409 - val_loss: 1.0998 - val_accuracy: 0.7487\n",
            "Epoch 25/50\n",
            "470/470 [==============================] - 7s 14ms/step - loss: 0.1578 - accuracy: 0.9453 - val_loss: 1.1828 - val_accuracy: 0.7373\n",
            "Epoch 26/50\n",
            "470/470 [==============================] - 7s 14ms/step - loss: 0.1542 - accuracy: 0.9470 - val_loss: 1.2175 - val_accuracy: 0.7290\n",
            "Epoch 27/50\n",
            "470/470 [==============================] - 7s 14ms/step - loss: 0.1460 - accuracy: 0.9484 - val_loss: 1.2171 - val_accuracy: 0.7357\n",
            "Epoch 28/50\n",
            "470/470 [==============================] - 7s 14ms/step - loss: 0.1386 - accuracy: 0.9521 - val_loss: 1.2209 - val_accuracy: 0.7377\n",
            "Epoch 29/50\n",
            "470/470 [==============================] - 7s 14ms/step - loss: 0.1334 - accuracy: 0.9544 - val_loss: 1.2877 - val_accuracy: 0.7343\n",
            "Epoch 30/50\n",
            "470/470 [==============================] - 7s 14ms/step - loss: 0.1274 - accuracy: 0.9564 - val_loss: 1.3059 - val_accuracy: 0.7390\n",
            "Epoch 31/50\n",
            "470/470 [==============================] - 7s 14ms/step - loss: 0.1331 - accuracy: 0.9539 - val_loss: 1.2331 - val_accuracy: 0.7440\n",
            "Epoch 32/50\n",
            "470/470 [==============================] - 7s 14ms/step - loss: 0.1354 - accuracy: 0.9544 - val_loss: 1.2676 - val_accuracy: 0.7313\n",
            "Epoch 33/50\n",
            "470/470 [==============================] - 7s 14ms/step - loss: 0.1301 - accuracy: 0.9567 - val_loss: 1.2696 - val_accuracy: 0.7323\n",
            "Epoch 34/50\n",
            "470/470 [==============================] - 7s 14ms/step - loss: 0.1235 - accuracy: 0.9572 - val_loss: 1.3027 - val_accuracy: 0.7383\n",
            "Epoch 35/50\n",
            "470/470 [==============================] - 7s 14ms/step - loss: 0.1271 - accuracy: 0.9574 - val_loss: 1.2914 - val_accuracy: 0.7400\n",
            "Epoch 36/50\n",
            "470/470 [==============================] - 7s 14ms/step - loss: 0.1186 - accuracy: 0.9584 - val_loss: 1.3086 - val_accuracy: 0.7410\n",
            "Epoch 37/50\n",
            "470/470 [==============================] - 7s 14ms/step - loss: 0.1210 - accuracy: 0.9594 - val_loss: 1.3886 - val_accuracy: 0.7363\n",
            "Epoch 38/50\n",
            "470/470 [==============================] - 7s 14ms/step - loss: 0.1162 - accuracy: 0.9604 - val_loss: 1.3860 - val_accuracy: 0.7303\n",
            "Epoch 39/50\n",
            "470/470 [==============================] - 7s 14ms/step - loss: 0.1191 - accuracy: 0.9603 - val_loss: 1.3540 - val_accuracy: 0.7370\n",
            "Epoch 40/50\n",
            "470/470 [==============================] - 7s 14ms/step - loss: 0.1136 - accuracy: 0.9624 - val_loss: 1.4334 - val_accuracy: 0.7307\n",
            "Epoch 41/50\n",
            "470/470 [==============================] - 7s 14ms/step - loss: 0.1119 - accuracy: 0.9625 - val_loss: 1.4098 - val_accuracy: 0.7350\n",
            "Epoch 42/50\n",
            "470/470 [==============================] - 7s 14ms/step - loss: 0.1036 - accuracy: 0.9646 - val_loss: 1.3395 - val_accuracy: 0.7437\n",
            "Epoch 43/50\n",
            "470/470 [==============================] - 7s 14ms/step - loss: 0.0978 - accuracy: 0.9661 - val_loss: 1.4096 - val_accuracy: 0.7483\n",
            "Epoch 44/50\n",
            "470/470 [==============================] - 6s 14ms/step - loss: 0.1104 - accuracy: 0.9630 - val_loss: 1.4948 - val_accuracy: 0.7353\n",
            "Epoch 45/50\n",
            "470/470 [==============================] - 7s 14ms/step - loss: 0.1015 - accuracy: 0.9668 - val_loss: 1.4056 - val_accuracy: 0.7427\n",
            "Epoch 46/50\n",
            "470/470 [==============================] - 7s 14ms/step - loss: 0.0943 - accuracy: 0.9681 - val_loss: 1.3911 - val_accuracy: 0.7497\n",
            "Epoch 47/50\n",
            "470/470 [==============================] - 7s 14ms/step - loss: 0.0980 - accuracy: 0.9674 - val_loss: 1.4981 - val_accuracy: 0.7310\n",
            "Epoch 48/50\n",
            "470/470 [==============================] - 7s 14ms/step - loss: 0.1035 - accuracy: 0.9660 - val_loss: 1.5023 - val_accuracy: 0.7313\n",
            "Epoch 49/50\n",
            "470/470 [==============================] - 7s 14ms/step - loss: 0.0984 - accuracy: 0.9681 - val_loss: 1.4517 - val_accuracy: 0.7340\n",
            "Epoch 50/50\n",
            "470/470 [==============================] - 7s 14ms/step - loss: 0.0959 - accuracy: 0.9686 - val_loss: 1.4938 - val_accuracy: 0.7277\n",
            "Execution Time =  382.93308877944946\n"
          ],
          "name": "stdout"
        }
      ]
    },
    {
      "cell_type": "code",
      "metadata": {
        "colab": {
          "base_uri": "https://localhost:8080/"
        },
        "id": "xAgs96aVwzlm",
        "outputId": "d6368338-cbe2-4a82-fccd-dbc1856b343b"
      },
      "source": [
        "#Check Accuracy\n",
        "preds=model.predict(test_images_norm)\n",
        "\n",
        "#Evaluate the Model-Accuracy\n",
        "loss,accuracy=model.evaluate(test_images_norm,test_labels)\n",
        "print('Test Set Accuracy: ', accuracy*100,'%', 'Test Set Loss: ', loss)\n",
        "\n"
      ],
      "execution_count": null,
      "outputs": [
        {
          "output_type": "stream",
          "text": [
            "313/313 [==============================] - 1s 4ms/step - loss: 1.5441 - accuracy: 0.7277\n",
            "Test Set Accuracy:  72.76999950408936 % Test Set Loss:  1.5441302061080933\n"
          ],
          "name": "stdout"
        }
      ]
    },
    {
      "cell_type": "code",
      "metadata": {
        "colab": {
          "base_uri": "https://localhost:8080/",
          "height": 508
        },
        "id": "LMUrCbAUwzlq",
        "outputId": "a52b09c1-07c2-47cf-9974-0f9f67855daa"
      },
      "source": [
        "#Confusion Matrix\n",
        "pred_classes=np.argmax(model.predict(test_images_norm),axis=-1)\n",
        "conf_mx=tf.math.confusion_matrix(test_labels,pred_classes)\n",
        "\n",
        "plt.figure(figsize=(16,8))\n",
        "plt.matshow(conf_mx,cmap=plt.cm.Blues,fignum=1)\n",
        "plt.xlabel('Predicted Classes')\n",
        "plt.ylabel('Actual Classes')\n",
        "plt.show()"
      ],
      "execution_count": null,
      "outputs": [
        {
          "output_type": "display_data",
          "data": {
            "image/png": "[encoded data removed]",
            "text/plain": [
              "<Figure size 1152x576 with 1 Axes>"
            ]
          },
          "metadata": {
            "tags": [],
            "needs_background": "light"
          }
        }
      ]
    },
    {
      "cell_type": "code",
      "metadata": {
        "colab": {
          "base_uri": "https://localhost:8080/"
        },
        "id": "CAMe-ktVwzlr",
        "outputId": "92c68b52-d677-47cb-8d25-1c40f9233ca9"
      },
      "source": [
        "#Plotting Performance Metrics\n",
        "\n",
        "hist_dict=history.history\n",
        "hist_dict.keys()"
      ],
      "execution_count": null,
      "outputs": [
        {
          "output_type": "execute_result",
          "data": {
            "text/plain": [
              "dict_keys(['loss', 'accuracy', 'val_loss', 'val_accuracy'])"
            ]
          },
          "metadata": {
            "tags": []
          },
          "execution_count": 16
        }
      ]
    },
    {
      "cell_type": "code",
      "metadata": {
        "id": "BHPkH1-Jwzls"
      },
      "source": [
        "losses=history.history['loss']\n",
        "accs=history.history['accuracy']\n",
        "val_losses=history.history['val_loss']\n",
        "val_accs=history.history['val_accuracy']\n",
        "epochs=len(losses)"
      ],
      "execution_count": null,
      "outputs": []
    },
    {
      "cell_type": "code",
      "metadata": {
        "colab": {
          "base_uri": "https://localhost:8080/",
          "height": 265
        },
        "id": "lhPfERg-wzlt",
        "outputId": "e76a8f9e-f2d8-4644-965e-32201ac509eb"
      },
      "source": [
        "plt.figure(figsize=(16, 4))\n",
        "for i, metrics in enumerate(zip([losses, accs], [val_losses, val_accs], ['Loss', 'Accuracy'])):\n",
        "    plt.subplot(1, 2, i + 1)\n",
        "    plt.plot(range(epochs), metrics[0], label='Training {}'.format(metrics[2]))\n",
        "    plt.plot(range(epochs), metrics[1], label='Validation {}'.format(metrics[2]))\n",
        "    plt.legend()\n",
        "plt.show()"
      ],
      "execution_count": null,
      "outputs": [
        {
          "output_type": "display_data",
          "data": {
            "image/png": "[encoded data removed]",
            "text/plain": [
              "<Figure size 1152x288 with 2 Axes>"
            ]
          },
          "metadata": {
            "tags": [],
            "needs_background": "light"
          }
        }
      ]
    },
    {
      "cell_type": "markdown",
      "metadata": {
        "id": "dlWvB5ySGKHz"
      },
      "source": [
        "##Experiment 4\n",
        "###CNN with 3 convolution/max pooling layers (no regularization)"
      ]
    },
    {
      "cell_type": "code",
      "metadata": {
        "id": "kvkTqQo2GKHz"
      },
      "source": [
        "model = models.Sequential()\n",
        "model.add(layers.Conv2D(filters=128, kernel_size=(3, 3), strides=(1, 1), activation=tf.nn.relu,input_shape=(32, 32, 3)))\n",
        "model.add(layers.MaxPool2D((2, 2),strides=2))\n",
        "model.add(layers.Dropout(0.3))\n",
        "model.add(layers.Conv2D(filters=256, kernel_size=(3, 3), strides=(1, 1), activation=tf.nn.relu))\n",
        "model.add(layers.MaxPool2D(pool_size=(2, 2),strides=2))\n",
        "model.add(layers.Dropout(0.3))\n",
        "model.add(layers.Conv2D(filters=512, kernel_size=(3, 3), strides=(1, 1), activation=tf.nn.relu))\n",
        "model.add(layers.MaxPool2D(pool_size=(2, 2),strides=2))\n",
        "model.add(layers.Dropout(0.3))\n",
        "model.add(layers.Flatten())\n",
        "model.add(layers.Dense(units=384, activation=tf.nn.relu))\n",
        "model.add(layers.Dense(units=10, activation=tf.nn.softmax))\n"
      ],
      "execution_count": null,
      "outputs": []
    },
    {
      "cell_type": "code",
      "metadata": {
        "id": "S3DLQ1x-JHwJ",
        "colab": {
          "base_uri": "https://localhost:8080/"
        },
        "outputId": "ad0bc9db-8040-4e66-f89a-9a5e8cb07f76"
      },
      "source": [
        "model.summary()"
      ],
      "execution_count": null,
      "outputs": [
        {
          "output_type": "stream",
          "text": [
            "Model: \"sequential_1\"\n",
            "_________________________________________________________________\n",
            "Layer (type)                 Output Shape              Param #   \n",
            "=================================================================\n",
            "conv2d_6 (Conv2D)            (None, 30, 30, 128)       3584      \n",
            "_________________________________________________________________\n",
            "max_pooling2d_3 (MaxPooling2 (None, 15, 15, 128)       0         \n",
            "_________________________________________________________________\n",
            "dropout_2 (Dropout)          (None, 15, 15, 128)       0         \n",
            "_________________________________________________________________\n",
            "conv2d_7 (Conv2D)            (None, 13, 13, 256)       295168    \n",
            "_________________________________________________________________\n",
            "max_pooling2d_4 (MaxPooling2 (None, 6, 6, 256)         0         \n",
            "_________________________________________________________________\n",
            "dropout_3 (Dropout)          (None, 6, 6, 256)         0         \n",
            "_________________________________________________________________\n",
            "conv2d_8 (Conv2D)            (None, 4, 4, 512)         1180160   \n",
            "_________________________________________________________________\n",
            "max_pooling2d_5 (MaxPooling2 (None, 2, 2, 512)         0         \n",
            "_________________________________________________________________\n",
            "dropout_4 (Dropout)          (None, 2, 2, 512)         0         \n",
            "_________________________________________________________________\n",
            "flatten (Flatten)            (None, 2048)              0         \n",
            "_________________________________________________________________\n",
            "dense (Dense)                (None, 384)               786816    \n",
            "_________________________________________________________________\n",
            "dense_1 (Dense)              (None, 10)                3850      \n",
            "=================================================================\n",
            "Total params: 2,269,578\n",
            "Trainable params: 2,269,578\n",
            "Non-trainable params: 0\n",
            "_________________________________________________________________\n"
          ],
          "name": "stdout"
        }
      ]
    },
    {
      "cell_type": "code",
      "metadata": {
        "id": "nzQNqdd2JY7x"
      },
      "source": [
        "#keras.utils.plot_model(model, \"CIFAR10.png\", show_shapes=True) "
      ],
      "execution_count": null,
      "outputs": []
    },
    {
      "cell_type": "code",
      "metadata": {
        "id": "DNxbfIcXJtPh"
      },
      "source": [
        "model.compile(optimizer='adam',\n",
        "              loss=tf.keras.losses.SparseCategoricalCrossentropy(from_logits=False),\n",
        "              metrics=['accuracy'])"
      ],
      "execution_count": null,
      "outputs": []
    },
    {
      "cell_type": "code",
      "metadata": {
        "id": "W0tS6BiSJwVZ",
        "colab": {
          "base_uri": "https://localhost:8080/"
        },
        "outputId": "bf412c60-efcf-4549-a6a3-8c505cef5d03"
      },
      "source": [
        "start_time=time.time()\n",
        "\n",
        "history = model.fit(train_images_norm\n",
        "                    ,train_labels\n",
        "                    ,epochs=50\n",
        "                    ,batch_size=100\n",
        "                    ,validation_data=(val_images_norm,val_labels)\n",
        "                    #,callbacks=[\n",
        "                    #tf.keras.callbacks.EarlyStopping(monitor='val_accuracy', patience=3),\n",
        "                    #tf.keras.callbacks.ModelCheckpoint('./models/model_{val_accuracy:.4f}.h5', save_best_only=True,\n",
        "                                       # save_weights_only=False, monitor='val_accuracy')]                                                                                                           \n",
        "                   )\n",
        "\n",
        "print(\"Execution Time = \", (time.time()-start_time))"
      ],
      "execution_count": null,
      "outputs": [
        {
          "output_type": "stream",
          "text": [
            "Epoch 1/50\n",
            "470/470 [==============================] - 9s 17ms/step - loss: 1.5974 - accuracy: 0.4133 - val_loss: 1.2018 - val_accuracy: 0.5863\n",
            "Epoch 2/50\n",
            "470/470 [==============================] - 8s 17ms/step - loss: 1.1936 - accuracy: 0.5767 - val_loss: 1.0095 - val_accuracy: 0.6567\n",
            "Epoch 3/50\n",
            "470/470 [==============================] - 8s 17ms/step - loss: 1.0296 - accuracy: 0.6369 - val_loss: 0.8559 - val_accuracy: 0.6993\n",
            "Epoch 4/50\n",
            "470/470 [==============================] - 8s 17ms/step - loss: 0.9211 - accuracy: 0.6774 - val_loss: 0.8023 - val_accuracy: 0.7280\n",
            "Epoch 5/50\n",
            "470/470 [==============================] - 8s 17ms/step - loss: 0.8349 - accuracy: 0.7085 - val_loss: 0.7416 - val_accuracy: 0.7383\n",
            "Epoch 6/50\n",
            "470/470 [==============================] - 8s 17ms/step - loss: 0.7766 - accuracy: 0.7287 - val_loss: 0.7601 - val_accuracy: 0.7377\n",
            "Epoch 7/50\n",
            "470/470 [==============================] - 8s 17ms/step - loss: 0.7242 - accuracy: 0.7466 - val_loss: 0.7034 - val_accuracy: 0.7550\n",
            "Epoch 8/50\n",
            "470/470 [==============================] - 8s 17ms/step - loss: 0.6810 - accuracy: 0.7605 - val_loss: 0.6536 - val_accuracy: 0.7733\n",
            "Epoch 9/50\n",
            "470/470 [==============================] - 8s 17ms/step - loss: 0.6366 - accuracy: 0.7747 - val_loss: 0.6428 - val_accuracy: 0.7780\n",
            "Epoch 10/50\n",
            "470/470 [==============================] - 8s 17ms/step - loss: 0.6082 - accuracy: 0.7853 - val_loss: 0.6196 - val_accuracy: 0.7950\n",
            "Epoch 11/50\n",
            "470/470 [==============================] - 8s 17ms/step - loss: 0.5741 - accuracy: 0.7984 - val_loss: 0.6372 - val_accuracy: 0.7820\n",
            "Epoch 12/50\n",
            "470/470 [==============================] - 8s 17ms/step - loss: 0.5499 - accuracy: 0.8065 - val_loss: 0.6232 - val_accuracy: 0.7840\n",
            "Epoch 13/50\n",
            "470/470 [==============================] - 8s 17ms/step - loss: 0.5181 - accuracy: 0.8157 - val_loss: 0.6092 - val_accuracy: 0.7923\n",
            "Epoch 14/50\n",
            "470/470 [==============================] - 8s 17ms/step - loss: 0.4990 - accuracy: 0.8244 - val_loss: 0.6070 - val_accuracy: 0.7987\n",
            "Epoch 15/50\n",
            "470/470 [==============================] - 8s 17ms/step - loss: 0.4729 - accuracy: 0.8323 - val_loss: 0.5982 - val_accuracy: 0.7920\n",
            "Epoch 16/50\n",
            "470/470 [==============================] - 8s 17ms/step - loss: 0.4619 - accuracy: 0.8348 - val_loss: 0.5880 - val_accuracy: 0.8003\n",
            "Epoch 17/50\n",
            "470/470 [==============================] - 8s 17ms/step - loss: 0.4486 - accuracy: 0.8399 - val_loss: 0.5867 - val_accuracy: 0.7990\n",
            "Epoch 18/50\n",
            "470/470 [==============================] - 8s 17ms/step - loss: 0.4231 - accuracy: 0.8502 - val_loss: 0.6013 - val_accuracy: 0.7883\n",
            "Epoch 19/50\n",
            "470/470 [==============================] - 8s 17ms/step - loss: 0.4090 - accuracy: 0.8538 - val_loss: 0.6267 - val_accuracy: 0.7907\n",
            "Epoch 20/50\n",
            "470/470 [==============================] - 8s 17ms/step - loss: 0.3924 - accuracy: 0.8602 - val_loss: 0.5852 - val_accuracy: 0.8030\n",
            "Epoch 21/50\n",
            "470/470 [==============================] - 8s 17ms/step - loss: 0.3794 - accuracy: 0.8644 - val_loss: 0.6034 - val_accuracy: 0.7973\n",
            "Epoch 22/50\n",
            "470/470 [==============================] - 8s 17ms/step - loss: 0.3728 - accuracy: 0.8693 - val_loss: 0.6085 - val_accuracy: 0.8000\n",
            "Epoch 23/50\n",
            "470/470 [==============================] - 8s 17ms/step - loss: 0.3553 - accuracy: 0.8750 - val_loss: 0.6061 - val_accuracy: 0.8043\n",
            "Epoch 24/50\n",
            "470/470 [==============================] - 8s 17ms/step - loss: 0.3481 - accuracy: 0.8771 - val_loss: 0.6052 - val_accuracy: 0.8080\n",
            "Epoch 25/50\n",
            "470/470 [==============================] - 8s 17ms/step - loss: 0.3349 - accuracy: 0.8814 - val_loss: 0.6097 - val_accuracy: 0.8123\n",
            "Epoch 26/50\n",
            "470/470 [==============================] - 8s 17ms/step - loss: 0.3308 - accuracy: 0.8823 - val_loss: 0.6595 - val_accuracy: 0.7970\n",
            "Epoch 27/50\n",
            "470/470 [==============================] - 8s 17ms/step - loss: 0.3192 - accuracy: 0.8864 - val_loss: 0.6245 - val_accuracy: 0.8047\n",
            "Epoch 28/50\n",
            "470/470 [==============================] - 8s 17ms/step - loss: 0.3210 - accuracy: 0.8867 - val_loss: 0.6378 - val_accuracy: 0.8023\n",
            "Epoch 29/50\n",
            "470/470 [==============================] - 8s 17ms/step - loss: 0.3027 - accuracy: 0.8920 - val_loss: 0.6708 - val_accuracy: 0.7990\n",
            "Epoch 30/50\n",
            "470/470 [==============================] - 8s 17ms/step - loss: 0.2949 - accuracy: 0.8951 - val_loss: 0.6632 - val_accuracy: 0.7970\n",
            "Epoch 31/50\n",
            "470/470 [==============================] - 8s 17ms/step - loss: 0.2902 - accuracy: 0.8970 - val_loss: 0.6884 - val_accuracy: 0.8000\n",
            "Epoch 32/50\n",
            "470/470 [==============================] - 8s 17ms/step - loss: 0.2822 - accuracy: 0.9003 - val_loss: 0.7012 - val_accuracy: 0.7983\n",
            "Epoch 33/50\n",
            "470/470 [==============================] - 8s 17ms/step - loss: 0.2897 - accuracy: 0.8979 - val_loss: 0.6886 - val_accuracy: 0.7967\n",
            "Epoch 34/50\n",
            "470/470 [==============================] - 8s 17ms/step - loss: 0.2791 - accuracy: 0.9027 - val_loss: 0.6824 - val_accuracy: 0.7977\n",
            "Epoch 35/50\n",
            "470/470 [==============================] - 8s 17ms/step - loss: 0.2717 - accuracy: 0.9042 - val_loss: 0.6751 - val_accuracy: 0.7970\n",
            "Epoch 36/50\n",
            "470/470 [==============================] - 8s 17ms/step - loss: 0.2686 - accuracy: 0.9050 - val_loss: 0.6751 - val_accuracy: 0.8090\n",
            "Epoch 37/50\n",
            "470/470 [==============================] - 8s 17ms/step - loss: 0.2638 - accuracy: 0.9075 - val_loss: 0.6921 - val_accuracy: 0.8070\n",
            "Epoch 38/50\n",
            "470/470 [==============================] - 8s 17ms/step - loss: 0.2537 - accuracy: 0.9125 - val_loss: 0.6909 - val_accuracy: 0.8037\n",
            "Epoch 39/50\n",
            "470/470 [==============================] - 8s 17ms/step - loss: 0.2597 - accuracy: 0.9089 - val_loss: 0.6997 - val_accuracy: 0.8040\n",
            "Epoch 40/50\n",
            "470/470 [==============================] - 8s 17ms/step - loss: 0.2580 - accuracy: 0.9099 - val_loss: 0.6947 - val_accuracy: 0.8017\n",
            "Epoch 41/50\n",
            "470/470 [==============================] - 8s 17ms/step - loss: 0.2351 - accuracy: 0.9201 - val_loss: 0.7008 - val_accuracy: 0.8003\n",
            "Epoch 42/50\n",
            "470/470 [==============================] - 8s 17ms/step - loss: 0.2509 - accuracy: 0.9124 - val_loss: 0.7070 - val_accuracy: 0.8003\n",
            "Epoch 43/50\n",
            "470/470 [==============================] - 8s 17ms/step - loss: 0.2438 - accuracy: 0.9166 - val_loss: 0.7049 - val_accuracy: 0.8033\n",
            "Epoch 44/50\n",
            "470/470 [==============================] - 8s 17ms/step - loss: 0.2403 - accuracy: 0.9166 - val_loss: 0.6804 - val_accuracy: 0.8060\n",
            "Epoch 45/50\n",
            "470/470 [==============================] - 8s 17ms/step - loss: 0.2319 - accuracy: 0.9183 - val_loss: 0.7139 - val_accuracy: 0.8043\n",
            "Epoch 46/50\n",
            "470/470 [==============================] - 8s 17ms/step - loss: 0.2375 - accuracy: 0.9184 - val_loss: 0.7068 - val_accuracy: 0.7960\n",
            "Epoch 47/50\n",
            "470/470 [==============================] - 8s 17ms/step - loss: 0.2288 - accuracy: 0.9209 - val_loss: 0.7329 - val_accuracy: 0.7963\n",
            "Epoch 48/50\n",
            "470/470 [==============================] - 8s 17ms/step - loss: 0.2255 - accuracy: 0.9214 - val_loss: 0.7154 - val_accuracy: 0.8023\n",
            "Epoch 49/50\n",
            "470/470 [==============================] - 8s 17ms/step - loss: 0.2278 - accuracy: 0.9222 - val_loss: 0.6986 - val_accuracy: 0.8053\n",
            "Epoch 50/50\n",
            "470/470 [==============================] - 8s 17ms/step - loss: 0.2193 - accuracy: 0.9242 - val_loss: 0.7441 - val_accuracy: 0.7983\n",
            "Execution Time =  443.0812327861786\n"
          ],
          "name": "stdout"
        }
      ]
    },
    {
      "cell_type": "code",
      "metadata": {
        "colab": {
          "base_uri": "https://localhost:8080/"
        },
        "id": "Fem5LMIvw2AP",
        "outputId": "a67922b6-cb3e-4e3e-e03a-e8679782209a"
      },
      "source": [
        "#Check Accuracy\n",
        "preds=model.predict(test_images_norm)\n",
        "\n",
        "#Evaluate the Model-Accuracy\n",
        "loss,accuracy=model.evaluate(test_images_norm,test_labels)\n",
        "print('Test Set Accuracy: ', accuracy*100,'%', 'Test Set Loss: ', loss)\n",
        "\n"
      ],
      "execution_count": null,
      "outputs": [
        {
          "output_type": "stream",
          "text": [
            "313/313 [==============================] - 1s 4ms/step - loss: 0.7784 - accuracy: 0.7910\n",
            "Test Set Accuracy:  79.10000085830688 % Test Set Loss:  0.7783865928649902\n"
          ],
          "name": "stdout"
        }
      ]
    },
    {
      "cell_type": "code",
      "metadata": {
        "colab": {
          "base_uri": "https://localhost:8080/",
          "height": 508
        },
        "id": "gvca2Ex-w2AR",
        "outputId": "edb9f3ef-914e-41c7-df92-b714cb5c22ef"
      },
      "source": [
        "#Confusion Matrix\n",
        "pred_classes=np.argmax(model.predict(test_images_norm),axis=-1)\n",
        "conf_mx=tf.math.confusion_matrix(test_labels,pred_classes)\n",
        "\n",
        "plt.figure(figsize=(16,8))\n",
        "plt.matshow(conf_mx,cmap=plt.cm.Blues,fignum=1)\n",
        "plt.xlabel('Predicted Classes')\n",
        "plt.ylabel('Actual Classes')\n",
        "plt.show()"
      ],
      "execution_count": null,
      "outputs": [
        {
          "output_type": "display_data",
          "data": {
            "image/png": "[encoded data removed]",
            "text/plain": [
              "<Figure size 1152x576 with 1 Axes>"
            ]
          },
          "metadata": {
            "tags": [],
            "needs_background": "light"
          }
        }
      ]
    },
    {
      "cell_type": "code",
      "metadata": {
        "colab": {
          "base_uri": "https://localhost:8080/"
        },
        "id": "65841r0sw2AS",
        "outputId": "ed37162d-2b74-49a2-a94f-80b57a11d44f"
      },
      "source": [
        "#Plotting Performance Metrics\n",
        "\n",
        "hist_dict=history.history\n",
        "hist_dict.keys()"
      ],
      "execution_count": null,
      "outputs": [
        {
          "output_type": "execute_result",
          "data": {
            "text/plain": [
              "dict_keys(['loss', 'accuracy', 'val_loss', 'val_accuracy'])"
            ]
          },
          "metadata": {
            "tags": []
          },
          "execution_count": 25
        }
      ]
    },
    {
      "cell_type": "code",
      "metadata": {
        "id": "52WiFV-Hw2AT"
      },
      "source": [
        "losses=history.history['loss']\n",
        "accs=history.history['accuracy']\n",
        "val_losses=history.history['val_loss']\n",
        "val_accs=history.history['val_accuracy']\n",
        "epochs=len(losses)"
      ],
      "execution_count": null,
      "outputs": []
    },
    {
      "cell_type": "code",
      "metadata": {
        "colab": {
          "base_uri": "https://localhost:8080/",
          "height": 265
        },
        "id": "rqqYvKFYw2AV",
        "outputId": "37cb3daf-c728-45ce-bfab-707d3a5426d3"
      },
      "source": [
        "plt.figure(figsize=(16, 4))\n",
        "for i, metrics in enumerate(zip([losses, accs], [val_losses, val_accs], ['Loss', 'Accuracy'])):\n",
        "    plt.subplot(1, 2, i + 1)\n",
        "    plt.plot(range(epochs), metrics[0], label='Training {}'.format(metrics[2]))\n",
        "    plt.plot(range(epochs), metrics[1], label='Validation {}'.format(metrics[2]))\n",
        "    plt.legend()\n",
        "plt.show()"
      ],
      "execution_count": null,
      "outputs": [
        {
          "output_type": "display_data",
          "data": {
            "image/png": "[encoded data removed]",
            "text/plain": [
              "<Figure size 1152x288 with 2 Axes>"
            ]
          },
          "metadata": {
            "tags": [],
            "needs_background": "light"
          }
        }
      ]
    },
    {
      "cell_type": "markdown",
      "metadata": {
        "id": "sbkgNYpEh-Hp"
      },
      "source": [
        "#Experiments 5-8"
      ]
    },
    {
      "cell_type": "markdown",
      "metadata": {
        "id": "5JoyVY_EiRpi"
      },
      "source": [
        "##Experiment 5\n",
        "###CNN with 3 convolution/max pooling layers more layers"
      ]
    },
    {
      "cell_type": "code",
      "metadata": {
        "id": "O0jYxmJgiRpj"
      },
      "source": [
        "model = models.Sequential()\n",
        "model.add(layers.Conv2D(filters=128, kernel_size=(3, 3), strides=(1, 1), activation=tf.nn.relu,input_shape=(32, 32, 3)))\n",
        "model.add(layers.Conv2D(filters=128, kernel_size=(3, 3), strides=(1, 1), activation=tf.nn.relu))\n",
        "model.add(layers.MaxPool2D((2, 2),strides=2))\n",
        "model.add(layers.Dropout(0.3))\n",
        "model.add(layers.Conv2D(filters=256, kernel_size=(3, 3), strides=(1, 1), activation=tf.nn.relu))\n",
        "model.add(layers.Conv2D(filters=256, kernel_size=(3, 3), strides=(1, 1), activation=tf.nn.relu))\n",
        "model.add(layers.MaxPool2D(pool_size=(2, 2),strides=2))\n",
        "model.add(layers.Dropout(0.3))\n",
        "#model.add(layers.Conv2D(filters=512, kernel_size=(3, 3), strides=(1, 1), activation=tf.nn.relu))\n",
        "#model.add(layers.Conv2D(filters=512, kernel_size=(3, 3), strides=(1, 1), activation=tf.nn.relu))\n",
        "#model.add(layers.MaxPool2D(pool_size=(2, 2),strides=2))\n",
        "#model.add(layers.Dropout(0.3))\n",
        "model.add(layers.Flatten())\n",
        "model.add(layers.Dense(units=384, activation=tf.nn.relu))\n",
        "model.add(layers.Dense(units=10, activation=tf.nn.softmax))\n"
      ],
      "execution_count": null,
      "outputs": []
    },
    {
      "cell_type": "code",
      "metadata": {
        "id": "FHFuWM2siRpk",
        "colab": {
          "base_uri": "https://localhost:8080/"
        },
        "outputId": "66c6249a-08a4-4a31-e475-775e068e0dbf"
      },
      "source": [
        "model.summary()"
      ],
      "execution_count": null,
      "outputs": [
        {
          "output_type": "stream",
          "text": [
            "Model: \"sequential\"\n",
            "_________________________________________________________________\n",
            "Layer (type)                 Output Shape              Param #   \n",
            "=================================================================\n",
            "conv2d (Conv2D)              (None, 30, 30, 128)       3584      \n",
            "_________________________________________________________________\n",
            "conv2d_1 (Conv2D)            (None, 28, 28, 128)       147584    \n",
            "_________________________________________________________________\n",
            "max_pooling2d (MaxPooling2D) (None, 14, 14, 128)       0         \n",
            "_________________________________________________________________\n",
            "dropout (Dropout)            (None, 14, 14, 128)       0         \n",
            "_________________________________________________________________\n",
            "conv2d_2 (Conv2D)            (None, 12, 12, 256)       295168    \n",
            "_________________________________________________________________\n",
            "conv2d_3 (Conv2D)            (None, 10, 10, 256)       590080    \n",
            "_________________________________________________________________\n",
            "max_pooling2d_1 (MaxPooling2 (None, 5, 5, 256)         0         \n",
            "_________________________________________________________________\n",
            "dropout_1 (Dropout)          (None, 5, 5, 256)         0         \n",
            "_________________________________________________________________\n",
            "flatten (Flatten)            (None, 6400)              0         \n",
            "_________________________________________________________________\n",
            "dense (Dense)                (None, 384)               2457984   \n",
            "_________________________________________________________________\n",
            "dense_1 (Dense)              (None, 10)                3850      \n",
            "=================================================================\n",
            "Total params: 3,498,250\n",
            "Trainable params: 3,498,250\n",
            "Non-trainable params: 0\n",
            "_________________________________________________________________\n"
          ],
          "name": "stdout"
        }
      ]
    },
    {
      "cell_type": "code",
      "metadata": {
        "id": "4OH365K7iRpn"
      },
      "source": [
        "#keras.utils.plot_model(model, \"CIFAR10.png\", show_shapes=True) "
      ],
      "execution_count": null,
      "outputs": []
    },
    {
      "cell_type": "code",
      "metadata": {
        "id": "iKqOMpWfiRpo"
      },
      "source": [
        "model.compile(optimizer='adam',\n",
        "              loss=tf.keras.losses.SparseCategoricalCrossentropy(from_logits=False),\n",
        "              metrics=['accuracy'])"
      ],
      "execution_count": null,
      "outputs": []
    },
    {
      "cell_type": "code",
      "metadata": {
        "colab": {
          "base_uri": "https://localhost:8080/",
          "height": 404
        },
        "id": "SK76cuV0iRpp",
        "outputId": "4f3137f2-4d49-44c0-d6e8-0c4a138280f2"
      },
      "source": [
        "start_time=time.time()\n",
        "\n",
        "history = model.fit(train_images_norm\n",
        "                    ,train_labels\n",
        "                    ,epochs=100\n",
        "                    ,batch_size=300\n",
        "                    ,validation_data=(val_images_norm,val_labels)\n",
        "                    ,callbacks=[\n",
        "                    tf.keras.callbacks.EarlyStopping(monitor='val_accuracy', patience=5)\n",
        "                    ])\n",
        "                    #,tf.keras.callbacks.ModelCheckpoint('./models/model_{val_accuracy:.4f}.h5', save_best_only=True,\n",
        "                                       # save_weights_only=False, monitor='val_accuracy')] )                                                                                                          \n",
        "                   \n",
        "\n",
        "print(\"Execution Time = \", (time.time()-start_time))"
      ],
      "execution_count": null,
      "outputs": [
        {
          "output_type": "stream",
          "text": [
            "Epoch 1/100\n",
            " 10/157 [>.............................] - ETA: 14:08 - loss: 2.2598 - accuracy: 0.1253"
          ],
          "name": "stdout"
        },
        {
          "output_type": "error",
          "ename": "KeyboardInterrupt",
          "evalue": "ignored",
          "traceback": [
            "\u001b[0;31m---------------------------------------------------------------------------\u001b[0m",
            "\u001b[0;31mKeyboardInterrupt\u001b[0m                         Traceback (most recent call last)",
            "\u001b[0;32m<ipython-input-16-20a18ef61f30>\u001b[0m in \u001b[0;36m<module>\u001b[0;34m()\u001b[0m\n\u001b[1;32m      7\u001b[0m                     \u001b[0;34m,\u001b[0m\u001b[0mvalidation_data\u001b[0m\u001b[0;34m=\u001b[0m\u001b[0;34m(\u001b[0m\u001b[0mval_images_norm\u001b[0m\u001b[0;34m,\u001b[0m\u001b[0mval_labels\u001b[0m\u001b[0;34m)\u001b[0m\u001b[0;34m\u001b[0m\u001b[0;34m\u001b[0m\u001b[0m\n\u001b[1;32m      8\u001b[0m                     ,callbacks=[\n\u001b[0;32m----> 9\u001b[0;31m                     \u001b[0mtf\u001b[0m\u001b[0;34m.\u001b[0m\u001b[0mkeras\u001b[0m\u001b[0;34m.\u001b[0m\u001b[0mcallbacks\u001b[0m\u001b[0;34m.\u001b[0m\u001b[0mEarlyStopping\u001b[0m\u001b[0;34m(\u001b[0m\u001b[0mmonitor\u001b[0m\u001b[0;34m=\u001b[0m\u001b[0;34m'val_accuracy'\u001b[0m\u001b[0;34m,\u001b[0m \u001b[0mpatience\u001b[0m\u001b[0;34m=\u001b[0m\u001b[0;36m5\u001b[0m\u001b[0;34m)\u001b[0m\u001b[0;34m\u001b[0m\u001b[0;34m\u001b[0m\u001b[0m\n\u001b[0m\u001b[1;32m     10\u001b[0m                     ])\n\u001b[1;32m     11\u001b[0m                     \u001b[0;31m#,tf.keras.callbacks.ModelCheckpoint('./models/model_{val_accuracy:.4f}.h5', save_best_only=True,\u001b[0m\u001b[0;34m\u001b[0m\u001b[0;34m\u001b[0m\u001b[0;34m\u001b[0m\u001b[0m\n",
            "\u001b[0;32m/usr/local/lib/python3.7/dist-packages/tensorflow/python/keras/engine/training.py\u001b[0m in \u001b[0;36mfit\u001b[0;34m(self, x, y, batch_size, epochs, verbose, callbacks, validation_split, validation_data, shuffle, class_weight, sample_weight, initial_epoch, steps_per_epoch, validation_steps, validation_batch_size, validation_freq, max_queue_size, workers, use_multiprocessing)\u001b[0m\n\u001b[1;32m   1181\u001b[0m                 _r=1):\n\u001b[1;32m   1182\u001b[0m               \u001b[0mcallbacks\u001b[0m\u001b[0;34m.\u001b[0m\u001b[0mon_train_batch_begin\u001b[0m\u001b[0;34m(\u001b[0m\u001b[0mstep\u001b[0m\u001b[0;34m)\u001b[0m\u001b[0;34m\u001b[0m\u001b[0;34m\u001b[0m\u001b[0m\n\u001b[0;32m-> 1183\u001b[0;31m               \u001b[0mtmp_logs\u001b[0m \u001b[0;34m=\u001b[0m \u001b[0mself\u001b[0m\u001b[0;34m.\u001b[0m\u001b[0mtrain_function\u001b[0m\u001b[0;34m(\u001b[0m\u001b[0miterator\u001b[0m\u001b[0;34m)\u001b[0m\u001b[0;34m\u001b[0m\u001b[0;34m\u001b[0m\u001b[0m\n\u001b[0m\u001b[1;32m   1184\u001b[0m               \u001b[0;32mif\u001b[0m \u001b[0mdata_handler\u001b[0m\u001b[0;34m.\u001b[0m\u001b[0mshould_sync\u001b[0m\u001b[0;34m:\u001b[0m\u001b[0;34m\u001b[0m\u001b[0;34m\u001b[0m\u001b[0m\n\u001b[1;32m   1185\u001b[0m                 \u001b[0mcontext\u001b[0m\u001b[0;34m.\u001b[0m\u001b[0masync_wait\u001b[0m\u001b[0;34m(\u001b[0m\u001b[0;34m)\u001b[0m\u001b[0;34m\u001b[0m\u001b[0;34m\u001b[0m\u001b[0m\n",
            "\u001b[0;32m/usr/local/lib/python3.7/dist-packages/tensorflow/python/eager/def_function.py\u001b[0m in \u001b[0;36m__call__\u001b[0;34m(self, *args, **kwds)\u001b[0m\n\u001b[1;32m    887\u001b[0m \u001b[0;34m\u001b[0m\u001b[0m\n\u001b[1;32m    888\u001b[0m       \u001b[0;32mwith\u001b[0m \u001b[0mOptionalXlaContext\u001b[0m\u001b[0;34m(\u001b[0m\u001b[0mself\u001b[0m\u001b[0;34m.\u001b[0m\u001b[0m_jit_compile\u001b[0m\u001b[0;34m)\u001b[0m\u001b[0;34m:\u001b[0m\u001b[0;34m\u001b[0m\u001b[0;34m\u001b[0m\u001b[0m\n\u001b[0;32m--> 889\u001b[0;31m         \u001b[0mresult\u001b[0m \u001b[0;34m=\u001b[0m \u001b[0mself\u001b[0m\u001b[0;34m.\u001b[0m\u001b[0m_call\u001b[0m\u001b[0;34m(\u001b[0m\u001b[0;34m*\u001b[0m\u001b[0margs\u001b[0m\u001b[0;34m,\u001b[0m \u001b[0;34m**\u001b[0m\u001b[0mkwds\u001b[0m\u001b[0;34m)\u001b[0m\u001b[0;34m\u001b[0m\u001b[0;34m\u001b[0m\u001b[0m\n\u001b[0m\u001b[1;32m    890\u001b[0m \u001b[0;34m\u001b[0m\u001b[0m\n\u001b[1;32m    891\u001b[0m       \u001b[0mnew_tracing_count\u001b[0m \u001b[0;34m=\u001b[0m \u001b[0mself\u001b[0m\u001b[0;34m.\u001b[0m\u001b[0mexperimental_get_tracing_count\u001b[0m\u001b[0;34m(\u001b[0m\u001b[0;34m)\u001b[0m\u001b[0;34m\u001b[0m\u001b[0;34m\u001b[0m\u001b[0m\n",
            "\u001b[0;32m/usr/local/lib/python3.7/dist-packages/tensorflow/python/eager/def_function.py\u001b[0m in \u001b[0;36m_call\u001b[0;34m(self, *args, **kwds)\u001b[0m\n\u001b[1;32m    915\u001b[0m       \u001b[0;31m# In this case we have created variables on the first call, so we run the\u001b[0m\u001b[0;34m\u001b[0m\u001b[0;34m\u001b[0m\u001b[0;34m\u001b[0m\u001b[0m\n\u001b[1;32m    916\u001b[0m       \u001b[0;31m# defunned version which is guaranteed to never create variables.\u001b[0m\u001b[0;34m\u001b[0m\u001b[0;34m\u001b[0m\u001b[0;34m\u001b[0m\u001b[0m\n\u001b[0;32m--> 917\u001b[0;31m       \u001b[0;32mreturn\u001b[0m \u001b[0mself\u001b[0m\u001b[0;34m.\u001b[0m\u001b[0m_stateless_fn\u001b[0m\u001b[0;34m(\u001b[0m\u001b[0;34m*\u001b[0m\u001b[0margs\u001b[0m\u001b[0;34m,\u001b[0m \u001b[0;34m**\u001b[0m\u001b[0mkwds\u001b[0m\u001b[0;34m)\u001b[0m  \u001b[0;31m# pylint: disable=not-callable\u001b[0m\u001b[0;34m\u001b[0m\u001b[0;34m\u001b[0m\u001b[0m\n\u001b[0m\u001b[1;32m    918\u001b[0m     \u001b[0;32melif\u001b[0m \u001b[0mself\u001b[0m\u001b[0;34m.\u001b[0m\u001b[0m_stateful_fn\u001b[0m \u001b[0;32mis\u001b[0m \u001b[0;32mnot\u001b[0m \u001b[0;32mNone\u001b[0m\u001b[0;34m:\u001b[0m\u001b[0;34m\u001b[0m\u001b[0;34m\u001b[0m\u001b[0m\n\u001b[1;32m    919\u001b[0m       \u001b[0;31m# Release the lock early so that multiple threads can perform the call\u001b[0m\u001b[0;34m\u001b[0m\u001b[0;34m\u001b[0m\u001b[0;34m\u001b[0m\u001b[0m\n",
            "\u001b[0;32m/usr/local/lib/python3.7/dist-packages/tensorflow/python/eager/function.py\u001b[0m in \u001b[0;36m__call__\u001b[0;34m(self, *args, **kwargs)\u001b[0m\n\u001b[1;32m   3022\u001b[0m        filtered_flat_args) = self._maybe_define_function(args, kwargs)\n\u001b[1;32m   3023\u001b[0m     return graph_function._call_flat(\n\u001b[0;32m-> 3024\u001b[0;31m         filtered_flat_args, captured_inputs=graph_function.captured_inputs)  # pylint: disable=protected-access\n\u001b[0m\u001b[1;32m   3025\u001b[0m \u001b[0;34m\u001b[0m\u001b[0m\n\u001b[1;32m   3026\u001b[0m   \u001b[0;34m@\u001b[0m\u001b[0mproperty\u001b[0m\u001b[0;34m\u001b[0m\u001b[0;34m\u001b[0m\u001b[0m\n",
            "\u001b[0;32m/usr/local/lib/python3.7/dist-packages/tensorflow/python/eager/function.py\u001b[0m in \u001b[0;36m_call_flat\u001b[0;34m(self, args, captured_inputs, cancellation_manager)\u001b[0m\n\u001b[1;32m   1959\u001b[0m       \u001b[0;31m# No tape is watching; skip to running the function.\u001b[0m\u001b[0;34m\u001b[0m\u001b[0;34m\u001b[0m\u001b[0;34m\u001b[0m\u001b[0m\n\u001b[1;32m   1960\u001b[0m       return self._build_call_outputs(self._inference_function.call(\n\u001b[0;32m-> 1961\u001b[0;31m           ctx, args, cancellation_manager=cancellation_manager))\n\u001b[0m\u001b[1;32m   1962\u001b[0m     forward_backward = self._select_forward_and_backward_functions(\n\u001b[1;32m   1963\u001b[0m         \u001b[0margs\u001b[0m\u001b[0;34m,\u001b[0m\u001b[0;34m\u001b[0m\u001b[0;34m\u001b[0m\u001b[0m\n",
            "\u001b[0;32m/usr/local/lib/python3.7/dist-packages/tensorflow/python/eager/function.py\u001b[0m in \u001b[0;36mcall\u001b[0;34m(self, ctx, args, cancellation_manager)\u001b[0m\n\u001b[1;32m    594\u001b[0m               \u001b[0minputs\u001b[0m\u001b[0;34m=\u001b[0m\u001b[0margs\u001b[0m\u001b[0;34m,\u001b[0m\u001b[0;34m\u001b[0m\u001b[0;34m\u001b[0m\u001b[0m\n\u001b[1;32m    595\u001b[0m               \u001b[0mattrs\u001b[0m\u001b[0;34m=\u001b[0m\u001b[0mattrs\u001b[0m\u001b[0;34m,\u001b[0m\u001b[0;34m\u001b[0m\u001b[0;34m\u001b[0m\u001b[0m\n\u001b[0;32m--> 596\u001b[0;31m               ctx=ctx)\n\u001b[0m\u001b[1;32m    597\u001b[0m         \u001b[0;32melse\u001b[0m\u001b[0;34m:\u001b[0m\u001b[0;34m\u001b[0m\u001b[0;34m\u001b[0m\u001b[0m\n\u001b[1;32m    598\u001b[0m           outputs = execute.execute_with_cancellation(\n",
            "\u001b[0;32m/usr/local/lib/python3.7/dist-packages/tensorflow/python/eager/execute.py\u001b[0m in \u001b[0;36mquick_execute\u001b[0;34m(op_name, num_outputs, inputs, attrs, ctx, name)\u001b[0m\n\u001b[1;32m     58\u001b[0m     \u001b[0mctx\u001b[0m\u001b[0;34m.\u001b[0m\u001b[0mensure_initialized\u001b[0m\u001b[0;34m(\u001b[0m\u001b[0;34m)\u001b[0m\u001b[0;34m\u001b[0m\u001b[0;34m\u001b[0m\u001b[0m\n\u001b[1;32m     59\u001b[0m     tensors = pywrap_tfe.TFE_Py_Execute(ctx._handle, device_name, op_name,\n\u001b[0;32m---> 60\u001b[0;31m                                         inputs, attrs, num_outputs)\n\u001b[0m\u001b[1;32m     61\u001b[0m   \u001b[0;32mexcept\u001b[0m \u001b[0mcore\u001b[0m\u001b[0;34m.\u001b[0m\u001b[0m_NotOkStatusException\u001b[0m \u001b[0;32mas\u001b[0m \u001b[0me\u001b[0m\u001b[0;34m:\u001b[0m\u001b[0;34m\u001b[0m\u001b[0;34m\u001b[0m\u001b[0m\n\u001b[1;32m     62\u001b[0m     \u001b[0;32mif\u001b[0m \u001b[0mname\u001b[0m \u001b[0;32mis\u001b[0m \u001b[0;32mnot\u001b[0m \u001b[0;32mNone\u001b[0m\u001b[0;34m:\u001b[0m\u001b[0;34m\u001b[0m\u001b[0;34m\u001b[0m\u001b[0m\n",
            "\u001b[0;31mKeyboardInterrupt\u001b[0m: "
          ]
        }
      ]
    },
    {
      "cell_type": "code",
      "metadata": {
        "colab": {
          "base_uri": "https://localhost:8080/"
        },
        "id": "4Wz8kvgHiRpp",
        "outputId": "807258da-bbf7-49c2-ca9e-1994b5425351"
      },
      "source": [
        "#Check Accuracy\n",
        "preds=model.predict(test_images_norm)\n",
        "\n",
        "#Evaluate the Model-Accuracy\n",
        "loss,accuracy=model.evaluate(test_images_norm,test_labels)\n",
        "print('Test Set Accuracy: ', accuracy*100,'%', 'Test Set Loss: ', loss)\n",
        "\n"
      ],
      "execution_count": null,
      "outputs": [
        {
          "output_type": "stream",
          "text": [
            "313/313 [==============================] - 2s 5ms/step - loss: 0.7616 - accuracy: 0.7937\n",
            "Test Set Accuracy:  79.36999797821045 % Test Set Loss:  0.7616223096847534\n"
          ],
          "name": "stdout"
        }
      ]
    },
    {
      "cell_type": "code",
      "metadata": {
        "colab": {
          "base_uri": "https://localhost:8080/",
          "height": 508
        },
        "id": "gyIUM8PMiRpq",
        "outputId": "0c20c15b-ee48-42ab-c88b-c8412704aec7"
      },
      "source": [
        "#Confusion Matrix\n",
        "pred_classes=np.argmax(model.predict(test_images_norm),axis=-1)\n",
        "conf_mx=tf.math.confusion_matrix(test_labels,pred_classes)\n",
        "\n",
        "plt.figure(figsize=(16,8))\n",
        "plt.matshow(conf_mx,cmap=plt.cm.Blues,fignum=1)\n",
        "plt.xlabel('Predicted Classes')\n",
        "plt.ylabel('Actual Classes')\n",
        "plt.show()"
      ],
      "execution_count": null,
      "outputs": [
        {
          "output_type": "display_data",
          "data": {
            "image/png": "[encoded data removed]",
            "text/plain": [
              "<Figure size 1152x576 with 1 Axes>"
            ]
          },
          "metadata": {
            "tags": [],
            "needs_background": "light"
          }
        }
      ]
    },
    {
      "cell_type": "code",
      "metadata": {
        "colab": {
          "base_uri": "https://localhost:8080/"
        },
        "id": "QH0v15tciRpr",
        "outputId": "46f9b3b0-df79-4d0a-b27c-d0af9dfcd7d6"
      },
      "source": [
        "#Plotting Performance Metrics\n",
        "\n",
        "hist_dict=history.history\n",
        "hist_dict.keys()"
      ],
      "execution_count": null,
      "outputs": [
        {
          "output_type": "execute_result",
          "data": {
            "text/plain": [
              "dict_keys(['loss', 'accuracy', 'val_loss', 'val_accuracy'])"
            ]
          },
          "metadata": {
            "tags": []
          },
          "execution_count": 23
        }
      ]
    },
    {
      "cell_type": "code",
      "metadata": {
        "id": "dR61QccwiRps"
      },
      "source": [
        "losses=history.history['loss']\n",
        "accs=history.history['accuracy']\n",
        "val_losses=history.history['val_loss']\n",
        "val_accs=history.history['val_accuracy']\n",
        "epochs=len(losses)"
      ],
      "execution_count": null,
      "outputs": []
    },
    {
      "cell_type": "code",
      "metadata": {
        "colab": {
          "base_uri": "https://localhost:8080/",
          "height": 265
        },
        "id": "-cm2Y01piRpy",
        "outputId": "7004fd69-e391-4c43-bd41-c9c3c8d2fdbf"
      },
      "source": [
        "plt.figure(figsize=(16, 4))\n",
        "for i, metrics in enumerate(zip([losses, accs], [val_losses, val_accs], ['Loss', 'Accuracy'])):\n",
        "    plt.subplot(1, 2, i + 1)\n",
        "    plt.plot(range(epochs), metrics[0], label='Training {}'.format(metrics[2]))\n",
        "    plt.plot(range(epochs), metrics[1], label='Validation {}'.format(metrics[2]))\n",
        "    plt.legend()\n",
        "plt.show()"
      ],
      "execution_count": null,
      "outputs": [
        {
          "output_type": "display_data",
          "data": {
            "image/png": "[encoded data removed]",
            "text/plain": [
              "<Figure size 1152x288 with 2 Axes>"
            ]
          },
          "metadata": {
            "tags": [],
            "needs_background": "light"
          }
        }
      ]
    },
    {
      "cell_type": "code",
      "metadata": {
        "id": "ZMO-o3zDsC3r"
      },
      "source": [
        ""
      ],
      "execution_count": null,
      "outputs": []
    },
    {
      "cell_type": "markdown",
      "metadata": {
        "id": "ET8TdAPFsFdM"
      },
      "source": [
        "##Experiment 6\n",
        "###CNN with 3 convolution/max pooling layers (more dense and c layers)"
      ]
    },
    {
      "cell_type": "code",
      "metadata": {
        "id": "9XkKZUSVsFdO"
      },
      "source": [
        "model = models.Sequential()\n",
        "model.add(layers.Conv2D(filters=128, kernel_size=(3, 3), strides=(1, 1), activation=tf.nn.relu,input_shape=(32, 32, 3)))\n",
        "model.add(layers.Conv2D(filters=128, kernel_size=(3, 3), strides=(1, 1), activation=tf.nn.relu))\n",
        "model.add(layers.MaxPool2D((2, 2),strides=2))\n",
        "model.add(layers.Dropout(0.3))\n",
        "model.add(layers.Conv2D(filters=256, kernel_size=(3, 3), strides=(1, 1), activation=tf.nn.relu))\n",
        "model.add(layers.Conv2D(filters=256, kernel_size=(3, 3), strides=(1, 1), activation=tf.nn.relu))\n",
        "model.add(layers.MaxPool2D(pool_size=(2, 2),strides=2))\n",
        "model.add(layers.Dropout(0.3))\n",
        "#model.add(layers.Conv2D(filters=512, kernel_size=(3, 3), strides=(1, 1), activation=tf.nn.relu))\n",
        "#model.add(layers.Conv2D(filters=512, kernel_size=(3, 3), strides=(1, 1), activation=tf.nn.relu))\n",
        "#model.add(layers.MaxPool2D(pool_size=(2, 2),strides=2))\n",
        "#model.add(layers.Dropout(0.3))\n",
        "model.add(layers.Flatten())\n",
        "model.add(layers.Dense(units=384, activation=tf.nn.relu))\n",
        "model.add(layers.Dense(units=256, activation=tf.nn.relu))\n",
        "model.add(layers.Dense(units=10, activation=tf.nn.softmax))\n"
      ],
      "execution_count": null,
      "outputs": []
    },
    {
      "cell_type": "code",
      "metadata": {
        "id": "GJ4xupWDsFdP",
        "colab": {
          "base_uri": "https://localhost:8080/"
        },
        "outputId": "cc276cc1-bca7-43f7-aba3-3fa1f521a241"
      },
      "source": [
        "model.summary()"
      ],
      "execution_count": null,
      "outputs": [
        {
          "output_type": "stream",
          "text": [
            "Model: \"sequential_3\"\n",
            "_________________________________________________________________\n",
            "Layer (type)                 Output Shape              Param #   \n",
            "=================================================================\n",
            "conv2d_13 (Conv2D)           (None, 30, 30, 128)       3584      \n",
            "_________________________________________________________________\n",
            "conv2d_14 (Conv2D)           (None, 28, 28, 128)       147584    \n",
            "_________________________________________________________________\n",
            "max_pooling2d_8 (MaxPooling2 (None, 14, 14, 128)       0         \n",
            "_________________________________________________________________\n",
            "dropout_7 (Dropout)          (None, 14, 14, 128)       0         \n",
            "_________________________________________________________________\n",
            "conv2d_15 (Conv2D)           (None, 12, 12, 256)       295168    \n",
            "_________________________________________________________________\n",
            "conv2d_16 (Conv2D)           (None, 10, 10, 256)       590080    \n",
            "_________________________________________________________________\n",
            "max_pooling2d_9 (MaxPooling2 (None, 5, 5, 256)         0         \n",
            "_________________________________________________________________\n",
            "dropout_8 (Dropout)          (None, 5, 5, 256)         0         \n",
            "_________________________________________________________________\n",
            "flatten_2 (Flatten)          (None, 6400)              0         \n",
            "_________________________________________________________________\n",
            "dense_4 (Dense)              (None, 384)               2457984   \n",
            "_________________________________________________________________\n",
            "dense_5 (Dense)              (None, 256)               98560     \n",
            "_________________________________________________________________\n",
            "dense_6 (Dense)              (None, 10)                2570      \n",
            "=================================================================\n",
            "Total params: 3,595,530\n",
            "Trainable params: 3,595,530\n",
            "Non-trainable params: 0\n",
            "_________________________________________________________________\n"
          ],
          "name": "stdout"
        }
      ]
    },
    {
      "cell_type": "code",
      "metadata": {
        "id": "lyEvrKM6sFdR"
      },
      "source": [
        "#keras.utils.plot_model(model, \"CIFAR10.png\", show_shapes=True) "
      ],
      "execution_count": null,
      "outputs": []
    },
    {
      "cell_type": "code",
      "metadata": {
        "id": "gUB0AFXbsFdS"
      },
      "source": [
        "model.compile(optimizer='adam',\n",
        "              loss=tf.keras.losses.SparseCategoricalCrossentropy(from_logits=False),\n",
        "              metrics=['accuracy'])"
      ],
      "execution_count": null,
      "outputs": []
    },
    {
      "cell_type": "code",
      "metadata": {
        "colab": {
          "base_uri": "https://localhost:8080/"
        },
        "id": "TFUGn45isFdU",
        "outputId": "fd7d9d9f-a0be-4704-f97b-f4f2e9dbe8fe"
      },
      "source": [
        "start_time=time.time()\n",
        "\n",
        "history = model.fit(train_images_norm\n",
        "                    ,train_labels\n",
        "                    ,epochs=100\n",
        "                    ,batch_size=300\n",
        "                    ,validation_data=(val_images_norm,val_labels)\n",
        "                    ,callbacks=[\n",
        "                    tf.keras.callbacks.EarlyStopping(monitor='val_accuracy', patience=5)\n",
        "                    ])\n",
        "                    #,tf.keras.callbacks.ModelCheckpoint('./models/model_{val_accuracy:.4f}.h5', save_best_only=True,\n",
        "                                       # save_weights_only=False, monitor='val_accuracy')] )                                                                                                          \n",
        "                   \n",
        "\n",
        "print(\"Execution Time = \", (time.time()-start_time))"
      ],
      "execution_count": null,
      "outputs": [
        {
          "output_type": "stream",
          "text": [
            "Epoch 1/100\n",
            "157/157 [==============================] - 13s 77ms/step - loss: 1.7087 - accuracy: 0.3658 - val_loss: 1.4268 - val_accuracy: 0.4873\n",
            "Epoch 2/100\n",
            "157/157 [==============================] - 12s 77ms/step - loss: 1.2529 - accuracy: 0.5509 - val_loss: 1.0587 - val_accuracy: 0.6220\n",
            "Epoch 3/100\n",
            "157/157 [==============================] - 12s 78ms/step - loss: 1.0252 - accuracy: 0.6361 - val_loss: 0.9022 - val_accuracy: 0.6873\n",
            "Epoch 4/100\n",
            "157/157 [==============================] - 12s 78ms/step - loss: 0.8698 - accuracy: 0.6939 - val_loss: 0.8589 - val_accuracy: 0.6990\n",
            "Epoch 5/100\n",
            "157/157 [==============================] - 12s 79ms/step - loss: 0.7514 - accuracy: 0.7368 - val_loss: 0.7429 - val_accuracy: 0.7410\n",
            "Epoch 6/100\n",
            "157/157 [==============================] - 13s 80ms/step - loss: 0.6487 - accuracy: 0.7725 - val_loss: 0.6675 - val_accuracy: 0.7667\n",
            "Epoch 7/100\n",
            "157/157 [==============================] - 13s 80ms/step - loss: 0.5785 - accuracy: 0.7967 - val_loss: 0.6715 - val_accuracy: 0.7643\n",
            "Epoch 8/100\n",
            "157/157 [==============================] - 12s 79ms/step - loss: 0.5235 - accuracy: 0.8139 - val_loss: 0.6540 - val_accuracy: 0.7840\n",
            "Epoch 9/100\n",
            "157/157 [==============================] - 12s 78ms/step - loss: 0.4475 - accuracy: 0.8422 - val_loss: 0.6618 - val_accuracy: 0.7673\n",
            "Epoch 10/100\n",
            "157/157 [==============================] - 12s 79ms/step - loss: 0.4124 - accuracy: 0.8526 - val_loss: 0.6689 - val_accuracy: 0.7803\n",
            "Epoch 11/100\n",
            "157/157 [==============================] - 12s 79ms/step - loss: 0.3572 - accuracy: 0.8726 - val_loss: 0.6307 - val_accuracy: 0.7987\n",
            "Epoch 12/100\n",
            "157/157 [==============================] - 12s 79ms/step - loss: 0.3228 - accuracy: 0.8861 - val_loss: 0.6721 - val_accuracy: 0.7923\n",
            "Epoch 13/100\n",
            "157/157 [==============================] - 12s 79ms/step - loss: 0.2866 - accuracy: 0.8973 - val_loss: 0.6971 - val_accuracy: 0.7903\n",
            "Epoch 14/100\n",
            "157/157 [==============================] - 12s 79ms/step - loss: 0.2558 - accuracy: 0.9074 - val_loss: 0.6581 - val_accuracy: 0.7997\n",
            "Epoch 15/100\n",
            "157/157 [==============================] - 12s 79ms/step - loss: 0.2293 - accuracy: 0.9198 - val_loss: 0.7316 - val_accuracy: 0.7953\n",
            "Epoch 16/100\n",
            "157/157 [==============================] - 12s 79ms/step - loss: 0.1988 - accuracy: 0.9282 - val_loss: 0.7052 - val_accuracy: 0.8057\n",
            "Epoch 17/100\n",
            "157/157 [==============================] - 12s 79ms/step - loss: 0.1810 - accuracy: 0.9349 - val_loss: 0.7503 - val_accuracy: 0.7980\n",
            "Epoch 18/100\n",
            "157/157 [==============================] - 12s 79ms/step - loss: 0.1691 - accuracy: 0.9400 - val_loss: 0.7507 - val_accuracy: 0.7953\n",
            "Epoch 19/100\n",
            "157/157 [==============================] - 12s 79ms/step - loss: 0.1529 - accuracy: 0.9463 - val_loss: 0.8085 - val_accuracy: 0.7973\n",
            "Epoch 20/100\n",
            "157/157 [==============================] - 12s 78ms/step - loss: 0.1430 - accuracy: 0.9491 - val_loss: 0.8430 - val_accuracy: 0.7977\n",
            "Epoch 21/100\n",
            "157/157 [==============================] - 12s 78ms/step - loss: 0.1428 - accuracy: 0.9496 - val_loss: 0.8152 - val_accuracy: 0.8000\n",
            "Execution Time =  260.23776412010193\n"
          ],
          "name": "stdout"
        }
      ]
    },
    {
      "cell_type": "code",
      "metadata": {
        "colab": {
          "base_uri": "https://localhost:8080/"
        },
        "id": "5qrWIuYYsFdX",
        "outputId": "f4e3a5bd-599e-46bc-90e1-5dcca56e7549"
      },
      "source": [
        "#Check Accuracy\n",
        "preds=model.predict(test_images_norm)\n",
        "\n",
        "#Evaluate the Model-Accuracy\n",
        "loss,accuracy=model.evaluate(test_images_norm,test_labels)\n",
        "print('Test Set Accuracy: ', accuracy*100,'%', 'Test Set Loss: ', loss)\n",
        "\n"
      ],
      "execution_count": null,
      "outputs": [
        {
          "output_type": "stream",
          "text": [
            "313/313 [==============================] - 2s 5ms/step - loss: 0.8522 - accuracy: 0.7934\n",
            "Test Set Accuracy:  79.339998960495 % Test Set Loss:  0.8522396683692932\n"
          ],
          "name": "stdout"
        }
      ]
    },
    {
      "cell_type": "code",
      "metadata": {
        "colab": {
          "base_uri": "https://localhost:8080/",
          "height": 508
        },
        "id": "Audar1SasFdY",
        "outputId": "8d95fb80-b2c8-4b3e-fe11-359aeec20cdc"
      },
      "source": [
        "#Confusion Matrix\n",
        "pred_classes=np.argmax(model.predict(test_images_norm),axis=-1)\n",
        "conf_mx=tf.math.confusion_matrix(test_labels,pred_classes)\n",
        "\n",
        "plt.figure(figsize=(16,8))\n",
        "plt.matshow(conf_mx,cmap=plt.cm.Blues,fignum=1)\n",
        "plt.xlabel('Predicted Classes')\n",
        "plt.ylabel('Actual Classes')\n",
        "plt.show()"
      ],
      "execution_count": null,
      "outputs": [
        {
          "output_type": "display_data",
          "data": {
            "image/png": "[encoded data removed]",
            "text/plain": [
              "<Figure size 1152x576 with 1 Axes>"
            ]
          },
          "metadata": {
            "tags": [],
            "needs_background": "light"
          }
        }
      ]
    },
    {
      "cell_type": "code",
      "metadata": {
        "colab": {
          "base_uri": "https://localhost:8080/"
        },
        "id": "QWH8pyBEsFdb",
        "outputId": "c61319a1-61fa-4744-9e65-ae5b215446af"
      },
      "source": [
        "#Plotting Performance Metrics\n",
        "\n",
        "hist_dict=history.history\n",
        "hist_dict.keys()"
      ],
      "execution_count": null,
      "outputs": [
        {
          "output_type": "execute_result",
          "data": {
            "text/plain": [
              "dict_keys(['loss', 'accuracy', 'val_loss', 'val_accuracy'])"
            ]
          },
          "metadata": {
            "tags": []
          },
          "execution_count": 35
        }
      ]
    },
    {
      "cell_type": "code",
      "metadata": {
        "id": "8mLjXP3HsFdc"
      },
      "source": [
        "losses=history.history['loss']\n",
        "accs=history.history['accuracy']\n",
        "val_losses=history.history['val_loss']\n",
        "val_accs=history.history['val_accuracy']\n",
        "epochs=len(losses)"
      ],
      "execution_count": null,
      "outputs": []
    },
    {
      "cell_type": "code",
      "metadata": {
        "colab": {
          "base_uri": "https://localhost:8080/",
          "height": 265
        },
        "id": "-v5sskcbsFdd",
        "outputId": "ae716123-8c28-4f1a-a358-c1dc9b734f3e"
      },
      "source": [
        "plt.figure(figsize=(16, 4))\n",
        "for i, metrics in enumerate(zip([losses, accs], [val_losses, val_accs], ['Loss', 'Accuracy'])):\n",
        "    plt.subplot(1, 2, i + 1)\n",
        "    plt.plot(range(epochs), metrics[0], label='Training {}'.format(metrics[2]))\n",
        "    plt.plot(range(epochs), metrics[1], label='Validation {}'.format(metrics[2]))\n",
        "    plt.legend()\n",
        "plt.show()"
      ],
      "execution_count": null,
      "outputs": [
        {
          "output_type": "display_data",
          "data": {
            "image/png": "[encoded data removed]",
            "text/plain": [
              "<Figure size 1152x288 with 2 Axes>"
            ]
          },
          "metadata": {
            "tags": [],
            "needs_background": "light"
          }
        }
      ]
    },
    {
      "cell_type": "markdown",
      "metadata": {
        "id": "KSKew9lomxpw"
      },
      "source": [
        "##Experiment 7\n",
        "###CNN with 3 convolution/max pooling layers (L1 Regularization)"
      ]
    },
    {
      "cell_type": "code",
      "metadata": {
        "id": "CVRW2rv1mxpz"
      },
      "source": [
        "model = models.Sequential()\n",
        "model.add(layers.Conv2D(filters=128, kernel_size=(3, 3), strides=(1, 1), activation=tf.nn.relu,input_shape=(32, 32, 3)))\n",
        "model.add(layers.MaxPool2D((2, 2),strides=2))\n",
        "model.add(layers.Conv2D(filters=256, kernel_size=(3, 3), strides=(1, 1), kernel_regularizer=tf.keras.regularizers.l1(0.0005), activation=tf.nn.relu))\n",
        "model.add(layers.MaxPool2D(pool_size=(2, 2),strides=2))\n",
        "model.add(layers.Conv2D(filters=512, kernel_size=(3, 3), strides=(1, 1), kernel_regularizer=tf.keras.regularizers.l1(0.0005), activation=tf.nn.relu))\n",
        "model.add(layers.MaxPool2D(pool_size=(2, 2),strides=2))\n",
        "model.add(layers.Flatten())\n",
        "model.add(layers.Dense(units=384, activation=tf.nn.relu))\n",
        "model.add(layers.Dense(units=10, activation=tf.nn.softmax))\n"
      ],
      "execution_count": null,
      "outputs": []
    },
    {
      "cell_type": "code",
      "metadata": {
        "id": "bZiOqMGKmxp0",
        "colab": {
          "base_uri": "https://localhost:8080/"
        },
        "outputId": "9588c0f6-6eb0-472b-f1ac-b39bd29c0d48"
      },
      "source": [
        "model.summary()"
      ],
      "execution_count": null,
      "outputs": [
        {
          "output_type": "stream",
          "text": [
            "Model: \"sequential_7\"\n",
            "_________________________________________________________________\n",
            "Layer (type)                 Output Shape              Param #   \n",
            "=================================================================\n",
            "conv2d_26 (Conv2D)           (None, 30, 30, 128)       3584      \n",
            "_________________________________________________________________\n",
            "max_pooling2d_19 (MaxPooling (None, 15, 15, 128)       0         \n",
            "_________________________________________________________________\n",
            "conv2d_27 (Conv2D)           (None, 13, 13, 256)       295168    \n",
            "_________________________________________________________________\n",
            "max_pooling2d_20 (MaxPooling (None, 6, 6, 256)         0         \n",
            "_________________________________________________________________\n",
            "conv2d_28 (Conv2D)           (None, 4, 4, 512)         1180160   \n",
            "_________________________________________________________________\n",
            "max_pooling2d_21 (MaxPooling (None, 2, 2, 512)         0         \n",
            "_________________________________________________________________\n",
            "flatten_6 (Flatten)          (None, 2048)              0         \n",
            "_________________________________________________________________\n",
            "dense_13 (Dense)             (None, 384)               786816    \n",
            "_________________________________________________________________\n",
            "dense_14 (Dense)             (None, 10)                3850      \n",
            "=================================================================\n",
            "Total params: 2,269,578\n",
            "Trainable params: 2,269,578\n",
            "Non-trainable params: 0\n",
            "_________________________________________________________________\n"
          ],
          "name": "stdout"
        }
      ]
    },
    {
      "cell_type": "code",
      "metadata": {
        "id": "uh71FVhjmxp2"
      },
      "source": [
        "#keras.utils.plot_model(model, \"CIFAR10.png\", show_shapes=True) "
      ],
      "execution_count": null,
      "outputs": []
    },
    {
      "cell_type": "code",
      "metadata": {
        "id": "6xPY0Xurmxp3"
      },
      "source": [
        "model.compile(optimizer='adam',\n",
        "              loss=tf.keras.losses.SparseCategoricalCrossentropy(from_logits=False),\n",
        "              metrics=['accuracy'])"
      ],
      "execution_count": null,
      "outputs": []
    },
    {
      "cell_type": "code",
      "metadata": {
        "colab": {
          "base_uri": "https://localhost:8080/"
        },
        "id": "KTZb6rlrmxp3",
        "outputId": "c7b388fc-dc31-4ca9-a9ba-011b5e5b431b"
      },
      "source": [
        "start_time=time.time()\n",
        "\n",
        "history = model.fit(train_images_norm\n",
        "                    ,train_labels\n",
        "                    ,epochs=100\n",
        "                    ,batch_size=300\n",
        "                    ,validation_data=(val_images_norm,val_labels)\n",
        "                    ,callbacks=[\n",
        "                    tf.keras.callbacks.EarlyStopping(monitor='val_accuracy', patience=10)\n",
        "                    ])\n",
        "                    #,tf.keras.callbacks.ModelCheckpoint('./models/model_{val_accuracy:.4f}.h5', save_best_only=True,\n",
        "                                       # save_weights_only=False, monitor='val_accuracy')] )                                                                                                          \n",
        "                   \n",
        "\n",
        "print(\"Execution Time = \", (time.time()-start_time))"
      ],
      "execution_count": null,
      "outputs": [
        {
          "output_type": "stream",
          "text": [
            "Epoch 1/100\n",
            "157/157 [==============================] - 7s 43ms/step - loss: 3.2321 - accuracy: 0.2875 - val_loss: 1.9666 - val_accuracy: 0.3620\n",
            "Epoch 2/100\n",
            "157/157 [==============================] - 7s 42ms/step - loss: 1.8590 - accuracy: 0.4012 - val_loss: 1.7700 - val_accuracy: 0.4290\n",
            "Epoch 3/100\n",
            "157/157 [==============================] - 7s 42ms/step - loss: 1.7049 - accuracy: 0.4571 - val_loss: 1.6109 - val_accuracy: 0.4927\n",
            "Epoch 4/100\n",
            "157/157 [==============================] - 7s 42ms/step - loss: 1.6119 - accuracy: 0.4942 - val_loss: 1.5754 - val_accuracy: 0.5110\n",
            "Epoch 5/100\n",
            "157/157 [==============================] - 7s 42ms/step - loss: 1.5475 - accuracy: 0.5213 - val_loss: 1.4999 - val_accuracy: 0.5430\n",
            "Epoch 6/100\n",
            "157/157 [==============================] - 6s 41ms/step - loss: 1.4996 - accuracy: 0.5394 - val_loss: 1.4752 - val_accuracy: 0.5483\n",
            "Epoch 7/100\n",
            "157/157 [==============================] - 7s 42ms/step - loss: 1.4599 - accuracy: 0.5562 - val_loss: 1.4274 - val_accuracy: 0.5580\n",
            "Epoch 8/100\n",
            "157/157 [==============================] - 6s 41ms/step - loss: 1.4119 - accuracy: 0.5769 - val_loss: 1.3836 - val_accuracy: 0.5883\n",
            "Epoch 9/100\n",
            "157/157 [==============================] - 6s 41ms/step - loss: 1.3832 - accuracy: 0.5896 - val_loss: 1.3396 - val_accuracy: 0.6067\n",
            "Epoch 10/100\n",
            "157/157 [==============================] - 6s 41ms/step - loss: 1.3478 - accuracy: 0.6051 - val_loss: 1.3054 - val_accuracy: 0.6277\n",
            "Epoch 11/100\n",
            "157/157 [==============================] - 7s 41ms/step - loss: 1.3093 - accuracy: 0.6173 - val_loss: 1.2984 - val_accuracy: 0.6203\n",
            "Epoch 12/100\n",
            "157/157 [==============================] - 7s 42ms/step - loss: 1.2811 - accuracy: 0.6299 - val_loss: 1.2623 - val_accuracy: 0.6390\n",
            "Epoch 13/100\n",
            "157/157 [==============================] - 6s 41ms/step - loss: 1.2621 - accuracy: 0.6382 - val_loss: 1.2424 - val_accuracy: 0.6477\n",
            "Epoch 14/100\n",
            "157/157 [==============================] - 7s 42ms/step - loss: 1.2369 - accuracy: 0.6479 - val_loss: 1.2357 - val_accuracy: 0.6557\n",
            "Epoch 15/100\n",
            "157/157 [==============================] - 7s 42ms/step - loss: 1.2188 - accuracy: 0.6567 - val_loss: 1.2858 - val_accuracy: 0.6400\n",
            "Epoch 16/100\n",
            "157/157 [==============================] - 7s 42ms/step - loss: 1.1976 - accuracy: 0.6659 - val_loss: 1.2006 - val_accuracy: 0.6507\n",
            "Epoch 17/100\n",
            "157/157 [==============================] - 7s 42ms/step - loss: 1.1687 - accuracy: 0.6759 - val_loss: 1.2118 - val_accuracy: 0.6680\n",
            "Epoch 18/100\n",
            "157/157 [==============================] - 6s 41ms/step - loss: 1.1459 - accuracy: 0.6859 - val_loss: 1.2140 - val_accuracy: 0.6607\n",
            "Epoch 19/100\n",
            "157/157 [==============================] - 6s 41ms/step - loss: 1.1387 - accuracy: 0.6892 - val_loss: 1.2084 - val_accuracy: 0.6670\n",
            "Epoch 20/100\n",
            "157/157 [==============================] - 6s 41ms/step - loss: 1.1191 - accuracy: 0.6945 - val_loss: 1.2184 - val_accuracy: 0.6580\n",
            "Epoch 21/100\n",
            "157/157 [==============================] - 7s 42ms/step - loss: 1.1095 - accuracy: 0.7011 - val_loss: 1.2059 - val_accuracy: 0.6647\n",
            "Epoch 22/100\n",
            "157/157 [==============================] - 6s 41ms/step - loss: 1.0896 - accuracy: 0.7090 - val_loss: 1.2101 - val_accuracy: 0.6737\n",
            "Epoch 23/100\n",
            "157/157 [==============================] - 6s 41ms/step - loss: 1.0828 - accuracy: 0.7120 - val_loss: 1.1869 - val_accuracy: 0.6740\n",
            "Epoch 24/100\n",
            "157/157 [==============================] - 6s 41ms/step - loss: 1.0723 - accuracy: 0.7130 - val_loss: 1.1682 - val_accuracy: 0.6827\n",
            "Epoch 25/100\n",
            "157/157 [==============================] - 7s 41ms/step - loss: 1.0469 - accuracy: 0.7231 - val_loss: 1.1919 - val_accuracy: 0.6793\n",
            "Epoch 26/100\n",
            "157/157 [==============================] - 6s 41ms/step - loss: 1.0414 - accuracy: 0.7269 - val_loss: 1.1750 - val_accuracy: 0.6793\n",
            "Epoch 27/100\n",
            "157/157 [==============================] - 7s 41ms/step - loss: 1.0230 - accuracy: 0.7352 - val_loss: 1.1704 - val_accuracy: 0.6897\n",
            "Epoch 28/100\n",
            "157/157 [==============================] - 6s 41ms/step - loss: 1.0059 - accuracy: 0.7384 - val_loss: 1.1842 - val_accuracy: 0.6790\n",
            "Epoch 29/100\n",
            "157/157 [==============================] - 6s 41ms/step - loss: 1.0004 - accuracy: 0.7418 - val_loss: 1.1683 - val_accuracy: 0.6820\n",
            "Epoch 30/100\n",
            "157/157 [==============================] - 7s 42ms/step - loss: 0.9871 - accuracy: 0.7476 - val_loss: 1.1942 - val_accuracy: 0.6803\n",
            "Epoch 31/100\n",
            "157/157 [==============================] - 6s 41ms/step - loss: 0.9808 - accuracy: 0.7490 - val_loss: 1.1370 - val_accuracy: 0.6983\n",
            "Epoch 32/100\n",
            "157/157 [==============================] - 7s 41ms/step - loss: 0.9565 - accuracy: 0.7607 - val_loss: 1.1683 - val_accuracy: 0.6987\n",
            "Epoch 33/100\n",
            "157/157 [==============================] - 6s 41ms/step - loss: 0.9480 - accuracy: 0.7624 - val_loss: 1.1533 - val_accuracy: 0.6970\n",
            "Epoch 34/100\n",
            "157/157 [==============================] - 6s 41ms/step - loss: 0.9445 - accuracy: 0.7639 - val_loss: 1.1723 - val_accuracy: 0.6873\n",
            "Epoch 35/100\n",
            "157/157 [==============================] - 6s 41ms/step - loss: 0.9331 - accuracy: 0.7710 - val_loss: 1.1365 - val_accuracy: 0.7060\n",
            "Epoch 36/100\n",
            "157/157 [==============================] - 6s 41ms/step - loss: 0.9201 - accuracy: 0.7755 - val_loss: 1.1825 - val_accuracy: 0.6907\n",
            "Epoch 37/100\n",
            "157/157 [==============================] - 7s 42ms/step - loss: 0.9139 - accuracy: 0.7760 - val_loss: 1.1511 - val_accuracy: 0.7040\n",
            "Epoch 38/100\n",
            "157/157 [==============================] - 6s 41ms/step - loss: 0.8976 - accuracy: 0.7813 - val_loss: 1.1428 - val_accuracy: 0.7113\n",
            "Epoch 39/100\n",
            "157/157 [==============================] - 7s 42ms/step - loss: 0.8885 - accuracy: 0.7858 - val_loss: 1.1403 - val_accuracy: 0.7080\n",
            "Epoch 40/100\n",
            "157/157 [==============================] - 6s 41ms/step - loss: 0.8705 - accuracy: 0.7940 - val_loss: 1.1452 - val_accuracy: 0.7127\n",
            "Epoch 41/100\n",
            "157/157 [==============================] - 7s 41ms/step - loss: 0.8684 - accuracy: 0.7954 - val_loss: 1.1610 - val_accuracy: 0.7107\n",
            "Epoch 42/100\n",
            "157/157 [==============================] - 6s 41ms/step - loss: 0.8566 - accuracy: 0.7994 - val_loss: 1.1580 - val_accuracy: 0.7113\n",
            "Epoch 43/100\n",
            "157/157 [==============================] - 7s 42ms/step - loss: 0.8379 - accuracy: 0.8056 - val_loss: 1.1656 - val_accuracy: 0.7190\n",
            "Epoch 44/100\n",
            "157/157 [==============================] - 6s 41ms/step - loss: 0.8345 - accuracy: 0.8084 - val_loss: 1.2255 - val_accuracy: 0.6977\n",
            "Epoch 45/100\n",
            "157/157 [==============================] - 6s 41ms/step - loss: 0.8231 - accuracy: 0.8107 - val_loss: 1.1653 - val_accuracy: 0.7140\n",
            "Epoch 46/100\n",
            "157/157 [==============================] - 6s 41ms/step - loss: 0.8149 - accuracy: 0.8158 - val_loss: 1.1749 - val_accuracy: 0.7177\n",
            "Epoch 47/100\n",
            "157/157 [==============================] - 6s 41ms/step - loss: 0.8051 - accuracy: 0.8200 - val_loss: 1.1770 - val_accuracy: 0.7113\n",
            "Epoch 48/100\n",
            "157/157 [==============================] - 6s 41ms/step - loss: 0.8018 - accuracy: 0.8204 - val_loss: 1.1624 - val_accuracy: 0.7200\n",
            "Epoch 49/100\n",
            "157/157 [==============================] - 6s 41ms/step - loss: 0.7932 - accuracy: 0.8224 - val_loss: 1.1835 - val_accuracy: 0.7193\n",
            "Epoch 50/100\n",
            "157/157 [==============================] - 7s 42ms/step - loss: 0.7736 - accuracy: 0.8302 - val_loss: 1.1917 - val_accuracy: 0.7157\n",
            "Epoch 51/100\n",
            "157/157 [==============================] - 7s 42ms/step - loss: 0.7624 - accuracy: 0.8354 - val_loss: 1.1756 - val_accuracy: 0.7147\n",
            "Epoch 52/100\n",
            "157/157 [==============================] - 7s 41ms/step - loss: 0.7550 - accuracy: 0.8393 - val_loss: 1.1890 - val_accuracy: 0.7197\n",
            "Epoch 53/100\n",
            "157/157 [==============================] - 7s 42ms/step - loss: 0.7442 - accuracy: 0.8425 - val_loss: 1.2591 - val_accuracy: 0.6937\n",
            "Epoch 54/100\n",
            "157/157 [==============================] - 6s 41ms/step - loss: 0.7399 - accuracy: 0.8448 - val_loss: 1.2327 - val_accuracy: 0.7110\n",
            "Epoch 55/100\n",
            "157/157 [==============================] - 7s 42ms/step - loss: 0.7323 - accuracy: 0.8477 - val_loss: 1.2606 - val_accuracy: 0.7047\n",
            "Epoch 56/100\n",
            "157/157 [==============================] - 6s 41ms/step - loss: 0.7157 - accuracy: 0.8547 - val_loss: 1.2433 - val_accuracy: 0.7177\n",
            "Epoch 57/100\n",
            "157/157 [==============================] - 6s 41ms/step - loss: 0.7044 - accuracy: 0.8600 - val_loss: 1.2693 - val_accuracy: 0.7130\n",
            "Epoch 58/100\n",
            "157/157 [==============================] - 7s 41ms/step - loss: 0.6967 - accuracy: 0.8596 - val_loss: 1.2352 - val_accuracy: 0.7173\n",
            "Execution Time =  378.7212333679199\n"
          ],
          "name": "stdout"
        }
      ]
    },
    {
      "cell_type": "code",
      "metadata": {
        "colab": {
          "base_uri": "https://localhost:8080/"
        },
        "id": "0jWXhNZfmxp5",
        "outputId": "b7c15b61-2312-4a92-f613-0301a52b1492"
      },
      "source": [
        "#Check Accuracy\n",
        "preds=model.predict(test_images_norm)\n",
        "\n",
        "#Evaluate the Model-Accuracy\n",
        "loss,accuracy=model.evaluate(test_images_norm,test_labels)\n",
        "print('Test Set Accuracy: ', accuracy*100,'%', 'Test Set Loss: ', loss)\n",
        "\n"
      ],
      "execution_count": null,
      "outputs": [
        {
          "output_type": "stream",
          "text": [
            "313/313 [==============================] - 1s 4ms/step - loss: 1.2761 - accuracy: 0.7104\n",
            "Test Set Accuracy:  71.03999853134155 % Test Set Loss:  1.2761238813400269\n"
          ],
          "name": "stdout"
        }
      ]
    },
    {
      "cell_type": "code",
      "metadata": {
        "colab": {
          "base_uri": "https://localhost:8080/",
          "height": 508
        },
        "id": "Kg-AlbW6mxp5",
        "outputId": "b87ef5d7-c0cb-4380-f203-d750a2c42294"
      },
      "source": [
        "#Confusion Matrix\n",
        "pred_classes=np.argmax(model.predict(test_images_norm),axis=-1)\n",
        "conf_mx=tf.math.confusion_matrix(test_labels,pred_classes)\n",
        "\n",
        "plt.figure(figsize=(16,8))\n",
        "plt.matshow(conf_mx,cmap=plt.cm.Blues,fignum=1)\n",
        "plt.xlabel('Predicted Classes')\n",
        "plt.ylabel('Actual Classes')\n",
        "plt.show()"
      ],
      "execution_count": null,
      "outputs": [
        {
          "output_type": "display_data",
          "data": {
            "image/png": "[encoded data removed]",
            "text/plain": [
              "<Figure size 1152x576 with 1 Axes>"
            ]
          },
          "metadata": {
            "tags": [],
            "needs_background": "light"
          }
        }
      ]
    },
    {
      "cell_type": "code",
      "metadata": {
        "colab": {
          "base_uri": "https://localhost:8080/"
        },
        "id": "SHTdPO2xmxp6",
        "outputId": "1b07c845-d6ee-4641-da36-c273f96cd869"
      },
      "source": [
        "#Plotting Performance Metrics\n",
        "\n",
        "hist_dict=history.history\n",
        "hist_dict.keys()"
      ],
      "execution_count": null,
      "outputs": [
        {
          "output_type": "execute_result",
          "data": {
            "text/plain": [
              "dict_keys(['loss', 'accuracy', 'val_loss', 'val_accuracy'])"
            ]
          },
          "metadata": {
            "tags": []
          },
          "execution_count": 57
        }
      ]
    },
    {
      "cell_type": "code",
      "metadata": {
        "id": "ZKNWQhX4mxp7"
      },
      "source": [
        "losses=history.history['loss']\n",
        "accs=history.history['accuracy']\n",
        "val_losses=history.history['val_loss']\n",
        "val_accs=history.history['val_accuracy']\n",
        "epochs=len(losses)"
      ],
      "execution_count": null,
      "outputs": []
    },
    {
      "cell_type": "code",
      "metadata": {
        "colab": {
          "base_uri": "https://localhost:8080/",
          "height": 265
        },
        "id": "TYkSOBaUmxp7",
        "outputId": "58883afc-bd29-4d03-9cd1-39149573220e"
      },
      "source": [
        "plt.figure(figsize=(16, 4))\n",
        "for i, metrics in enumerate(zip([losses, accs], [val_losses, val_accs], ['Loss', 'Accuracy'])):\n",
        "    plt.subplot(1, 2, i + 1)\n",
        "    plt.plot(range(epochs), metrics[0], label='Training {}'.format(metrics[2]))\n",
        "    plt.plot(range(epochs), metrics[1], label='Validation {}'.format(metrics[2]))\n",
        "    plt.legend()\n",
        "plt.show()"
      ],
      "execution_count": null,
      "outputs": [
        {
          "output_type": "display_data",
          "data": {
            "image/png": "[encoded data removed]",
            "text/plain": [
              "<Figure size 1152x288 with 2 Axes>"
            ]
          },
          "metadata": {
            "tags": [],
            "needs_background": "light"
          }
        }
      ]
    },
    {
      "cell_type": "markdown",
      "metadata": {
        "id": "Vstxnbhfm6V9"
      },
      "source": [
        "##Experiment 8\n",
        "###CNN with 3 convolution/max pooling layers (L2 Regularization)"
      ]
    },
    {
      "cell_type": "code",
      "metadata": {
        "id": "STmJdtPJm6WC"
      },
      "source": [
        "model = models.Sequential()\n",
        "model.add(layers.Conv2D(filters=128, kernel_size=(3, 3), strides=(1, 1), activation=tf.nn.relu, input_shape=(32, 32, 3)))\n",
        "model.add(layers.MaxPool2D((2, 2),strides=2))\n",
        "model.add(layers.Conv2D(filters=256, kernel_size=(3, 3), strides=(1, 1), kernel_regularizer=tf.keras.regularizers.l2(0.0005), activation=tf.nn.relu))\n",
        "model.add(layers.MaxPool2D(pool_size=(2, 2),strides=2))\n",
        "model.add(layers.Conv2D(filters=512, kernel_size=(3, 3), strides=(1, 1), kernel_regularizer=tf.keras.regularizers.l2(0.0005), activation=tf.nn.relu))\n",
        "model.add(layers.MaxPool2D(pool_size=(2, 2),strides=2))\n",
        "model.add(layers.Flatten())\n",
        "model.add(layers.Dense(units=384, activation=tf.nn.relu))\n",
        "model.add(layers.Dense(units=10, activation=tf.nn.softmax))\n"
      ],
      "execution_count": null,
      "outputs": []
    },
    {
      "cell_type": "code",
      "metadata": {
        "id": "tanRnovQm6WD",
        "colab": {
          "base_uri": "https://localhost:8080/"
        },
        "outputId": "024bf333-bcff-42ae-db90-65128810f6bf"
      },
      "source": [
        "model.summary()"
      ],
      "execution_count": null,
      "outputs": [
        {
          "output_type": "stream",
          "text": [
            "Model: \"sequential_8\"\n",
            "_________________________________________________________________\n",
            "Layer (type)                 Output Shape              Param #   \n",
            "=================================================================\n",
            "conv2d_29 (Conv2D)           (None, 30, 30, 128)       3584      \n",
            "_________________________________________________________________\n",
            "max_pooling2d_22 (MaxPooling (None, 15, 15, 128)       0         \n",
            "_________________________________________________________________\n",
            "conv2d_30 (Conv2D)           (None, 13, 13, 256)       295168    \n",
            "_________________________________________________________________\n",
            "max_pooling2d_23 (MaxPooling (None, 6, 6, 256)         0         \n",
            "_________________________________________________________________\n",
            "conv2d_31 (Conv2D)           (None, 4, 4, 512)         1180160   \n",
            "_________________________________________________________________\n",
            "max_pooling2d_24 (MaxPooling (None, 2, 2, 512)         0         \n",
            "_________________________________________________________________\n",
            "flatten_7 (Flatten)          (None, 2048)              0         \n",
            "_________________________________________________________________\n",
            "dense_15 (Dense)             (None, 384)               786816    \n",
            "_________________________________________________________________\n",
            "dense_16 (Dense)             (None, 10)                3850      \n",
            "=================================================================\n",
            "Total params: 2,269,578\n",
            "Trainable params: 2,269,578\n",
            "Non-trainable params: 0\n",
            "_________________________________________________________________\n"
          ],
          "name": "stdout"
        }
      ]
    },
    {
      "cell_type": "code",
      "metadata": {
        "id": "wFr3KMNTm6WF"
      },
      "source": [
        "#keras.utils.plot_model(model, \"CIFAR10.png\", show_shapes=True) "
      ],
      "execution_count": null,
      "outputs": []
    },
    {
      "cell_type": "code",
      "metadata": {
        "id": "OcpkRhacm6WH"
      },
      "source": [
        "model.compile(optimizer='adam',\n",
        "              loss=tf.keras.losses.SparseCategoricalCrossentropy(from_logits=False),\n",
        "              metrics=['accuracy'])"
      ],
      "execution_count": null,
      "outputs": []
    },
    {
      "cell_type": "code",
      "metadata": {
        "colab": {
          "base_uri": "https://localhost:8080/"
        },
        "id": "3q4-YiqJm6WI",
        "outputId": "38bd9aa1-a81c-4fa4-923a-49b2847aca75"
      },
      "source": [
        "start_time=time.time()\n",
        "\n",
        "history = model.fit(train_images_norm\n",
        "                    ,train_labels\n",
        "                    ,epochs=100\n",
        "                    ,batch_size=300\n",
        "                    ,validation_data=(val_images_norm,val_labels)\n",
        "                    ,callbacks=[\n",
        "                    tf.keras.callbacks.EarlyStopping(monitor='val_accuracy', patience=10)\n",
        "                    ])\n",
        "                    #,tf.keras.callbacks.ModelCheckpoint('./models/model_{val_accuracy:.4f}.h5', save_best_only=True,\n",
        "                                       # save_weights_only=False, monitor='val_accuracy')] )                                                                                                          \n",
        "                   \n",
        "print(\"Execution Time = \", (time.time()-start_time))"
      ],
      "execution_count": null,
      "outputs": [
        {
          "output_type": "stream",
          "text": [
            "Epoch 1/100\n",
            "157/157 [==============================] - 7s 43ms/step - loss: 1.7769 - accuracy: 0.3752 - val_loss: 1.4371 - val_accuracy: 0.5140\n",
            "Epoch 2/100\n",
            "157/157 [==============================] - 7s 42ms/step - loss: 1.3433 - accuracy: 0.5476 - val_loss: 1.1854 - val_accuracy: 0.6067\n",
            "Epoch 3/100\n",
            "157/157 [==============================] - 7s 43ms/step - loss: 1.1695 - accuracy: 0.6204 - val_loss: 1.0928 - val_accuracy: 0.6507\n",
            "Epoch 4/100\n",
            "157/157 [==============================] - 7s 42ms/step - loss: 1.0539 - accuracy: 0.6684 - val_loss: 1.0619 - val_accuracy: 0.6643\n",
            "Epoch 5/100\n",
            "157/157 [==============================] - 7s 42ms/step - loss: 0.9601 - accuracy: 0.7052 - val_loss: 0.9274 - val_accuracy: 0.7187\n",
            "Epoch 6/100\n",
            "157/157 [==============================] - 7s 42ms/step - loss: 0.8857 - accuracy: 0.7349 - val_loss: 0.9477 - val_accuracy: 0.7107\n",
            "Epoch 7/100\n",
            "157/157 [==============================] - 7s 42ms/step - loss: 0.8274 - accuracy: 0.7592 - val_loss: 0.9540 - val_accuracy: 0.7097\n",
            "Epoch 8/100\n",
            "157/157 [==============================] - 6s 41ms/step - loss: 0.7715 - accuracy: 0.7815 - val_loss: 0.9464 - val_accuracy: 0.7197\n",
            "Epoch 9/100\n",
            "157/157 [==============================] - 7s 42ms/step - loss: 0.7198 - accuracy: 0.8016 - val_loss: 0.8920 - val_accuracy: 0.7460\n",
            "Epoch 10/100\n",
            "157/157 [==============================] - 6s 41ms/step - loss: 0.6749 - accuracy: 0.8211 - val_loss: 0.9475 - val_accuracy: 0.7387\n",
            "Epoch 11/100\n",
            "157/157 [==============================] - 7s 42ms/step - loss: 0.6294 - accuracy: 0.8390 - val_loss: 0.9113 - val_accuracy: 0.7493\n",
            "Epoch 12/100\n",
            "157/157 [==============================] - 7s 41ms/step - loss: 0.5862 - accuracy: 0.8574 - val_loss: 0.9334 - val_accuracy: 0.7337\n",
            "Epoch 13/100\n",
            "157/157 [==============================] - 7s 42ms/step - loss: 0.5439 - accuracy: 0.8750 - val_loss: 0.9465 - val_accuracy: 0.7487\n",
            "Epoch 14/100\n",
            "157/157 [==============================] - 7s 42ms/step - loss: 0.5024 - accuracy: 0.8904 - val_loss: 0.9715 - val_accuracy: 0.7513\n",
            "Epoch 15/100\n",
            "157/157 [==============================] - 6s 41ms/step - loss: 0.4762 - accuracy: 0.9032 - val_loss: 0.9955 - val_accuracy: 0.7527\n",
            "Epoch 16/100\n",
            "157/157 [==============================] - 7s 42ms/step - loss: 0.4412 - accuracy: 0.9173 - val_loss: 1.0580 - val_accuracy: 0.7417\n",
            "Epoch 17/100\n",
            "157/157 [==============================] - 7s 42ms/step - loss: 0.4125 - accuracy: 0.9291 - val_loss: 1.0498 - val_accuracy: 0.7633\n",
            "Epoch 18/100\n",
            "157/157 [==============================] - 7s 42ms/step - loss: 0.3890 - accuracy: 0.9376 - val_loss: 1.0723 - val_accuracy: 0.7587\n",
            "Epoch 19/100\n",
            "157/157 [==============================] - 7s 42ms/step - loss: 0.3798 - accuracy: 0.9434 - val_loss: 1.1980 - val_accuracy: 0.7330\n",
            "Epoch 20/100\n",
            "157/157 [==============================] - 7s 42ms/step - loss: 0.3593 - accuracy: 0.9496 - val_loss: 1.2052 - val_accuracy: 0.7413\n",
            "Epoch 21/100\n",
            "157/157 [==============================] - 7s 42ms/step - loss: 0.3335 - accuracy: 0.9599 - val_loss: 1.1998 - val_accuracy: 0.7397\n",
            "Epoch 22/100\n",
            "157/157 [==============================] - 7s 42ms/step - loss: 0.3312 - accuracy: 0.9594 - val_loss: 1.2416 - val_accuracy: 0.7440\n",
            "Epoch 23/100\n",
            "157/157 [==============================] - 7s 42ms/step - loss: 0.3266 - accuracy: 0.9605 - val_loss: 1.2349 - val_accuracy: 0.7450\n",
            "Epoch 24/100\n",
            "157/157 [==============================] - 6s 41ms/step - loss: 0.3260 - accuracy: 0.9602 - val_loss: 1.2001 - val_accuracy: 0.7467\n",
            "Epoch 25/100\n",
            "157/157 [==============================] - 7s 42ms/step - loss: 0.3144 - accuracy: 0.9653 - val_loss: 1.2307 - val_accuracy: 0.7457\n",
            "Epoch 26/100\n",
            "157/157 [==============================] - 7s 42ms/step - loss: 0.3231 - accuracy: 0.9610 - val_loss: 1.3337 - val_accuracy: 0.7363\n",
            "Epoch 27/100\n",
            "157/157 [==============================] - 6s 41ms/step - loss: 0.3126 - accuracy: 0.9653 - val_loss: 1.3117 - val_accuracy: 0.7400\n",
            "Execution Time =  178.51430225372314\n"
          ],
          "name": "stdout"
        }
      ]
    },
    {
      "cell_type": "code",
      "metadata": {
        "colab": {
          "base_uri": "https://localhost:8080/"
        },
        "id": "EVepxbEQm6WJ",
        "outputId": "2f369775-9c3b-4841-81e5-2bd79d01366e"
      },
      "source": [
        "#Check Accuracy\n",
        "preds=model.predict(test_images_norm)\n",
        "\n",
        "#Evaluate the Model-Accuracy\n",
        "loss,accuracy=model.evaluate(test_images_norm,test_labels)\n",
        "print('Test Set Accuracy: ', accuracy*100,'%', 'Test Set Loss: ', loss)\n",
        "\n"
      ],
      "execution_count": null,
      "outputs": [
        {
          "output_type": "stream",
          "text": [
            "313/313 [==============================] - 2s 4ms/step - loss: 1.3709 - accuracy: 0.7325\n",
            "Test Set Accuracy:  73.25000166893005 % Test Set Loss:  1.3709337711334229\n"
          ],
          "name": "stdout"
        }
      ]
    },
    {
      "cell_type": "code",
      "metadata": {
        "colab": {
          "base_uri": "https://localhost:8080/",
          "height": 508
        },
        "id": "m4RaFQgUm6WJ",
        "outputId": "82b58c28-cb99-4f9b-e447-843be1df0333"
      },
      "source": [
        "#Confusion Matrix\n",
        "pred_classes=np.argmax(model.predict(test_images_norm),axis=-1)\n",
        "conf_mx=tf.math.confusion_matrix(test_labels,pred_classes)\n",
        "\n",
        "plt.figure(figsize=(16,8))\n",
        "plt.matshow(conf_mx,cmap=plt.cm.Blues,fignum=1)\n",
        "plt.xlabel('Predicted Classes')\n",
        "plt.ylabel('Actual Classes')\n",
        "plt.show()"
      ],
      "execution_count": null,
      "outputs": [
        {
          "output_type": "display_data",
          "data": {
            "image/png": "[encoded data removed]",
            "text/plain": [
              "<Figure size 1152x576 with 1 Axes>"
            ]
          },
          "metadata": {
            "tags": [],
            "needs_background": "light"
          }
        }
      ]
    },
    {
      "cell_type": "code",
      "metadata": {
        "colab": {
          "base_uri": "https://localhost:8080/"
        },
        "id": "i3zHC1N8m6WL",
        "outputId": "025f2838-2844-488d-be8b-47c5b60274e1"
      },
      "source": [
        "#Plotting Performance Metrics\n",
        "\n",
        "hist_dict=history.history\n",
        "hist_dict.keys()"
      ],
      "execution_count": null,
      "outputs": [
        {
          "output_type": "execute_result",
          "data": {
            "text/plain": [
              "dict_keys(['loss', 'accuracy', 'val_loss', 'val_accuracy'])"
            ]
          },
          "metadata": {
            "tags": []
          },
          "execution_count": 67
        }
      ]
    },
    {
      "cell_type": "code",
      "metadata": {
        "id": "pnJY4Ij9m6WM"
      },
      "source": [
        "losses=history.history['loss']\n",
        "accs=history.history['accuracy']\n",
        "val_losses=history.history['val_loss']\n",
        "val_accs=history.history['val_accuracy']\n",
        "epochs=len(losses)"
      ],
      "execution_count": null,
      "outputs": []
    },
    {
      "cell_type": "code",
      "metadata": {
        "colab": {
          "base_uri": "https://localhost:8080/",
          "height": 265
        },
        "id": "hoXzd2t_m6WM",
        "outputId": "43987275-8c29-4b57-d080-7015dd8ca698"
      },
      "source": [
        "plt.figure(figsize=(16, 4))\n",
        "for i, metrics in enumerate(zip([losses, accs], [val_losses, val_accs], ['Loss', 'Accuracy'])):\n",
        "    plt.subplot(1, 2, i + 1)\n",
        "    plt.plot(range(epochs), metrics[0], label='Training {}'.format(metrics[2]))\n",
        "    plt.plot(range(epochs), metrics[1], label='Validation {}'.format(metrics[2]))\n",
        "    plt.legend()\n",
        "plt.show()"
      ],
      "execution_count": null,
      "outputs": [
        {
          "output_type": "display_data",
          "data": {
            "image/png": "[encoded data removed]",
            "text/plain": [
              "<Figure size 1152x288 with 2 Axes>"
            ]
          },
          "metadata": {
            "tags": [],
            "needs_background": "light"
          }
        }
      ]
    },
    {
      "cell_type": "markdown",
      "metadata": {
        "id": "gv0gsiSgnFhY"
      },
      "source": [
        "#Experiment 9\n",
        "###CNN with 3 convolution/max pooling layers (Batch Normalization)"
      ]
    },
    {
      "cell_type": "code",
      "metadata": {
        "id": "NMa8EuZ6nFhc"
      },
      "source": [
        "model = models.Sequential()\n",
        "model.add(layers.Conv2D(filters=128, kernel_size=(3, 3), strides=(1, 1), activation=tf.nn.relu,input_shape=(32, 32, 3)))\n",
        "model.add(layers.MaxPool2D((2, 2),strides=2))\n",
        "model.add(layers.Dropout(0.3))\n",
        "model.add(layers.Conv2D(filters=256, kernel_size=(3, 3), strides=(1, 1), activation=tf.nn.relu))\n",
        "model.add(layers.MaxPool2D(pool_size=(2, 2),strides=2))\n",
        "model.add(layers.Dropout(0.3))\n",
        "model.add(layers.Conv2D(filters=512, kernel_size=(3, 3), strides=(1, 1), activation=tf.nn.relu))\n",
        "model.add(layers.MaxPool2D(pool_size=(2, 2),strides=2))\n",
        "model.add(layers.Dropout(0.3))\n",
        "model.add(layers.Flatten())\n",
        "model.add(layers.Dense(units=384, activation=tf.nn.relu))\n",
        "model.add(layers.BatchNormalization())\n",
        "model.add(layers.Dense(units=10, activation=tf.nn.softmax))\n"
      ],
      "execution_count": null,
      "outputs": []
    },
    {
      "cell_type": "code",
      "metadata": {
        "colab": {
          "base_uri": "https://localhost:8080/"
        },
        "id": "Q6ud4d66nFhd",
        "outputId": "30341233-cdd0-4767-cfbd-ddf39578a976"
      },
      "source": [
        "model.summary()"
      ],
      "execution_count": null,
      "outputs": [
        {
          "output_type": "stream",
          "text": [
            "Model: \"sequential\"\n",
            "_________________________________________________________________\n",
            "Layer (type)                 Output Shape              Param #   \n",
            "=================================================================\n",
            "conv2d (Conv2D)              (None, 30, 30, 128)       3584      \n",
            "_________________________________________________________________\n",
            "max_pooling2d (MaxPooling2D) (None, 15, 15, 128)       0         \n",
            "_________________________________________________________________\n",
            "dropout (Dropout)            (None, 15, 15, 128)       0         \n",
            "_________________________________________________________________\n",
            "conv2d_1 (Conv2D)            (None, 13, 13, 256)       295168    \n",
            "_________________________________________________________________\n",
            "max_pooling2d_1 (MaxPooling2 (None, 6, 6, 256)         0         \n",
            "_________________________________________________________________\n",
            "dropout_1 (Dropout)          (None, 6, 6, 256)         0         \n",
            "_________________________________________________________________\n",
            "conv2d_2 (Conv2D)            (None, 4, 4, 512)         1180160   \n",
            "_________________________________________________________________\n",
            "max_pooling2d_2 (MaxPooling2 (None, 2, 2, 512)         0         \n",
            "_________________________________________________________________\n",
            "dropout_2 (Dropout)          (None, 2, 2, 512)         0         \n",
            "_________________________________________________________________\n",
            "flatten (Flatten)            (None, 2048)              0         \n",
            "_________________________________________________________________\n",
            "dense (Dense)                (None, 384)               786816    \n",
            "_________________________________________________________________\n",
            "batch_normalization (BatchNo (None, 384)               1536      \n",
            "_________________________________________________________________\n",
            "dense_1 (Dense)              (None, 10)                3850      \n",
            "=================================================================\n",
            "Total params: 2,271,114\n",
            "Trainable params: 2,270,346\n",
            "Non-trainable params: 768\n",
            "_________________________________________________________________\n"
          ],
          "name": "stdout"
        }
      ]
    },
    {
      "cell_type": "code",
      "metadata": {
        "id": "MbmLZdlXnFhf"
      },
      "source": [
        "#keras.utils.plot_model(model, \"CIFAR10.png\", show_shapes=True) "
      ],
      "execution_count": null,
      "outputs": []
    },
    {
      "cell_type": "code",
      "metadata": {
        "id": "B99ioa6pnFhh"
      },
      "source": [
        "model.compile(optimizer='adam',\n",
        "              loss=tf.keras.losses.SparseCategoricalCrossentropy(from_logits=False),\n",
        "              metrics=['accuracy'])"
      ],
      "execution_count": null,
      "outputs": []
    },
    {
      "cell_type": "code",
      "metadata": {
        "colab": {
          "base_uri": "https://localhost:8080/"
        },
        "id": "A4hLH-RSnFhi",
        "outputId": "f21e1318-45ed-431e-acde-c57418ccb0ac"
      },
      "source": [
        "start_time=time.time()\n",
        "\n",
        "history = model.fit(train_images_norm\n",
        "                    ,train_labels\n",
        "                    ,epochs=50\n",
        "                    ,batch_size=100\n",
        "                    ,validation_data=(val_images_norm,val_labels)\n",
        "                    #,callbacks=[\n",
        "                    #tf.keras.callbacks.EarlyStopping(monitor='val_accuracy', patience=3),\n",
        "                    #tf.keras.callbacks.ModelCheckpoint('./models/model_{val_accuracy:.4f}.h5', save_best_only=True,\n",
        "                                       # save_weights_only=False, monitor='val_accuracy')]                                                                                                           \n",
        "                   )\n",
        "\n",
        "print(\"Execution Time = \", (time.time()-start_time))"
      ],
      "execution_count": null,
      "outputs": [
        {
          "output_type": "stream",
          "text": [
            "Epoch 1/50\n",
            "470/470 [==============================] - 40s 17ms/step - loss: 1.5314 - accuracy: 0.4493 - val_loss: 1.1429 - val_accuracy: 0.6000\n",
            "Epoch 2/50\n",
            "470/470 [==============================] - 8s 16ms/step - loss: 1.1249 - accuracy: 0.6045 - val_loss: 0.9478 - val_accuracy: 0.6637\n",
            "Epoch 3/50\n",
            "470/470 [==============================] - 8s 16ms/step - loss: 0.9773 - accuracy: 0.6571 - val_loss: 1.0540 - val_accuracy: 0.6257\n",
            "Epoch 4/50\n",
            "470/470 [==============================] - 8s 16ms/step - loss: 0.8754 - accuracy: 0.6936 - val_loss: 0.7823 - val_accuracy: 0.7277\n",
            "Epoch 5/50\n",
            "470/470 [==============================] - 8s 16ms/step - loss: 0.8176 - accuracy: 0.7146 - val_loss: 0.7297 - val_accuracy: 0.7520\n",
            "Epoch 6/50\n",
            "470/470 [==============================] - 8s 16ms/step - loss: 0.7555 - accuracy: 0.7356 - val_loss: 0.7186 - val_accuracy: 0.7473\n",
            "Epoch 7/50\n",
            "470/470 [==============================] - 8s 16ms/step - loss: 0.7086 - accuracy: 0.7526 - val_loss: 0.6956 - val_accuracy: 0.7653\n",
            "Epoch 8/50\n",
            "470/470 [==============================] - 8s 16ms/step - loss: 0.6655 - accuracy: 0.7659 - val_loss: 0.7166 - val_accuracy: 0.7510\n",
            "Epoch 9/50\n",
            "470/470 [==============================] - 8s 16ms/step - loss: 0.6252 - accuracy: 0.7816 - val_loss: 0.6490 - val_accuracy: 0.7777\n",
            "Epoch 10/50\n",
            "470/470 [==============================] - 8s 16ms/step - loss: 0.5937 - accuracy: 0.7908 - val_loss: 0.6117 - val_accuracy: 0.7940\n",
            "Epoch 11/50\n",
            "470/470 [==============================] - 8s 16ms/step - loss: 0.5682 - accuracy: 0.7991 - val_loss: 0.6149 - val_accuracy: 0.7877\n",
            "Epoch 12/50\n",
            "470/470 [==============================] - 8s 16ms/step - loss: 0.5344 - accuracy: 0.8100 - val_loss: 0.6304 - val_accuracy: 0.7860\n",
            "Epoch 13/50\n",
            "470/470 [==============================] - 8s 16ms/step - loss: 0.5111 - accuracy: 0.8193 - val_loss: 0.5815 - val_accuracy: 0.8053\n",
            "Epoch 14/50\n",
            "470/470 [==============================] - 8s 17ms/step - loss: 0.4936 - accuracy: 0.8257 - val_loss: 0.6662 - val_accuracy: 0.7787\n",
            "Epoch 15/50\n",
            "470/470 [==============================] - 8s 17ms/step - loss: 0.4684 - accuracy: 0.8345 - val_loss: 0.5892 - val_accuracy: 0.8097\n",
            "Epoch 16/50\n",
            "470/470 [==============================] - 8s 17ms/step - loss: 0.4469 - accuracy: 0.8427 - val_loss: 0.6092 - val_accuracy: 0.7967\n",
            "Epoch 17/50\n",
            "470/470 [==============================] - 8s 17ms/step - loss: 0.4296 - accuracy: 0.8461 - val_loss: 0.5676 - val_accuracy: 0.8183\n",
            "Epoch 18/50\n",
            "470/470 [==============================] - 8s 17ms/step - loss: 0.4152 - accuracy: 0.8513 - val_loss: 0.5738 - val_accuracy: 0.8097\n",
            "Epoch 19/50\n",
            "470/470 [==============================] - 8s 17ms/step - loss: 0.3966 - accuracy: 0.8586 - val_loss: 0.5777 - val_accuracy: 0.8050\n",
            "Epoch 20/50\n",
            "470/470 [==============================] - 8s 17ms/step - loss: 0.3768 - accuracy: 0.8646 - val_loss: 0.6067 - val_accuracy: 0.7973\n",
            "Epoch 21/50\n",
            "470/470 [==============================] - 8s 17ms/step - loss: 0.3625 - accuracy: 0.8718 - val_loss: 0.5732 - val_accuracy: 0.8030\n",
            "Epoch 22/50\n",
            "470/470 [==============================] - 8s 17ms/step - loss: 0.3543 - accuracy: 0.8740 - val_loss: 0.5714 - val_accuracy: 0.8100\n",
            "Epoch 23/50\n",
            "470/470 [==============================] - 8s 17ms/step - loss: 0.3437 - accuracy: 0.8776 - val_loss: 0.5590 - val_accuracy: 0.8187\n",
            "Epoch 24/50\n",
            "470/470 [==============================] - 8s 17ms/step - loss: 0.3320 - accuracy: 0.8826 - val_loss: 0.5920 - val_accuracy: 0.8127\n",
            "Epoch 25/50\n",
            "470/470 [==============================] - 8s 17ms/step - loss: 0.3196 - accuracy: 0.8868 - val_loss: 0.5454 - val_accuracy: 0.8207\n",
            "Epoch 26/50\n",
            "470/470 [==============================] - 8s 17ms/step - loss: 0.3130 - accuracy: 0.8900 - val_loss: 0.5930 - val_accuracy: 0.8120\n",
            "Epoch 27/50\n",
            "470/470 [==============================] - 8s 17ms/step - loss: 0.2946 - accuracy: 0.8933 - val_loss: 0.5714 - val_accuracy: 0.8133\n",
            "Epoch 28/50\n",
            "470/470 [==============================] - 8s 17ms/step - loss: 0.2871 - accuracy: 0.8979 - val_loss: 0.5801 - val_accuracy: 0.8190\n",
            "Epoch 29/50\n",
            "470/470 [==============================] - 8s 17ms/step - loss: 0.2787 - accuracy: 0.8997 - val_loss: 0.6110 - val_accuracy: 0.8000\n",
            "Epoch 30/50\n",
            "470/470 [==============================] - 8s 17ms/step - loss: 0.2767 - accuracy: 0.9016 - val_loss: 0.5670 - val_accuracy: 0.8253\n",
            "Epoch 31/50\n",
            "470/470 [==============================] - 8s 17ms/step - loss: 0.2612 - accuracy: 0.9069 - val_loss: 0.6313 - val_accuracy: 0.8030\n",
            "Epoch 32/50\n",
            "470/470 [==============================] - 8s 17ms/step - loss: 0.2582 - accuracy: 0.9083 - val_loss: 0.6145 - val_accuracy: 0.8110\n",
            "Epoch 33/50\n",
            "470/470 [==============================] - 8s 17ms/step - loss: 0.2527 - accuracy: 0.9093 - val_loss: 0.5583 - val_accuracy: 0.8207\n",
            "Epoch 34/50\n",
            "470/470 [==============================] - 8s 17ms/step - loss: 0.2384 - accuracy: 0.9145 - val_loss: 0.5972 - val_accuracy: 0.8163\n",
            "Epoch 35/50\n",
            "470/470 [==============================] - 8s 17ms/step - loss: 0.2392 - accuracy: 0.9125 - val_loss: 0.5729 - val_accuracy: 0.8223\n",
            "Epoch 36/50\n",
            "470/470 [==============================] - 8s 17ms/step - loss: 0.2335 - accuracy: 0.9170 - val_loss: 0.6205 - val_accuracy: 0.8117\n",
            "Epoch 37/50\n",
            "470/470 [==============================] - 8s 17ms/step - loss: 0.2321 - accuracy: 0.9191 - val_loss: 0.5744 - val_accuracy: 0.8197\n",
            "Epoch 38/50\n",
            "470/470 [==============================] - 8s 17ms/step - loss: 0.2210 - accuracy: 0.9215 - val_loss: 0.5673 - val_accuracy: 0.8223\n",
            "Epoch 39/50\n",
            "470/470 [==============================] - 8s 17ms/step - loss: 0.2067 - accuracy: 0.9256 - val_loss: 0.6092 - val_accuracy: 0.8177\n",
            "Epoch 40/50\n",
            "470/470 [==============================] - 8s 17ms/step - loss: 0.2126 - accuracy: 0.9250 - val_loss: 0.6431 - val_accuracy: 0.8113\n",
            "Epoch 41/50\n",
            "470/470 [==============================] - 8s 17ms/step - loss: 0.2083 - accuracy: 0.9261 - val_loss: 0.6117 - val_accuracy: 0.8217\n",
            "Epoch 42/50\n",
            "470/470 [==============================] - 8s 17ms/step - loss: 0.2012 - accuracy: 0.9287 - val_loss: 0.6184 - val_accuracy: 0.8140\n",
            "Epoch 43/50\n",
            "470/470 [==============================] - 8s 17ms/step - loss: 0.2036 - accuracy: 0.9271 - val_loss: 0.6205 - val_accuracy: 0.8237\n",
            "Epoch 44/50\n",
            "470/470 [==============================] - 8s 17ms/step - loss: 0.1919 - accuracy: 0.9320 - val_loss: 0.6026 - val_accuracy: 0.8253\n",
            "Epoch 45/50\n",
            "470/470 [==============================] - 8s 17ms/step - loss: 0.1914 - accuracy: 0.9325 - val_loss: 0.6180 - val_accuracy: 0.8237\n",
            "Epoch 46/50\n",
            "470/470 [==============================] - 8s 17ms/step - loss: 0.1875 - accuracy: 0.9334 - val_loss: 0.5945 - val_accuracy: 0.8270\n",
            "Epoch 47/50\n",
            "470/470 [==============================] - 8s 17ms/step - loss: 0.1817 - accuracy: 0.9361 - val_loss: 0.5998 - val_accuracy: 0.8277\n",
            "Epoch 48/50\n",
            "470/470 [==============================] - 8s 17ms/step - loss: 0.1822 - accuracy: 0.9367 - val_loss: 0.6885 - val_accuracy: 0.7970\n",
            "Epoch 49/50\n",
            "470/470 [==============================] - 8s 17ms/step - loss: 0.1760 - accuracy: 0.9380 - val_loss: 0.6052 - val_accuracy: 0.8233\n",
            "Epoch 50/50\n",
            "470/470 [==============================] - 8s 17ms/step - loss: 0.1714 - accuracy: 0.9399 - val_loss: 0.6120 - val_accuracy: 0.8203\n",
            "Execution Time =  443.1220688819885\n"
          ],
          "name": "stdout"
        }
      ]
    },
    {
      "cell_type": "code",
      "metadata": {
        "colab": {
          "base_uri": "https://localhost:8080/"
        },
        "id": "OGxDxFdYnFhk",
        "outputId": "5e767c0b-a2ef-43ff-90e8-00bfeda54736"
      },
      "source": [
        "#Check Accuracy\n",
        "preds=model.predict(test_images_norm)\n",
        "\n",
        "#Evaluate the Model-Accuracy\n",
        "loss,accuracy=model.evaluate(test_images_norm,test_labels)\n",
        "print('Test Set Accuracy: ', accuracy*100,'%', 'Test Set Loss: ', loss)\n",
        "\n"
      ],
      "execution_count": null,
      "outputs": [
        {
          "output_type": "stream",
          "text": [
            "313/313 [==============================] - 1s 4ms/step - loss: 0.6543 - accuracy: 0.8060\n",
            "Test Set Accuracy:  80.59999942779541 % Test Set Loss:  0.6543054580688477\n"
          ],
          "name": "stdout"
        }
      ]
    },
    {
      "cell_type": "code",
      "metadata": {
        "colab": {
          "base_uri": "https://localhost:8080/",
          "height": 508
        },
        "id": "sub5M_pbnFhl",
        "outputId": "a6bb9a61-da3f-4cf8-bb74-5992c37f595e"
      },
      "source": [
        "#Confusion Matrix\n",
        "pred_classes=np.argmax(model.predict(test_images_norm),axis=-1)\n",
        "conf_mx=tf.math.confusion_matrix(test_labels,pred_classes)\n",
        "\n",
        "plt.figure(figsize=(16,8))\n",
        "plt.matshow(conf_mx,cmap=plt.cm.Blues,fignum=1)\n",
        "plt.xlabel('Predicted Classes')\n",
        "plt.ylabel('Actual Classes')\n",
        "plt.show()"
      ],
      "execution_count": null,
      "outputs": [
        {
          "output_type": "display_data",
          "data": {
            "image/png": "[encoded data removed]",
            "text/plain": [
              "<Figure size 1152x576 with 1 Axes>"
            ]
          },
          "metadata": {
            "tags": [],
            "needs_background": "light"
          }
        }
      ]
    },
    {
      "cell_type": "code",
      "metadata": {
        "colab": {
          "base_uri": "https://localhost:8080/"
        },
        "id": "5Mzi1_sgnFhm",
        "outputId": "63867777-2719-4794-f976-0055c5255c44"
      },
      "source": [
        "#Plotting Performance Metrics\n",
        "\n",
        "hist_dict=history.history\n",
        "hist_dict.keys()"
      ],
      "execution_count": null,
      "outputs": [
        {
          "output_type": "execute_result",
          "data": {
            "text/plain": [
              "dict_keys(['loss', 'accuracy', 'val_loss', 'val_accuracy'])"
            ]
          },
          "metadata": {
            "tags": []
          },
          "execution_count": 17
        }
      ]
    },
    {
      "cell_type": "code",
      "metadata": {
        "id": "ITdciRFznFhn"
      },
      "source": [
        "losses=history.history['loss']\n",
        "accs=history.history['accuracy']\n",
        "val_losses=history.history['val_loss']\n",
        "val_accs=history.history['val_accuracy']\n",
        "epochs=len(losses)"
      ],
      "execution_count": null,
      "outputs": []
    },
    {
      "cell_type": "code",
      "metadata": {
        "colab": {
          "base_uri": "https://localhost:8080/",
          "height": 185
        },
        "id": "mwIGlWolnFhn",
        "outputId": "58393a67-21cc-4d71-fea9-78260f6f79f4"
      },
      "source": [
        "plt.figure(figsize=(16, 4))\n",
        "for i, metrics in enumerate(zip([losses, accs], [val_losses, val_accs], ['Loss', 'Accuracy'])):\n",
        "    plt.subplot(1, 2, i + 1)\n",
        "    plt.plot(range(epochs), metrics[0], label='Training {}'.format(metrics[2]))\n",
        "    plt.plot(range(epochs), metrics[1], label='Validation {}'.format(metrics[2]))\n",
        "    plt.legend()\n",
        "plt.show()"
      ],
      "execution_count": null,
      "outputs": [
        {
          "output_type": "display_data",
          "data": {
            "image/png": "[encoded data removed]",
            "text/plain": [
              "<Figure size 1152x288 with 2 Axes>"
            ]
          },
          "metadata": {
            "tags": [],
            "needs_background": "light"
          }
        }
      ]
    },
    {
      "cell_type": "markdown",
      "metadata": {
        "id": "f6bc5qZRGRNr"
      },
      "source": [
        "#Experiment 10\n",
        "multiple batch normalizers"
      ]
    },
    {
      "cell_type": "code",
      "metadata": {
        "id": "D8GP_rKgeuVM"
      },
      "source": [
        "model = models.Sequential()\n",
        "model.add(layers.Conv2D(filters=128, kernel_size=(3, 3), strides=(1, 1), activation=tf.nn.relu,input_shape=(32, 32, 3)))\n",
        "model.add(layers.BatchNormalization())\n",
        "model.add(layers.Conv2D(filters=128, kernel_size=(3, 3), strides=(1, 1), activation=tf.nn.relu))\n",
        "model.add(layers.MaxPool2D((2, 2),strides=2))\n",
        "model.add(layers.Conv2D(filters=256, kernel_size=(3, 3), strides=(1, 1), activation=tf.nn.relu))\n",
        "model.add(layers.BatchNormalization())\n",
        "model.add(layers.Conv2D(filters=256, kernel_size=(3, 3), strides=(1, 1), activation=tf.nn.relu))\n",
        "model.add(layers.MaxPool2D(pool_size=(2, 2),strides=2))\n",
        "model.add(layers.Flatten())\n",
        "model.add(layers.Dense(units=384, activation=tf.nn.relu))\n",
        "model.add(layers.BatchNormalization())\n",
        "model.add(layers.Dense(units=256, activation=tf.nn.relu))\n",
        "model.add(layers.Dense(units=10, activation=tf.nn.softmax))\n",
        "\n"
      ],
      "execution_count": null,
      "outputs": []
    },
    {
      "cell_type": "code",
      "metadata": {
        "id": "COxFuqVkeuVM",
        "colab": {
          "base_uri": "https://localhost:8080/"
        },
        "outputId": "b411b37c-3be3-4d62-a6c5-ed140abe42f0"
      },
      "source": [
        "model.summary()"
      ],
      "execution_count": null,
      "outputs": [
        {
          "output_type": "stream",
          "text": [
            "Model: \"sequential\"\n",
            "_________________________________________________________________\n",
            "Layer (type)                 Output Shape              Param #   \n",
            "=================================================================\n",
            "conv2d (Conv2D)              (None, 30, 30, 128)       3584      \n",
            "_________________________________________________________________\n",
            "batch_normalization (BatchNo (None, 30, 30, 128)       512       \n",
            "_________________________________________________________________\n",
            "conv2d_1 (Conv2D)            (None, 28, 28, 128)       147584    \n",
            "_________________________________________________________________\n",
            "max_pooling2d (MaxPooling2D) (None, 14, 14, 128)       0         \n",
            "_________________________________________________________________\n",
            "conv2d_2 (Conv2D)            (None, 12, 12, 256)       295168    \n",
            "_________________________________________________________________\n",
            "batch_normalization_1 (Batch (None, 12, 12, 256)       1024      \n",
            "_________________________________________________________________\n",
            "conv2d_3 (Conv2D)            (None, 10, 10, 256)       590080    \n",
            "_________________________________________________________________\n",
            "max_pooling2d_1 (MaxPooling2 (None, 5, 5, 256)         0         \n",
            "_________________________________________________________________\n",
            "conv2d_4 (Conv2D)            (None, 3, 3, 512)         1180160   \n",
            "_________________________________________________________________\n",
            "max_pooling2d_2 (MaxPooling2 (None, 1, 1, 512)         0         \n",
            "_________________________________________________________________\n",
            "flatten (Flatten)            (None, 512)               0         \n",
            "_________________________________________________________________\n",
            "dense (Dense)                (None, 384)               196992    \n",
            "_________________________________________________________________\n",
            "batch_normalization_2 (Batch (None, 384)               1536      \n",
            "_________________________________________________________________\n",
            "dense_1 (Dense)              (None, 256)               98560     \n",
            "_________________________________________________________________\n",
            "dense_2 (Dense)              (None, 10)                2570      \n",
            "=================================================================\n",
            "Total params: 2,517,770\n",
            "Trainable params: 2,516,234\n",
            "Non-trainable params: 1,536\n",
            "_________________________________________________________________\n"
          ],
          "name": "stdout"
        }
      ]
    },
    {
      "cell_type": "code",
      "metadata": {
        "id": "15tG-33beuVQ"
      },
      "source": [
        "#keras.utils.plot_model(model, \"CIFAR10.png\", show_shapes=True) "
      ],
      "execution_count": null,
      "outputs": []
    },
    {
      "cell_type": "code",
      "metadata": {
        "id": "FF9dPWepeuVR"
      },
      "source": [
        "model.compile(optimizer='adam',\n",
        "              loss=tf.keras.losses.SparseCategoricalCrossentropy(from_logits=False),\n",
        "              metrics=['accuracy'])"
      ],
      "execution_count": null,
      "outputs": []
    },
    {
      "cell_type": "code",
      "metadata": {
        "colab": {
          "base_uri": "https://localhost:8080/"
        },
        "id": "n2miDeNheuVS",
        "outputId": "e4dac75c-ccc1-4d98-b958-32df0ad5fca7"
      },
      "source": [
        "start_time=time.time()\n",
        "\n",
        "history = model.fit(train_images_norm\n",
        "                    ,train_labels\n",
        "                    ,epochs=100\n",
        "                    ,batch_size=300\n",
        "                    ,validation_data=(val_images_norm,val_labels)\n",
        "                    ,callbacks=[\n",
        "                    tf.keras.callbacks.EarlyStopping(monitor='val_accuracy', patience=10)\n",
        "                    ])\n",
        "                    #,tf.keras.callbacks.ModelCheckpoint('./models/model_{val_accuracy:.4f}.h5', save_best_only=True,\n",
        "                                       # save_weights_only=False, monitor='val_accuracy')] )                                                                                                          \n",
        "                   \n",
        "\n",
        "print(\"Execution Time = \", (time.time()-start_time))"
      ],
      "execution_count": null,
      "outputs": [
        {
          "output_type": "stream",
          "text": [
            "Epoch 1/100\n",
            "157/157 [==============================] - 50s 98ms/step - loss: 1.3542 - accuracy: 0.5113 - val_loss: 3.3114 - val_accuracy: 0.1233\n",
            "Epoch 2/100\n",
            "157/157 [==============================] - 14s 87ms/step - loss: 0.8837 - accuracy: 0.6917 - val_loss: 3.5645 - val_accuracy: 0.1830\n",
            "Epoch 3/100\n",
            "157/157 [==============================] - 14s 88ms/step - loss: 0.6777 - accuracy: 0.7634 - val_loss: 2.4039 - val_accuracy: 0.3167\n",
            "Epoch 4/100\n",
            "157/157 [==============================] - 14s 89ms/step - loss: 0.5207 - accuracy: 0.8184 - val_loss: 1.4130 - val_accuracy: 0.5613\n",
            "Epoch 5/100\n",
            "157/157 [==============================] - 14s 89ms/step - loss: 0.3966 - accuracy: 0.8632 - val_loss: 1.1453 - val_accuracy: 0.6557\n",
            "Epoch 6/100\n",
            "157/157 [==============================] - 14s 88ms/step - loss: 0.2786 - accuracy: 0.9032 - val_loss: 1.4068 - val_accuracy: 0.6393\n",
            "Epoch 7/100\n",
            "157/157 [==============================] - 14s 88ms/step - loss: 0.1919 - accuracy: 0.9334 - val_loss: 1.3343 - val_accuracy: 0.6803\n",
            "Epoch 8/100\n",
            "157/157 [==============================] - 14s 87ms/step - loss: 0.1327 - accuracy: 0.9543 - val_loss: 1.3954 - val_accuracy: 0.7000\n",
            "Epoch 9/100\n",
            "157/157 [==============================] - 14s 87ms/step - loss: 0.0961 - accuracy: 0.9668 - val_loss: 1.5277 - val_accuracy: 0.6873\n",
            "Epoch 10/100\n",
            "157/157 [==============================] - 14s 88ms/step - loss: 0.0942 - accuracy: 0.9666 - val_loss: 1.1902 - val_accuracy: 0.7470\n",
            "Epoch 11/100\n",
            "157/157 [==============================] - 14s 89ms/step - loss: 0.0768 - accuracy: 0.9724 - val_loss: 1.2357 - val_accuracy: 0.7447\n",
            "Epoch 12/100\n",
            "157/157 [==============================] - 14s 88ms/step - loss: 0.0537 - accuracy: 0.9823 - val_loss: 1.3138 - val_accuracy: 0.7540\n",
            "Epoch 13/100\n",
            "157/157 [==============================] - 14s 87ms/step - loss: 0.0544 - accuracy: 0.9811 - val_loss: 1.3694 - val_accuracy: 0.7350\n",
            "Epoch 14/100\n",
            "157/157 [==============================] - 14s 88ms/step - loss: 0.0501 - accuracy: 0.9829 - val_loss: 1.5662 - val_accuracy: 0.7287\n",
            "Epoch 15/100\n",
            "157/157 [==============================] - 14s 88ms/step - loss: 0.0476 - accuracy: 0.9842 - val_loss: 1.4644 - val_accuracy: 0.7517\n",
            "Epoch 16/100\n",
            "157/157 [==============================] - 14s 88ms/step - loss: 0.0501 - accuracy: 0.9822 - val_loss: 1.6646 - val_accuracy: 0.7357\n",
            "Epoch 17/100\n",
            "157/157 [==============================] - 14s 88ms/step - loss: 0.0499 - accuracy: 0.9824 - val_loss: 1.3523 - val_accuracy: 0.7540\n",
            "Epoch 18/100\n",
            "157/157 [==============================] - 14s 88ms/step - loss: 0.0376 - accuracy: 0.9871 - val_loss: 1.3555 - val_accuracy: 0.7677\n",
            "Epoch 19/100\n",
            "157/157 [==============================] - 14s 88ms/step - loss: 0.0329 - accuracy: 0.9886 - val_loss: 1.5175 - val_accuracy: 0.7413\n",
            "Epoch 20/100\n",
            "157/157 [==============================] - 14s 88ms/step - loss: 0.0356 - accuracy: 0.9882 - val_loss: 1.3888 - val_accuracy: 0.7577\n",
            "Epoch 21/100\n",
            "157/157 [==============================] - 14s 88ms/step - loss: 0.0401 - accuracy: 0.9864 - val_loss: 1.5120 - val_accuracy: 0.7417\n",
            "Epoch 22/100\n",
            "157/157 [==============================] - 14s 88ms/step - loss: 0.0415 - accuracy: 0.9857 - val_loss: 1.4741 - val_accuracy: 0.7490\n",
            "Epoch 23/100\n",
            "157/157 [==============================] - 14s 88ms/step - loss: 0.0263 - accuracy: 0.9909 - val_loss: 1.5844 - val_accuracy: 0.7557\n",
            "Epoch 24/100\n",
            "157/157 [==============================] - 14s 88ms/step - loss: 0.0233 - accuracy: 0.9915 - val_loss: 1.6706 - val_accuracy: 0.7443\n",
            "Epoch 25/100\n",
            "157/157 [==============================] - 14s 87ms/step - loss: 0.0303 - accuracy: 0.9896 - val_loss: 1.4527 - val_accuracy: 0.7660\n",
            "Epoch 26/100\n",
            "157/157 [==============================] - 14s 88ms/step - loss: 0.0341 - accuracy: 0.9884 - val_loss: 1.6671 - val_accuracy: 0.7413\n",
            "Epoch 27/100\n",
            "157/157 [==============================] - 14s 88ms/step - loss: 0.0292 - accuracy: 0.9899 - val_loss: 1.5709 - val_accuracy: 0.7457\n",
            "Epoch 28/100\n",
            "157/157 [==============================] - 14s 88ms/step - loss: 0.0270 - accuracy: 0.9908 - val_loss: 1.4641 - val_accuracy: 0.7727\n",
            "Epoch 29/100\n",
            "157/157 [==============================] - 14s 88ms/step - loss: 0.0367 - accuracy: 0.9873 - val_loss: 1.5064 - val_accuracy: 0.7587\n",
            "Epoch 30/100\n",
            "157/157 [==============================] - 14s 87ms/step - loss: 0.0350 - accuracy: 0.9875 - val_loss: 2.1100 - val_accuracy: 0.7077\n",
            "Epoch 31/100\n",
            "157/157 [==============================] - 14s 87ms/step - loss: 0.0232 - accuracy: 0.9920 - val_loss: 1.6118 - val_accuracy: 0.7690\n",
            "Epoch 32/100\n",
            "157/157 [==============================] - 14s 87ms/step - loss: 0.0206 - accuracy: 0.9926 - val_loss: 1.7953 - val_accuracy: 0.7487\n",
            "Epoch 33/100\n",
            "157/157 [==============================] - 14s 87ms/step - loss: 0.0271 - accuracy: 0.9907 - val_loss: 1.8212 - val_accuracy: 0.7330\n",
            "Epoch 34/100\n",
            "157/157 [==============================] - 14s 87ms/step - loss: 0.0364 - accuracy: 0.9876 - val_loss: 1.7876 - val_accuracy: 0.7410\n",
            "Epoch 35/100\n",
            "157/157 [==============================] - 14s 87ms/step - loss: 0.0304 - accuracy: 0.9898 - val_loss: 1.7020 - val_accuracy: 0.7547\n",
            "Epoch 36/100\n",
            "157/157 [==============================] - 14s 88ms/step - loss: 0.0256 - accuracy: 0.9918 - val_loss: 1.6817 - val_accuracy: 0.7480\n",
            "Epoch 37/100\n",
            "157/157 [==============================] - 14s 88ms/step - loss: 0.0200 - accuracy: 0.9930 - val_loss: 1.8348 - val_accuracy: 0.7580\n",
            "Epoch 38/100\n",
            "157/157 [==============================] - 14s 88ms/step - loss: 0.0179 - accuracy: 0.9937 - val_loss: 1.8756 - val_accuracy: 0.7417\n",
            "Execution Time =  560.0240476131439\n"
          ],
          "name": "stdout"
        }
      ]
    },
    {
      "cell_type": "code",
      "metadata": {
        "id": "yR0-c_pKeuVT",
        "colab": {
          "base_uri": "https://localhost:8080/"
        },
        "outputId": "727dea55-e358-47d7-8740-d81114bf510c"
      },
      "source": [
        "#Check Accuracy\n",
        "preds=model.predict(test_images_norm)\n",
        "\n",
        "#Evaluate the Model-Accuracy\n",
        "loss,accuracy=model.evaluate(test_images_norm,test_labels)\n",
        "print('Test Set Accuracy: ', accuracy*100,'%', 'Test Set Loss: ', loss)\n",
        "\n"
      ],
      "execution_count": null,
      "outputs": [
        {
          "output_type": "stream",
          "text": [
            "313/313 [==============================] - 2s 6ms/step - loss: 1.9923 - accuracy: 0.7237\n",
            "Test Set Accuracy:  72.36999869346619 % Test Set Loss:  1.9922857284545898\n"
          ],
          "name": "stdout"
        }
      ]
    },
    {
      "cell_type": "code",
      "metadata": {
        "id": "ldGALlHqeuVU",
        "colab": {
          "base_uri": "https://localhost:8080/",
          "height": 508
        },
        "outputId": "126c60b3-93c1-40b3-fcd7-77f89e356767"
      },
      "source": [
        "#Confusion Matrix\n",
        "pred_classes=np.argmax(model.predict(test_images_norm),axis=-1)\n",
        "conf_mx=tf.math.confusion_matrix(test_labels,pred_classes)\n",
        "\n",
        "plt.figure(figsize=(16,8))\n",
        "plt.matshow(conf_mx,cmap=plt.cm.Blues,fignum=1)\n",
        "plt.xlabel('Predicted Classes')\n",
        "plt.ylabel('Actual Classes')\n",
        "plt.show()"
      ],
      "execution_count": null,
      "outputs": [
        {
          "output_type": "display_data",
          "data": {
            "image/png": "[encoded data removed]",
            "text/plain": [
              "<Figure size 1152x576 with 1 Axes>"
            ]
          },
          "metadata": {
            "tags": [],
            "needs_background": "light"
          }
        }
      ]
    },
    {
      "cell_type": "code",
      "metadata": {
        "id": "afIDjBSEeuVW",
        "colab": {
          "base_uri": "https://localhost:8080/"
        },
        "outputId": "5b837c0f-aaa0-4f21-a1f7-e7104a9217bd"
      },
      "source": [
        "#Plotting Performance Metrics\n",
        "\n",
        "hist_dict=history.history\n",
        "hist_dict.keys()"
      ],
      "execution_count": null,
      "outputs": [
        {
          "output_type": "execute_result",
          "data": {
            "text/plain": [
              "dict_keys(['loss', 'accuracy', 'val_loss', 'val_accuracy'])"
            ]
          },
          "metadata": {
            "tags": []
          },
          "execution_count": 18
        }
      ]
    },
    {
      "cell_type": "code",
      "metadata": {
        "id": "VA5PbwDyeuVW"
      },
      "source": [
        "losses=history.history['loss']\n",
        "accs=history.history['accuracy']\n",
        "val_losses=history.history['val_loss']\n",
        "val_accs=history.history['val_accuracy']\n",
        "epochs=len(losses)"
      ],
      "execution_count": null,
      "outputs": []
    },
    {
      "cell_type": "code",
      "metadata": {
        "id": "NqJcmLtCeuVX",
        "colab": {
          "base_uri": "https://localhost:8080/",
          "height": 265
        },
        "outputId": "3a16353c-c2fb-4160-ea9d-c99102b021c8"
      },
      "source": [
        "plt.figure(figsize=(16, 4))\n",
        "for i, metrics in enumerate(zip([losses, accs], [val_losses, val_accs], ['Loss', 'Accuracy'])):\n",
        "    plt.subplot(1, 2, i + 1)\n",
        "    plt.plot(range(epochs), metrics[0], label='Training {}'.format(metrics[2]))\n",
        "    plt.plot(range(epochs), metrics[1], label='Validation {}'.format(metrics[2]))\n",
        "    plt.legend()\n",
        "plt.show()"
      ],
      "execution_count": null,
      "outputs": [
        {
          "output_type": "display_data",
          "data": {
            "image/png": "[encoded data removed]",
            "text/plain": [
              "<Figure size 1152x288 with 2 Axes>"
            ]
          },
          "metadata": {
            "tags": [],
            "needs_background": "light"
          }
        }
      ]
    },
    {
      "cell_type": "markdown",
      "metadata": {
        "id": "mat0iD0aJWul"
      },
      "source": [
        "#Experiment 11\n",
        "###CNN with many convolution/max pooling layers (and Batch Normalization)"
      ]
    },
    {
      "cell_type": "code",
      "metadata": {
        "id": "WPGRNQuJJWum"
      },
      "source": [
        "model = models.Sequential()\n",
        "model.add(layers.Conv2D(filters=128, kernel_size=(3, 3), strides=(1, 1), activation=tf.nn.relu,input_shape=(32, 32, 3)))\n",
        "model.add(layers.Conv2D(filters=128, kernel_size=(3, 3), strides=(1, 1), activation=tf.nn.relu))\n",
        "model.add(layers.MaxPool2D((2, 2),strides=2))\n",
        "model.add(layers.Dropout(0.3))\n",
        "model.add(layers.Conv2D(filters=256, kernel_size=(3, 3), strides=(1, 1), activation=tf.nn.relu))\n",
        "model.add(layers.Conv2D(filters=256, kernel_size=(3, 3), strides=(1, 1), activation=tf.nn.relu))\n",
        "model.add(layers.MaxPool2D(pool_size=(2, 2),strides=2))\n",
        "model.add(layers.Dropout(0.3))\n",
        "model.add(layers.Conv2D(filters=512, kernel_size=(3, 3), strides=(1, 1), activation=tf.nn.relu))\n",
        "model.add(layers.MaxPool2D(pool_size=(2, 2),strides=2))\n",
        "model.add(layers.Dropout(0.3))\n",
        "model.add(layers.Flatten())\n",
        "model.add(layers.Dense(units=384, activation=tf.nn.relu))\n",
        "model.add(layers.BatchNormalization())\n",
        "model.add(layers.Dense(units=256, activation=tf.nn.relu))\n",
        "model.add(layers.BatchNormalization())\n",
        "model.add(layers.Dense(units=10, activation=tf.nn.softmax))\n"
      ],
      "execution_count": null,
      "outputs": []
    },
    {
      "cell_type": "code",
      "metadata": {
        "colab": {
          "base_uri": "https://localhost:8080/"
        },
        "id": "_9JmRt64JWun",
        "outputId": "8886b066-20d5-458b-c47a-715249ab4f76"
      },
      "source": [
        "model.summary()"
      ],
      "execution_count": null,
      "outputs": [
        {
          "output_type": "stream",
          "text": [
            "Model: \"sequential_1\"\n",
            "_________________________________________________________________\n",
            "Layer (type)                 Output Shape              Param #   \n",
            "=================================================================\n",
            "conv2d_5 (Conv2D)            (None, 30, 30, 128)       3584      \n",
            "_________________________________________________________________\n",
            "conv2d_6 (Conv2D)            (None, 28, 28, 128)       147584    \n",
            "_________________________________________________________________\n",
            "max_pooling2d_3 (MaxPooling2 (None, 14, 14, 128)       0         \n",
            "_________________________________________________________________\n",
            "dropout (Dropout)            (None, 14, 14, 128)       0         \n",
            "_________________________________________________________________\n",
            "conv2d_7 (Conv2D)            (None, 12, 12, 256)       295168    \n",
            "_________________________________________________________________\n",
            "conv2d_8 (Conv2D)            (None, 10, 10, 256)       590080    \n",
            "_________________________________________________________________\n",
            "max_pooling2d_4 (MaxPooling2 (None, 5, 5, 256)         0         \n",
            "_________________________________________________________________\n",
            "dropout_1 (Dropout)          (None, 5, 5, 256)         0         \n",
            "_________________________________________________________________\n",
            "conv2d_9 (Conv2D)            (None, 3, 3, 512)         1180160   \n",
            "_________________________________________________________________\n",
            "max_pooling2d_5 (MaxPooling2 (None, 1, 1, 512)         0         \n",
            "_________________________________________________________________\n",
            "dropout_2 (Dropout)          (None, 1, 1, 512)         0         \n",
            "_________________________________________________________________\n",
            "flatten_1 (Flatten)          (None, 512)               0         \n",
            "_________________________________________________________________\n",
            "dense_3 (Dense)              (None, 384)               196992    \n",
            "_________________________________________________________________\n",
            "batch_normalization_3 (Batch (None, 384)               1536      \n",
            "_________________________________________________________________\n",
            "dense_4 (Dense)              (None, 256)               98560     \n",
            "_________________________________________________________________\n",
            "batch_normalization_4 (Batch (None, 256)               1024      \n",
            "_________________________________________________________________\n",
            "dense_5 (Dense)              (None, 10)                2570      \n",
            "=================================================================\n",
            "Total params: 2,517,258\n",
            "Trainable params: 2,515,978\n",
            "Non-trainable params: 1,280\n",
            "_________________________________________________________________\n"
          ],
          "name": "stdout"
        }
      ]
    },
    {
      "cell_type": "code",
      "metadata": {
        "id": "Fy4IgsIjJWur"
      },
      "source": [
        "#keras.utils.plot_model(model, \"CIFAR10.png\", show_shapes=True) "
      ],
      "execution_count": null,
      "outputs": []
    },
    {
      "cell_type": "code",
      "metadata": {
        "id": "QGRuInCIJWuv"
      },
      "source": [
        "model.compile(optimizer='adam',\n",
        "              loss=tf.keras.losses.SparseCategoricalCrossentropy(from_logits=False),\n",
        "              metrics=['accuracy'])"
      ],
      "execution_count": null,
      "outputs": []
    },
    {
      "cell_type": "code",
      "metadata": {
        "colab": {
          "base_uri": "https://localhost:8080/"
        },
        "id": "asV9mha_JWuw",
        "outputId": "4fd0a5f7-10ef-452d-c020-709ba5acf525"
      },
      "source": [
        "start_time=time.time()\n",
        "\n",
        "history = model.fit(train_images_norm\n",
        "                    ,train_labels\n",
        "                    ,epochs=100\n",
        "                    ,batch_size=300\n",
        "                    ,validation_data=(val_images_norm,val_labels)\n",
        "                    ,callbacks=[\n",
        "                    tf.keras.callbacks.EarlyStopping(monitor='val_accuracy', patience=10)\n",
        "                    ])\n",
        "                    #,tf.keras.callbacks.ModelCheckpoint('./models/model_{val_accuracy:.4f}.h5', save_best_only=True,\n",
        "                                       # save_weights_only=False, monitor='val_accuracy')] )                                                                                                          \n",
        "                   \n",
        "\n",
        "print(\"Execution Time = \", (time.time()-start_time))"
      ],
      "execution_count": null,
      "outputs": [
        {
          "output_type": "stream",
          "text": [
            "Epoch 1/100\n",
            "157/157 [==============================] - 14s 85ms/step - loss: 2.0336 - accuracy: 0.2499 - val_loss: 1.9060 - val_accuracy: 0.2740\n",
            "Epoch 2/100\n",
            "157/157 [==============================] - 13s 84ms/step - loss: 1.4242 - accuracy: 0.4787 - val_loss: 1.4859 - val_accuracy: 0.5513\n",
            "Epoch 3/100\n",
            "157/157 [==============================] - 13s 83ms/step - loss: 1.1523 - accuracy: 0.5901 - val_loss: 1.1346 - val_accuracy: 0.6140\n",
            "Epoch 4/100\n",
            "157/157 [==============================] - 13s 82ms/step - loss: 0.9866 - accuracy: 0.6521 - val_loss: 0.8930 - val_accuracy: 0.6880\n",
            "Epoch 5/100\n",
            "157/157 [==============================] - 13s 81ms/step - loss: 0.8888 - accuracy: 0.6876 - val_loss: 0.8195 - val_accuracy: 0.7127\n",
            "Epoch 6/100\n",
            "157/157 [==============================] - 13s 82ms/step - loss: 0.8044 - accuracy: 0.7180 - val_loss: 0.8606 - val_accuracy: 0.7080\n",
            "Epoch 7/100\n",
            "157/157 [==============================] - 13s 82ms/step - loss: 0.7487 - accuracy: 0.7368 - val_loss: 0.7899 - val_accuracy: 0.7297\n",
            "Epoch 8/100\n",
            "157/157 [==============================] - 13s 82ms/step - loss: 0.6995 - accuracy: 0.7550 - val_loss: 0.6827 - val_accuracy: 0.7623\n",
            "Epoch 9/100\n",
            "157/157 [==============================] - 13s 83ms/step - loss: 0.6516 - accuracy: 0.7725 - val_loss: 0.7350 - val_accuracy: 0.7470\n",
            "Epoch 10/100\n",
            "157/157 [==============================] - 13s 82ms/step - loss: 0.6157 - accuracy: 0.7851 - val_loss: 0.7502 - val_accuracy: 0.7453\n",
            "Epoch 11/100\n",
            "157/157 [==============================] - 13s 82ms/step - loss: 0.5770 - accuracy: 0.7986 - val_loss: 0.7095 - val_accuracy: 0.7587\n",
            "Epoch 12/100\n",
            "157/157 [==============================] - 13s 81ms/step - loss: 0.5482 - accuracy: 0.8088 - val_loss: 0.6583 - val_accuracy: 0.7760\n",
            "Epoch 13/100\n",
            "157/157 [==============================] - 13s 82ms/step - loss: 0.5127 - accuracy: 0.8201 - val_loss: 0.6607 - val_accuracy: 0.7770\n",
            "Epoch 14/100\n",
            "157/157 [==============================] - 13s 82ms/step - loss: 0.4953 - accuracy: 0.8290 - val_loss: 0.6309 - val_accuracy: 0.7850\n",
            "Epoch 15/100\n",
            "157/157 [==============================] - 13s 82ms/step - loss: 0.4625 - accuracy: 0.8392 - val_loss: 0.6213 - val_accuracy: 0.7950\n",
            "Epoch 16/100\n",
            "157/157 [==============================] - 13s 82ms/step - loss: 0.4419 - accuracy: 0.8467 - val_loss: 0.6283 - val_accuracy: 0.7927\n",
            "Epoch 17/100\n",
            "157/157 [==============================] - 13s 82ms/step - loss: 0.4207 - accuracy: 0.8515 - val_loss: 0.6114 - val_accuracy: 0.7997\n",
            "Epoch 18/100\n",
            "157/157 [==============================] - 13s 81ms/step - loss: 0.4065 - accuracy: 0.8563 - val_loss: 0.5909 - val_accuracy: 0.8110\n",
            "Epoch 19/100\n",
            "157/157 [==============================] - 13s 82ms/step - loss: 0.3826 - accuracy: 0.8655 - val_loss: 0.6258 - val_accuracy: 0.7990\n",
            "Epoch 20/100\n",
            "157/157 [==============================] - 13s 82ms/step - loss: 0.3651 - accuracy: 0.8693 - val_loss: 0.6448 - val_accuracy: 0.7987\n",
            "Epoch 21/100\n",
            "157/157 [==============================] - 13s 83ms/step - loss: 0.3477 - accuracy: 0.8781 - val_loss: 0.6385 - val_accuracy: 0.8027\n",
            "Epoch 22/100\n",
            "157/157 [==============================] - 13s 82ms/step - loss: 0.3409 - accuracy: 0.8799 - val_loss: 0.6930 - val_accuracy: 0.7837\n",
            "Epoch 23/100\n",
            "157/157 [==============================] - 13s 82ms/step - loss: 0.3198 - accuracy: 0.8871 - val_loss: 0.6293 - val_accuracy: 0.8123\n",
            "Epoch 24/100\n",
            "157/157 [==============================] - 13s 82ms/step - loss: 0.3078 - accuracy: 0.8901 - val_loss: 0.6370 - val_accuracy: 0.7980\n",
            "Epoch 25/100\n",
            "157/157 [==============================] - 13s 82ms/step - loss: 0.2923 - accuracy: 0.8964 - val_loss: 0.6254 - val_accuracy: 0.8073\n",
            "Epoch 26/100\n",
            "157/157 [==============================] - 13s 82ms/step - loss: 0.2821 - accuracy: 0.8996 - val_loss: 0.6701 - val_accuracy: 0.8027\n",
            "Epoch 27/100\n",
            "157/157 [==============================] - 13s 82ms/step - loss: 0.2749 - accuracy: 0.9022 - val_loss: 0.6061 - val_accuracy: 0.8163\n",
            "Epoch 28/100\n",
            "157/157 [==============================] - 13s 82ms/step - loss: 0.2596 - accuracy: 0.9085 - val_loss: 0.6209 - val_accuracy: 0.8123\n",
            "Epoch 29/100\n",
            "157/157 [==============================] - 13s 81ms/step - loss: 0.2555 - accuracy: 0.9101 - val_loss: 0.6520 - val_accuracy: 0.8023\n",
            "Epoch 30/100\n",
            "157/157 [==============================] - 13s 82ms/step - loss: 0.2454 - accuracy: 0.9137 - val_loss: 0.6142 - val_accuracy: 0.8180\n",
            "Epoch 31/100\n",
            "157/157 [==============================] - 13s 82ms/step - loss: 0.2373 - accuracy: 0.9160 - val_loss: 0.6244 - val_accuracy: 0.8180\n",
            "Epoch 32/100\n",
            "157/157 [==============================] - 13s 83ms/step - loss: 0.2322 - accuracy: 0.9177 - val_loss: 0.6422 - val_accuracy: 0.8160\n",
            "Epoch 33/100\n",
            "157/157 [==============================] - 13s 82ms/step - loss: 0.2179 - accuracy: 0.9237 - val_loss: 0.6615 - val_accuracy: 0.8110\n",
            "Epoch 34/100\n",
            "157/157 [==============================] - 13s 82ms/step - loss: 0.2121 - accuracy: 0.9248 - val_loss: 0.6442 - val_accuracy: 0.8147\n",
            "Epoch 35/100\n",
            "157/157 [==============================] - 13s 82ms/step - loss: 0.2054 - accuracy: 0.9266 - val_loss: 0.6554 - val_accuracy: 0.8123\n",
            "Epoch 36/100\n",
            "157/157 [==============================] - 13s 81ms/step - loss: 0.1987 - accuracy: 0.9284 - val_loss: 0.6389 - val_accuracy: 0.8187\n",
            "Epoch 37/100\n",
            "157/157 [==============================] - 13s 82ms/step - loss: 0.1932 - accuracy: 0.9309 - val_loss: 0.6498 - val_accuracy: 0.8223\n",
            "Epoch 38/100\n",
            "157/157 [==============================] - 13s 82ms/step - loss: 0.1830 - accuracy: 0.9343 - val_loss: 0.6304 - val_accuracy: 0.8230\n",
            "Epoch 39/100\n",
            "157/157 [==============================] - 13s 82ms/step - loss: 0.1837 - accuracy: 0.9350 - val_loss: 0.6750 - val_accuracy: 0.8150\n",
            "Epoch 40/100\n",
            "157/157 [==============================] - 13s 82ms/step - loss: 0.1765 - accuracy: 0.9372 - val_loss: 0.6408 - val_accuracy: 0.8197\n",
            "Epoch 41/100\n",
            "157/157 [==============================] - 13s 82ms/step - loss: 0.1779 - accuracy: 0.9374 - val_loss: 0.6389 - val_accuracy: 0.8200\n",
            "Epoch 42/100\n",
            "157/157 [==============================] - 13s 82ms/step - loss: 0.1660 - accuracy: 0.9418 - val_loss: 0.6832 - val_accuracy: 0.8140\n",
            "Epoch 43/100\n",
            "157/157 [==============================] - 13s 83ms/step - loss: 0.1672 - accuracy: 0.9410 - val_loss: 0.6565 - val_accuracy: 0.8180\n",
            "Epoch 44/100\n",
            "157/157 [==============================] - 13s 82ms/step - loss: 0.1623 - accuracy: 0.9428 - val_loss: 0.6876 - val_accuracy: 0.8170\n",
            "Epoch 45/100\n",
            "157/157 [==============================] - 13s 82ms/step - loss: 0.1592 - accuracy: 0.9443 - val_loss: 0.6996 - val_accuracy: 0.8113\n",
            "Epoch 46/100\n",
            "157/157 [==============================] - 13s 82ms/step - loss: 0.1543 - accuracy: 0.9448 - val_loss: 0.7413 - val_accuracy: 0.8017\n",
            "Epoch 47/100\n",
            "157/157 [==============================] - 13s 83ms/step - loss: 0.1483 - accuracy: 0.9481 - val_loss: 0.6888 - val_accuracy: 0.8150\n",
            "Epoch 48/100\n",
            "157/157 [==============================] - 13s 82ms/step - loss: 0.1414 - accuracy: 0.9498 - val_loss: 0.6969 - val_accuracy: 0.8193\n",
            "Execution Time =  620.9569399356842\n"
          ],
          "name": "stdout"
        }
      ]
    },
    {
      "cell_type": "code",
      "metadata": {
        "colab": {
          "base_uri": "https://localhost:8080/"
        },
        "id": "cQRTE4SUJWuy",
        "outputId": "d28f4922-3213-40a3-c341-69c203944b95"
      },
      "source": [
        "#Check Accuracy\n",
        "preds=model.predict(test_images_norm)\n",
        "\n",
        "#Evaluate the Model-Accuracy\n",
        "loss,accuracy=model.evaluate(test_images_norm,test_labels)\n",
        "print('Test Set Accuracy: ', accuracy*100,'%', 'Test Set Loss: ', loss)\n",
        "\n"
      ],
      "execution_count": null,
      "outputs": [
        {
          "output_type": "stream",
          "text": [
            "313/313 [==============================] - 2s 5ms/step - loss: 0.7253 - accuracy: 0.8139\n",
            "Test Set Accuracy:  81.38999938964844 % Test Set Loss:  0.7253249883651733\n"
          ],
          "name": "stdout"
        }
      ]
    },
    {
      "cell_type": "code",
      "metadata": {
        "colab": {
          "base_uri": "https://localhost:8080/",
          "height": 508
        },
        "id": "crJ_qSw1JWu1",
        "outputId": "9c9a0f86-f349-4e35-b1c0-515e01e87f82"
      },
      "source": [
        "#Confusion Matrix\n",
        "pred_classes=np.argmax(model.predict(test_images_norm),axis=-1)\n",
        "conf_mx=tf.math.confusion_matrix(test_labels,pred_classes)\n",
        "\n",
        "plt.figure(figsize=(16,8))\n",
        "plt.matshow(conf_mx,cmap=plt.cm.Blues,fignum=1)\n",
        "plt.xlabel('Predicted Classes')\n",
        "plt.ylabel('Actual Classes')\n",
        "plt.show()"
      ],
      "execution_count": null,
      "outputs": [
        {
          "output_type": "display_data",
          "data": {
            "image/png": "[encoded data removed]",
            "text/plain": [
              "<Figure size 1152x576 with 1 Axes>"
            ]
          },
          "metadata": {
            "tags": [],
            "needs_background": "light"
          }
        }
      ]
    },
    {
      "cell_type": "code",
      "metadata": {
        "colab": {
          "base_uri": "https://localhost:8080/"
        },
        "id": "hnrPbZM6JWu2",
        "outputId": "e75789de-fe08-49cb-b54d-59f6880b951c"
      },
      "source": [
        "#Plotting Performance Metrics\n",
        "\n",
        "hist_dict=history.history\n",
        "hist_dict.keys()"
      ],
      "execution_count": null,
      "outputs": [
        {
          "output_type": "execute_result",
          "data": {
            "text/plain": [
              "dict_keys(['loss', 'accuracy', 'val_loss', 'val_accuracy'])"
            ]
          },
          "metadata": {
            "tags": []
          },
          "execution_count": 27
        }
      ]
    },
    {
      "cell_type": "code",
      "metadata": {
        "id": "Usge0F6TJWu8"
      },
      "source": [
        "losses=history.history['loss']\n",
        "accs=history.history['accuracy']\n",
        "val_losses=history.history['val_loss']\n",
        "val_accs=history.history['val_accuracy']\n",
        "epochs=len(losses)"
      ],
      "execution_count": null,
      "outputs": []
    },
    {
      "cell_type": "code",
      "metadata": {
        "colab": {
          "base_uri": "https://localhost:8080/",
          "height": 265
        },
        "id": "MPdsgE_rJWu8",
        "outputId": "e500ff74-bd2d-4d0b-f816-86d0787f1004"
      },
      "source": [
        "plt.figure(figsize=(16, 4))\n",
        "for i, metrics in enumerate(zip([losses, accs], [val_losses, val_accs], ['Loss', 'Accuracy'])):\n",
        "    plt.subplot(1, 2, i + 1)\n",
        "    plt.plot(range(epochs), metrics[0], label='Training {}'.format(metrics[2]))\n",
        "    plt.plot(range(epochs), metrics[1], label='Validation {}'.format(metrics[2]))\n",
        "    plt.legend()\n",
        "plt.show()"
      ],
      "execution_count": null,
      "outputs": [
        {
          "output_type": "display_data",
          "data": {
            "image/png": "[encoded data removed]",
            "text/plain": [
              "<Figure size 1152x288 with 2 Axes>"
            ]
          },
          "metadata": {
            "tags": [],
            "needs_background": "light"
          }
        }
      ]
    },
    {
      "cell_type": "code",
      "metadata": {
        "id": "R3zTOWkzNNCo"
      },
      "source": [
        ""
      ],
      "execution_count": null,
      "outputs": []
    },
    {
      "cell_type": "markdown",
      "metadata": {
        "id": "izFP8QYYnkGl"
      },
      "source": [
        "##Experiment 12\n",
        "###CNN with 3 convolution/max pooling layers (no Dropouts)"
      ]
    },
    {
      "cell_type": "code",
      "metadata": {
        "id": "4VxqNt_DnkGr"
      },
      "source": [
        "model = models.Sequential()\n",
        "model.add(layers.Conv2D(filters=128, kernel_size=(3, 3), strides=(1, 1), activation=tf.nn.relu,input_shape=(32, 32, 3)))\n",
        "model.add(layers.MaxPool2D((2, 2),strides=2))\n",
        "#model.add(layers.Dropout(0.3))\n",
        "model.add(layers.Conv2D(filters=256, kernel_size=(3, 3), strides=(1, 1), activation=tf.nn.relu))\n",
        "model.add(layers.MaxPool2D(pool_size=(2, 2),strides=2))\n",
        "#model.add(layers.Dropout(0.3))\n",
        "model.add(layers.Conv2D(filters=512, kernel_size=(3, 3), strides=(1, 1), activation=tf.nn.relu))\n",
        "model.add(layers.MaxPool2D(pool_size=(2, 2),strides=2))\n",
        "#model.add(layers.Dropout(0.3))\n",
        "model.add(layers.Flatten())\n",
        "model.add(layers.Dense(units=384, activation=tf.nn.relu))\n",
        "model.add(layers.Dense(units=10, activation=tf.nn.softmax))\n"
      ],
      "execution_count": null,
      "outputs": []
    },
    {
      "cell_type": "code",
      "metadata": {
        "colab": {
          "base_uri": "https://localhost:8080/"
        },
        "id": "2ebohPoEnkGs",
        "outputId": "ce49f9ac-1016-4014-f35d-091640700b82"
      },
      "source": [
        "model.summary()"
      ],
      "execution_count": null,
      "outputs": [
        {
          "output_type": "stream",
          "text": [
            "Model: \"sequential\"\n",
            "_________________________________________________________________\n",
            "Layer (type)                 Output Shape              Param #   \n",
            "=================================================================\n",
            "conv2d (Conv2D)              (None, 30, 30, 128)       3584      \n",
            "_________________________________________________________________\n",
            "max_pooling2d (MaxPooling2D) (None, 15, 15, 128)       0         \n",
            "_________________________________________________________________\n",
            "conv2d_1 (Conv2D)            (None, 13, 13, 256)       295168    \n",
            "_________________________________________________________________\n",
            "max_pooling2d_1 (MaxPooling2 (None, 6, 6, 256)         0         \n",
            "_________________________________________________________________\n",
            "conv2d_2 (Conv2D)            (None, 4, 4, 512)         1180160   \n",
            "_________________________________________________________________\n",
            "max_pooling2d_2 (MaxPooling2 (None, 2, 2, 512)         0         \n",
            "_________________________________________________________________\n",
            "flatten (Flatten)            (None, 2048)              0         \n",
            "_________________________________________________________________\n",
            "dense (Dense)                (None, 384)               786816    \n",
            "_________________________________________________________________\n",
            "dense_1 (Dense)              (None, 10)                3850      \n",
            "=================================================================\n",
            "Total params: 2,269,578\n",
            "Trainable params: 2,269,578\n",
            "Non-trainable params: 0\n",
            "_________________________________________________________________\n"
          ],
          "name": "stdout"
        }
      ]
    },
    {
      "cell_type": "code",
      "metadata": {
        "id": "ggsvI-OenkGu"
      },
      "source": [
        "#keras.utils.plot_model(model, \"CIFAR10.png\", show_shapes=True) "
      ],
      "execution_count": null,
      "outputs": []
    },
    {
      "cell_type": "code",
      "metadata": {
        "id": "TYu3juTOnkGu"
      },
      "source": [
        "model.compile(optimizer='adam',\n",
        "              loss=tf.keras.losses.SparseCategoricalCrossentropy(from_logits=False),\n",
        "              metrics=['accuracy'])"
      ],
      "execution_count": null,
      "outputs": []
    },
    {
      "cell_type": "code",
      "metadata": {
        "colab": {
          "base_uri": "https://localhost:8080/"
        },
        "id": "A3ihJyR_nkGv",
        "outputId": "8a5c08b8-596c-4b51-ef81-43c444fd1cb4"
      },
      "source": [
        "start_time=time.time()\n",
        "\n",
        "history = model.fit(train_images_norm\n",
        "                    ,train_labels\n",
        "                    ,epochs=50\n",
        "                    ,batch_size=100\n",
        "                    ,validation_data=(val_images_norm,val_labels)\n",
        "                    #,callbacks=[\n",
        "                    #tf.keras.callbacks.EarlyStopping(monitor='val_accuracy', patience=3),\n",
        "                    #tf.keras.callbacks.ModelCheckpoint('./models/model_{val_accuracy:.4f}.h5', save_best_only=True,\n",
        "                                       # save_weights_only=False, monitor='val_accuracy')]                                                                                                           \n",
        "                   )\n",
        "\n",
        "print(\"Execution Time = \", (time.time()-start_time))"
      ],
      "execution_count": null,
      "outputs": [
        {
          "output_type": "stream",
          "text": [
            "Epoch 1/50\n",
            "470/470 [==============================] - 40s 17ms/step - loss: 1.5418 - accuracy: 0.4371 - val_loss: 1.2006 - val_accuracy: 0.5690\n",
            "Epoch 2/50\n",
            "470/470 [==============================] - 8s 16ms/step - loss: 1.1042 - accuracy: 0.6107 - val_loss: 0.9358 - val_accuracy: 0.6770\n",
            "Epoch 3/50\n",
            "470/470 [==============================] - 8s 16ms/step - loss: 0.8936 - accuracy: 0.6861 - val_loss: 0.8529 - val_accuracy: 0.7047\n",
            "Epoch 4/50\n",
            "470/470 [==============================] - 8s 16ms/step - loss: 0.7522 - accuracy: 0.7368 - val_loss: 0.8029 - val_accuracy: 0.7283\n",
            "Epoch 5/50\n",
            "470/470 [==============================] - 8s 17ms/step - loss: 0.6455 - accuracy: 0.7759 - val_loss: 0.7485 - val_accuracy: 0.7440\n",
            "Epoch 6/50\n",
            "470/470 [==============================] - 8s 17ms/step - loss: 0.5478 - accuracy: 0.8079 - val_loss: 0.7785 - val_accuracy: 0.7457\n",
            "Epoch 7/50\n",
            "470/470 [==============================] - 8s 17ms/step - loss: 0.4468 - accuracy: 0.8430 - val_loss: 0.7919 - val_accuracy: 0.7397\n",
            "Epoch 8/50\n",
            "470/470 [==============================] - 8s 17ms/step - loss: 0.3675 - accuracy: 0.8713 - val_loss: 0.9019 - val_accuracy: 0.7377\n",
            "Epoch 9/50\n",
            "470/470 [==============================] - 8s 17ms/step - loss: 0.2889 - accuracy: 0.8980 - val_loss: 0.9090 - val_accuracy: 0.7400\n",
            "Epoch 10/50\n",
            "470/470 [==============================] - 8s 17ms/step - loss: 0.2227 - accuracy: 0.9231 - val_loss: 0.9586 - val_accuracy: 0.7413\n",
            "Epoch 11/50\n",
            "470/470 [==============================] - 8s 17ms/step - loss: 0.1814 - accuracy: 0.9359 - val_loss: 0.9843 - val_accuracy: 0.7500\n",
            "Epoch 12/50\n",
            "470/470 [==============================] - 8s 17ms/step - loss: 0.1450 - accuracy: 0.9484 - val_loss: 1.1647 - val_accuracy: 0.7380\n",
            "Epoch 13/50\n",
            "470/470 [==============================] - 8s 16ms/step - loss: 0.1243 - accuracy: 0.9565 - val_loss: 1.1929 - val_accuracy: 0.7380\n",
            "Epoch 14/50\n",
            "470/470 [==============================] - 8s 17ms/step - loss: 0.1093 - accuracy: 0.9608 - val_loss: 1.2682 - val_accuracy: 0.7483\n",
            "Epoch 15/50\n",
            "470/470 [==============================] - 8s 17ms/step - loss: 0.0998 - accuracy: 0.9646 - val_loss: 1.3484 - val_accuracy: 0.7490\n",
            "Epoch 16/50\n",
            "470/470 [==============================] - 8s 17ms/step - loss: 0.0904 - accuracy: 0.9691 - val_loss: 1.2937 - val_accuracy: 0.7437\n",
            "Epoch 17/50\n",
            "470/470 [==============================] - 8s 17ms/step - loss: 0.0858 - accuracy: 0.9700 - val_loss: 1.3562 - val_accuracy: 0.7383\n",
            "Epoch 18/50\n",
            "470/470 [==============================] - 8s 17ms/step - loss: 0.0751 - accuracy: 0.9735 - val_loss: 1.5477 - val_accuracy: 0.7327\n",
            "Epoch 19/50\n",
            "470/470 [==============================] - 8s 17ms/step - loss: 0.0827 - accuracy: 0.9716 - val_loss: 1.5173 - val_accuracy: 0.7430\n",
            "Epoch 20/50\n",
            "470/470 [==============================] - 8s 17ms/step - loss: 0.0793 - accuracy: 0.9730 - val_loss: 1.5170 - val_accuracy: 0.7417\n",
            "Epoch 21/50\n",
            "470/470 [==============================] - 8s 17ms/step - loss: 0.0678 - accuracy: 0.9774 - val_loss: 1.5208 - val_accuracy: 0.7413\n",
            "Epoch 22/50\n",
            "470/470 [==============================] - 8s 17ms/step - loss: 0.0575 - accuracy: 0.9799 - val_loss: 1.8306 - val_accuracy: 0.7283\n",
            "Epoch 23/50\n",
            "470/470 [==============================] - 8s 17ms/step - loss: 0.0637 - accuracy: 0.9780 - val_loss: 1.6800 - val_accuracy: 0.7303\n",
            "Epoch 24/50\n",
            "470/470 [==============================] - 8s 17ms/step - loss: 0.0676 - accuracy: 0.9774 - val_loss: 1.5275 - val_accuracy: 0.7407\n",
            "Epoch 25/50\n",
            "470/470 [==============================] - 8s 17ms/step - loss: 0.0548 - accuracy: 0.9814 - val_loss: 1.7581 - val_accuracy: 0.7453\n",
            "Epoch 26/50\n",
            "470/470 [==============================] - 8s 17ms/step - loss: 0.0617 - accuracy: 0.9798 - val_loss: 1.8691 - val_accuracy: 0.7353\n",
            "Epoch 27/50\n",
            "470/470 [==============================] - 8s 17ms/step - loss: 0.0710 - accuracy: 0.9761 - val_loss: 1.7083 - val_accuracy: 0.7480\n",
            "Epoch 28/50\n",
            "470/470 [==============================] - 8s 17ms/step - loss: 0.0455 - accuracy: 0.9851 - val_loss: 1.8498 - val_accuracy: 0.7407\n",
            "Epoch 29/50\n",
            "470/470 [==============================] - 8s 17ms/step - loss: 0.0430 - accuracy: 0.9853 - val_loss: 1.8331 - val_accuracy: 0.7437\n",
            "Epoch 30/50\n",
            "470/470 [==============================] - 8s 17ms/step - loss: 0.0600 - accuracy: 0.9790 - val_loss: 1.9602 - val_accuracy: 0.7340\n",
            "Epoch 31/50\n",
            "470/470 [==============================] - 8s 17ms/step - loss: 0.0535 - accuracy: 0.9817 - val_loss: 1.9332 - val_accuracy: 0.7430\n",
            "Epoch 32/50\n",
            "470/470 [==============================] - 8s 17ms/step - loss: 0.0616 - accuracy: 0.9795 - val_loss: 1.8659 - val_accuracy: 0.7503\n",
            "Epoch 33/50\n",
            "470/470 [==============================] - 8s 16ms/step - loss: 0.0447 - accuracy: 0.9847 - val_loss: 1.9085 - val_accuracy: 0.7393\n",
            "Epoch 34/50\n",
            "470/470 [==============================] - 8s 17ms/step - loss: 0.0540 - accuracy: 0.9821 - val_loss: 1.9729 - val_accuracy: 0.7330\n",
            "Epoch 35/50\n",
            "470/470 [==============================] - 8s 17ms/step - loss: 0.0425 - accuracy: 0.9856 - val_loss: 1.9032 - val_accuracy: 0.7453\n",
            "Epoch 36/50\n",
            "470/470 [==============================] - 8s 17ms/step - loss: 0.0588 - accuracy: 0.9811 - val_loss: 2.0473 - val_accuracy: 0.7323\n",
            "Epoch 37/50\n",
            "470/470 [==============================] - 8s 17ms/step - loss: 0.0472 - accuracy: 0.9846 - val_loss: 2.1099 - val_accuracy: 0.7283\n",
            "Epoch 38/50\n",
            "470/470 [==============================] - 8s 17ms/step - loss: 0.0373 - accuracy: 0.9874 - val_loss: 2.0042 - val_accuracy: 0.7433\n",
            "Epoch 39/50\n",
            "470/470 [==============================] - 8s 17ms/step - loss: 0.0507 - accuracy: 0.9836 - val_loss: 1.9444 - val_accuracy: 0.7443\n",
            "Epoch 40/50\n",
            "470/470 [==============================] - 8s 17ms/step - loss: 0.0448 - accuracy: 0.9852 - val_loss: 2.0358 - val_accuracy: 0.7377\n",
            "Epoch 41/50\n",
            "470/470 [==============================] - 8s 17ms/step - loss: 0.0421 - accuracy: 0.9862 - val_loss: 2.1811 - val_accuracy: 0.7287\n",
            "Epoch 42/50\n",
            "470/470 [==============================] - 8s 17ms/step - loss: 0.0402 - accuracy: 0.9867 - val_loss: 2.2059 - val_accuracy: 0.7460\n",
            "Epoch 43/50\n",
            "470/470 [==============================] - 8s 17ms/step - loss: 0.0527 - accuracy: 0.9841 - val_loss: 2.1740 - val_accuracy: 0.7337\n",
            "Epoch 44/50\n",
            "470/470 [==============================] - 8s 17ms/step - loss: 0.0384 - accuracy: 0.9874 - val_loss: 2.1700 - val_accuracy: 0.7497\n",
            "Epoch 45/50\n",
            "470/470 [==============================] - 8s 17ms/step - loss: 0.0431 - accuracy: 0.9858 - val_loss: 2.1799 - val_accuracy: 0.7407\n",
            "Epoch 46/50\n",
            "470/470 [==============================] - 8s 17ms/step - loss: 0.0415 - accuracy: 0.9867 - val_loss: 2.1163 - val_accuracy: 0.7353\n",
            "Epoch 47/50\n",
            "470/470 [==============================] - 8s 17ms/step - loss: 0.0424 - accuracy: 0.9865 - val_loss: 2.2037 - val_accuracy: 0.7493\n",
            "Epoch 48/50\n",
            "470/470 [==============================] - 8s 17ms/step - loss: 0.0325 - accuracy: 0.9894 - val_loss: 2.3115 - val_accuracy: 0.7353\n",
            "Epoch 49/50\n",
            "470/470 [==============================] - 8s 17ms/step - loss: 0.0422 - accuracy: 0.9866 - val_loss: 2.1960 - val_accuracy: 0.7380\n",
            "Epoch 50/50\n",
            "470/470 [==============================] - 8s 17ms/step - loss: 0.0457 - accuracy: 0.9860 - val_loss: 2.3884 - val_accuracy: 0.7290\n",
            "Execution Time =  443.06513381004333\n"
          ],
          "name": "stdout"
        }
      ]
    },
    {
      "cell_type": "code",
      "metadata": {
        "colab": {
          "base_uri": "https://localhost:8080/"
        },
        "id": "ZZP2yPclnkGw",
        "outputId": "c19f9998-f8e7-4f63-e03a-9adcf8a0a962"
      },
      "source": [
        "#Check Accuracy\n",
        "preds=model.predict(test_images_norm)\n",
        "\n",
        "#Evaluate the Model-Accuracy\n",
        "loss,accuracy=model.evaluate(test_images_norm,test_labels)\n",
        "print('Test Set Accuracy: ', accuracy*100,'%', 'Test Set Loss: ', loss)\n",
        "\n"
      ],
      "execution_count": null,
      "outputs": [
        {
          "output_type": "stream",
          "text": [
            "313/313 [==============================] - 2s 5ms/step - loss: 2.5361 - accuracy: 0.7223\n",
            "Test Set Accuracy:  72.22999930381775 % Test Set Loss:  2.5361099243164062\n"
          ],
          "name": "stdout"
        }
      ]
    },
    {
      "cell_type": "code",
      "metadata": {
        "colab": {
          "base_uri": "https://localhost:8080/",
          "height": 508
        },
        "id": "44QrU59tnkGw",
        "outputId": "f9eb95ff-4cef-4d35-dfb1-af6c0ea139cb"
      },
      "source": [
        "#Confusion Matrix\n",
        "pred_classes=np.argmax(model.predict(test_images_norm),axis=-1)\n",
        "conf_mx=tf.math.confusion_matrix(test_labels,pred_classes)\n",
        "\n",
        "plt.figure(figsize=(16,8))\n",
        "plt.matshow(conf_mx,cmap=plt.cm.Blues,fignum=1)\n",
        "plt.xlabel('Predicted Classes')\n",
        "plt.ylabel('Actual Classes')\n",
        "plt.show()"
      ],
      "execution_count": null,
      "outputs": [
        {
          "output_type": "display_data",
          "data": {
            "image/png": "[encoded data removed]",
            "text/plain": [
              "<Figure size 1152x576 with 1 Axes>"
            ]
          },
          "metadata": {
            "tags": [],
            "needs_background": "light"
          }
        }
      ]
    },
    {
      "cell_type": "code",
      "metadata": {
        "colab": {
          "base_uri": "https://localhost:8080/"
        },
        "id": "lMKfDs8mnkGx",
        "outputId": "f48295ae-0fa3-4765-b74d-e5de64702a48"
      },
      "source": [
        "#Plotting Performance Metrics\n",
        "\n",
        "hist_dict=history.history\n",
        "hist_dict.keys()"
      ],
      "execution_count": null,
      "outputs": [
        {
          "output_type": "execute_result",
          "data": {
            "text/plain": [
              "dict_keys(['loss', 'accuracy', 'val_loss', 'val_accuracy'])"
            ]
          },
          "metadata": {
            "tags": []
          },
          "execution_count": 17
        }
      ]
    },
    {
      "cell_type": "code",
      "metadata": {
        "id": "PbPNu-66nkG0"
      },
      "source": [
        "losses=history.history['loss']\n",
        "accs=history.history['accuracy']\n",
        "val_losses=history.history['val_loss']\n",
        "val_accs=history.history['val_accuracy']\n",
        "epochs=len(losses)"
      ],
      "execution_count": null,
      "outputs": []
    },
    {
      "cell_type": "code",
      "metadata": {
        "colab": {
          "base_uri": "https://localhost:8080/",
          "height": 269
        },
        "id": "1iTwAmvUnkG3",
        "outputId": "7389aaf2-56a5-4e27-cda4-8a65a76ec6da"
      },
      "source": [
        "plt.figure(figsize=(16, 4))\n",
        "for i, metrics in enumerate(zip([losses, accs], [val_losses, val_accs], ['Loss', 'Accuracy'])):\n",
        "    plt.subplot(1, 2, i + 1)\n",
        "    plt.plot(range(epochs), metrics[0], label='Training {}'.format(metrics[2]))\n",
        "    plt.plot(range(epochs), metrics[1], label='Validation {}'.format(metrics[2]))\n",
        "    plt.legend()\n",
        "plt.show()"
      ],
      "execution_count": null,
      "outputs": [
        {
          "output_type": "display_data",
          "data": {
            "image/png": "[encoded data removed]",
            "text/plain": [
              "<Figure size 1152x288 with 2 Axes>"
            ]
          },
          "metadata": {
            "tags": [],
            "needs_background": "light"
          }
        }
      ]
    },
    {
      "cell_type": "code",
      "metadata": {
        "id": "yYf2moXUqbj1"
      },
      "source": [
        ""
      ],
      "execution_count": null,
      "outputs": []
    },
    {
      "cell_type": "markdown",
      "metadata": {
        "id": "nRHx5H-Zp2ae"
      },
      "source": [
        "##Comparing Loss & Accuracy of all models"
      ]
    },
    {
      "cell_type": "code",
      "metadata": {
        "colab": {
          "base_uri": "https://localhost:8080/",
          "height": 297
        },
        "id": "YSQ3fXvmp0nD",
        "outputId": "d1dd0b87-3924-4b8e-8a3d-74f9e76f54f9"
      },
      "source": [
        "acc_scores=[['1',0.5027],['2',0.4563],['3',0.7277],['4',0.7910],['5',0.7937],['6',0.7934],['7',0.7104],['8',0.7325],['9',0.8060],['10',0.7237],['11',0.8139],['12',0.7223]]\n",
        "acc_scores_df=pd.DataFrame(acc_scores, columns=['Experiment','Accuracy'])\n",
        "\n",
        "#Accuracy\n",
        "sns.lineplot(data=acc_scores_df, x='Experiment',y='Accuracy',marker='o',color='green')\n"
      ],
      "execution_count": null,
      "outputs": [
        {
          "output_type": "execute_result",
          "data": {
            "text/plain": [
              "<matplotlib.axes._subplots.AxesSubplot at 0x7f053d48e990>"
            ]
          },
          "metadata": {
            "tags": []
          },
          "execution_count": 19
        },
        {
          "output_type": "display_data",
          "data": {
            "image/png": "[encoded data removed]",
            "text/plain": [
              "<Figure size 432x288 with 1 Axes>"
            ]
          },
          "metadata": {
            "tags": [],
            "needs_background": "light"
          }
        }
      ]
    },
    {
      "cell_type": "code",
      "metadata": {
        "colab": {
          "base_uri": "https://localhost:8080/",
          "height": 297
        },
        "id": "r1Qf6pVoqOMF",
        "outputId": "6f8a4b8b-a752-4589-cca4-42c5930c5ea3"
      },
      "source": [
        "loss_scores=[['1',1.5008],['2',4.5419],['3',1.5441],['4',0.7784],['5',0.7616],['6',0.8522],['7',1.2761],['8',1.3709],['9',0.6543],['10',1.9923],['11',0.7253],['12',2.5361]]\n",
        "loss_scores_df=pd.DataFrame(loss_scores, columns=['Experiment','Loss'])\n",
        "\n",
        "#Loss\n",
        "sns.lineplot(data=loss_scores_df, x='Experiment',y='Loss',marker='o',color='blue')\n",
        "\n"
      ],
      "execution_count": null,
      "outputs": [
        {
          "output_type": "execute_result",
          "data": {
            "text/plain": [
              "<matplotlib.axes._subplots.AxesSubplot at 0x7f04f00f4390>"
            ]
          },
          "metadata": {
            "tags": []
          },
          "execution_count": 20
        },
        {
          "output_type": "display_data",
          "data": {
            "image/png": "[encoded data removed]",
            "text/plain": [
              "<Figure size 432x288 with 1 Axes>"
            ]
          },
          "metadata": {
            "tags": [],
            "needs_background": "light"
          }
        }
      ]
    },
    {
      "cell_type": "code",
      "metadata": {
        "id": "DSN_FB5JwXjN"
      },
      "source": [
        "#all_scores=[['1',0.3799, 1.5800],['2',0.6875,0.9480],['3',0.9745,0.1311],['4',0.9755,0.1465],['5',0.9329,0.2533],['6',0.9785,0.1269],['7',0.9756,0.0808],['8',0.9562,0.2315],['9',0.9792,0.0915],['10',0.9816,0.0888]]\n",
        "all_scores={'Experiment':['1','2','3','4','5','6','7','8','9','10'],\n",
        " 'Accuracy':[0.3799,0.6875,0.9745,0.9755,0.9329,0.9785,0.9756,0.9562,0.9792,0.9816],\n",
        " 'Loss':[1.5800,0.9480,0.1311,0.1465,0.2533,0.1269,0.0808,0.2315,0.0915,0.0888]}\n",
        "\n",
        "all_scores_df=pd.DataFrame(all_scores, columns=['Experiment','Accuracy','Loss'])\n",
        "\n"
      ],
      "execution_count": null,
      "outputs": []
    },
    {
      "cell_type": "code",
      "metadata": {
        "colab": {
          "base_uri": "https://localhost:8080/",
          "height": 283
        },
        "id": "JojIvx4FxglF",
        "outputId": "b7f1d00b-706d-4d48-fad0-0e3a66485b32"
      },
      "source": [
        "sns.lineplot(data=all_scores_df, marker='o',color='blue')"
      ],
      "execution_count": null,
      "outputs": [
        {
          "output_type": "execute_result",
          "data": {
            "text/plain": [
              "<matplotlib.axes._subplots.AxesSubplot at 0x7f511b3cb490>"
            ]
          },
          "metadata": {
            "tags": []
          },
          "execution_count": 10
        },
        {
          "output_type": "display_data",
          "data": {
            "image/png": "[encoded data removed]",
            "text/plain": [
              "<Figure size 432x288 with 1 Axes>"
            ]
          },
          "metadata": {
            "tags": [],
            "needs_background": "light"
          }
        }
      ]
    },
    {
      "cell_type": "code",
      "metadata": {
        "id": "i3EYFOskLw8o"
      },
      "source": [
        ""
      ],
      "execution_count": null,
      "outputs": []
    }
  ]
}